{
 "cells": [
  {
   "cell_type": "code",
   "execution_count": 1,
   "id": "c7060567",
   "metadata": {},
   "outputs": [],
   "source": [
    "import pandas as pd\n",
    "import seaborn as sns\n",
    "import matplotlib.pyplot as plt\n",
    "import numpy as np\n",
    "\n",
    "import xgboost as xgb\n",
    "from scipy.stats import uniform, randint\n",
    "from sklearn.model_selection import RandomizedSearchCV\n",
    "from sklearn.model_selection import train_test_split\n",
    "from sklearn.model_selection import cross_val_score\n",
    "from sklearn.model_selection import KFold\n",
    "from sklearn.metrics import mean_absolute_error\n",
    "from mlxtend.feature_selection import SequentialFeatureSelector\n",
    "\n",
    "import os\n",
    "from datetime import datetime\n",
    "from github import Github\n",
    "from dotenv import load_dotenv\n",
    "from IPython.display import clear_output\n",
    "\n",
    "pd.set_option('display.max_columns', 200)\n",
    "pd.set_option('display.max_rows', 50)\n",
    "plt.style.use('ggplot')\n",
    "\n",
    "load_dotenv()\n",
    "GITHUB_API_KEY = os.environ['GITHUB_API_KEY']"
   ]
  },
  {
   "cell_type": "code",
   "execution_count": 2,
   "id": "dddc959c",
   "metadata": {},
   "outputs": [],
   "source": [
    "COLUMNS_TO_KEEP = ['Price', 'Latitude', 'Longitude', 'District', 'Layout', 'Floor Space',\n",
    "                    'Fees', 'Furnishing and Fittings', 'Floor', 'Balcony', 'Terrace',\n",
    "                    'Cellar', 'Parking', 'Lift', 'Garage', 'Kindergarten', 'Design',\n",
    "                    'Public transport stop', 'Shop', 'Restaurant', 'School', 'Age',\n",
    "                    'Sports field', 'Condition', 'Building Type', 'PENB', 'Heating',\n",
    "                    'Renovation']\n",
    "\n",
    "MOST_POPULAR_DISCTRICTS = ['Vinohrady', 'Žižkov', 'Nové Město', 'Holešovice', 'Nusle', 'Smíchov',\n",
    "                            'Libeň', 'Vršovice', 'Stodůlky', 'Strašnice', 'Karlín', 'Záběhlice',\n",
    "                            'Chodov', 'Vysočany', 'Michle']\n",
    "\n",
    "COL_REPLACE = {'Building type':'Building Type', 'Floor space':'Floor Space',\n",
    "                    'EPC':'PENB', 'public_transport':'Public transport stop', 'shop':'Shop',\n",
    "                    'restaurant':'Restaurant', 'pharmacy':'Pharmacy', 'school':'School',\n",
    "                    'kindergarten':'Kindergarten', 'sports_field':'Sports field',\n",
    "                    'Reconstruction':'Renovation', 'Fully furnished':'Furnishing and Fittings',\n",
    "                    'Designe':'Design'}\n",
    "\n",
    "ROOMS_WITH_KITCHEN = ['Small studio','Studio','1 bedroom with open-plan kitchen','2 bedroom with open-plan kitchen', '3 bedroom with open-plan kitchen',\n",
    "                    '4 bedroom with open-plan kitchen', '5 bedroom with open-plan kitchen', '6 bedroom with open-plan kitchen', '1+kk', '2+kk', '3+kk',\n",
    "                    '4+kk', '5+kk', '6+kk']"
   ]
  },
  {
   "cell_type": "code",
   "execution_count": 3,
   "id": "fe8fa638",
   "metadata": {},
   "outputs": [],
   "source": [
    "g = Github(GITHUB_API_KEY)\n",
    "repo = g.get_user().get_repo('Estate-Prague')\n",
    "contents = repo.get_contents(\"data-rental\")"
   ]
  },
  {
   "cell_type": "code",
   "execution_count": null,
   "id": "0d0e6ad3",
   "metadata": {},
   "outputs": [],
   "source": []
  },
  {
   "cell_type": "code",
   "execution_count": 98,
   "id": "fcd46c1c",
   "metadata": {},
   "outputs": [],
   "source": [
    "# Extracting unique apartment listings available on Jan, Feb, March 2022\n",
    "\n",
    "# df_I_II_III = pd.DataFrame()\n",
    "# for i in contents[:63]:\n",
    "#     url = i.download_url\n",
    "#     df_ = pd.read_csv(url)\n",
    "#     df_I_II_III = pd.concat([df_I_II_III,df_],axis=0,ignore_index=True)\n",
    "# df_I_II_III = df_I_II_III.drop_duplicates(subset=['Listing ID','Floor Space'], keep='first')\n",
    "# df_I_II_III.to_csv(\"df_I_II_IIII.csv\",index=False)"
   ]
  },
  {
   "cell_type": "code",
   "execution_count": 4,
   "id": "d71d609a",
   "metadata": {},
   "outputs": [],
   "source": [
    "def district_extract(string):\n",
    "    try:\n",
    "        district = string.split('Prague - ')[1]\n",
    "    except:\n",
    "        district = string\n",
    "    return district\n",
    "\n",
    "def rare_district_renaming(district):\n",
    "    if district not in MOST_POPULAR_DISCTRICTS:\n",
    "        return np.nan\n",
    "    else:\n",
    "        return district\n",
    "\n",
    "def kitchen(i):\n",
    "    if i in ROOMS_WITH_KITCHEN:\n",
    "        return 0\n",
    "    else:\n",
    "        return 1\n",
    "\n",
    "def number_conversion(number):\n",
    "    if number != number:\n",
    "        return np.nan\n",
    "    else:\n",
    "        n = str(number).replace(',','')\n",
    "        n = float(n)\n",
    "        n = int(n)\n",
    "        return n\n",
    "\n",
    "def preprocessing(dfx):\n",
    "\n",
    "    df_ = dfx.copy()\n",
    "    df_.set_index('Listing ID')\n",
    "    print(f\"Total number of ads: \\t\\t\\t\\t{len(df_)}\")\n",
    "\n",
    "    # Replacing column names in order to match old and new version of bezrealitky website\n",
    "    col_names = df_.columns\n",
    "    for item in COL_REPLACE.items():\n",
    "        col_names = [column.replace(item[0],item[1]) for column in col_names]                    \n",
    "    df_.columns = col_names\n",
    "\n",
    "    # Keeping significant columns only\n",
    "    df_ = df_[COLUMNS_TO_KEEP]\n",
    "\n",
    "    # Extracting the names of the district\n",
    "    df_['District'] = df_['District'].apply(district_extract)\n",
    "\n",
    "    # Keeping only 15 most popular district\n",
    "    df_['District'] = df_['District'].apply(rare_district_renaming)\n",
    "\n",
    "    # Extracting the numerical values\n",
    "    df_['Price'] = pd.to_numeric(df_['Price'].str.replace('CZK ','').str.replace('€','-').str.replace(',',''))\n",
    "    df_['Fees'] = pd.to_numeric(df_['Fees'].str.replace('CZK ','').str.replace('€','-').str.replace(',',''))\n",
    "    df_['Floor Space'] = pd.to_numeric(df_['Floor Space'].str.replace(',','').str.replace(' m²',''))\n",
    "    \n",
    "    # Deleting ads with missing fee value\n",
    "    df_ = df_.dropna(subset=['Fees'])\n",
    "    print(f\"Number of ads after droping missing fees: \\t{len(df_)}\")\n",
    "    \n",
    "    # Removing outliers\n",
    "    df_ = df_[df_['Floor Space']>10]\n",
    "    df_ = df_[df_['Floor Space']<125]\n",
    "    df_ = df_[df_['Price']>3000]\n",
    "    df_ = df_[df_['Price']<30000]\n",
    "    df_ = df_[df_['Fees']<10000]\n",
    "    df_ = df_[df_['Fees']>400]\n",
    "    print(f\"Number of ads after removing outliers: \\t\\t{len(df_)}\")\n",
    "\n",
    "    # Removing Flatio offers\n",
    "    df_['ratio'] = df_['Price']/df_['Fees']\n",
    "    df_ = df_[(df_['ratio'] < 2.999) | (df_['ratio'] > 3.001)]\n",
    "    df_ = df_.drop('ratio',axis=1) \n",
    "    print(f\"Number of ads after removing Flatio offers: \\t{len(df_)}\")\n",
    "\n",
    "    # Total cost\n",
    "    df_['Total price'] = df_['Price']+df_['Fees']\n",
    "    df_ = df_.drop('Price',axis=1) \n",
    "    df_ = df_.drop('Fees',axis=1) \n",
    "\n",
    "    # Assiging if ad has separate kitchen\n",
    "    df_['Separate_kitchen'] = df_['Layout'].copy()\n",
    "    df_['Separate_kitchen'] = df_['Separate_kitchen'].apply(kitchen)\n",
    "\n",
    "    # Maping ordinal values\n",
    "    df_['Layout'] = df_['Layout'].map({\n",
    "        'Small studio':0.5, 'Studio':1,\n",
    "        '1 bedroom with open-plan kitchen':2, '1 bedroom':1,\n",
    "        '2 bedroom with open-plan kitchen':3, '2 bedroom':2,\n",
    "        '3 bedroom with open-plan kitchen':4, '3 bedroom':3,\n",
    "        '4 bedroom with open-plan kitchen':5, '4 bedroom':4,\n",
    "        '5 bedroom with open-plan kitchen':6, '5 bedroom':5,\n",
    "        '6 bedroom with open-plan kitchen':7, '6 bedroom':6,\n",
    "        '1+1':1, '2+1':2, '3+1':3, '4+1':4, '5+1':5, '6+1':6,\n",
    "        '1+kk':1, '2+kk':2, '3+kk':3, '4+kk':4, '5+kk':5, '6+kk':6})\n",
    "\n",
    "    df_['PENB'] = df_['PENB'].map({'G':7,'F':6,'E':5,'D':4,'C':3,'B':2,'A':1})\n",
    "\n",
    "    # Maping binary values\n",
    "    df_['Balcony'] = pd.to_numeric(df_['Balcony'].replace({'Yes':1,'No':0}).fillna(0), downcast='integer')\n",
    "    df_['Terrace'] = pd.to_numeric(df_['Terrace'].replace({'Yes':1,'No':0}).fillna(0), downcast='integer')\n",
    "    df_['Cellar'] = pd.to_numeric(df_['Cellar'].replace({'Yes':1,'No':0}).fillna(0), downcast='integer')\n",
    "    df_['Parking'] = pd.to_numeric(df_['Parking'].replace({'Yes':1,'No':0}).fillna(0), downcast='integer')\n",
    "    df_['Lift'] = pd.to_numeric(df_['Lift'].replace({'Yes':1,'No':0}).fillna(0), downcast='integer')\n",
    "    df_['Garage'] = pd.to_numeric(df_['Garage'].replace({'Yes':1,'No':0}).fillna(0), downcast='integer')\n",
    "    # df_['Loggia'] = df_['Loggia'].map({'Yes':1,'No':0})\n",
    "\n",
    "    # Exctacting nummerical values from POIs\n",
    "    df_['Kindergarten'] = df_['Kindergarten'].apply(number_conversion)\n",
    "    df_['Shop'] = df_['Shop'].apply(number_conversion)\n",
    "    df_['Restaurant'] = df_['Restaurant'].apply(number_conversion)\n",
    "    df_['School'] = df_['School'].apply(number_conversion)\n",
    "    df_['Sports field'] = df_['Sports field'].apply(number_conversion)\n",
    "    df_['Public transport stop'] = df_['Public transport stop'].apply(number_conversion)\n",
    "    \n",
    "    # Naming change to match old and new version of bezrealitky website\n",
    "    df_['Furnishing and Fittings'] = df_['Furnishing and Fittings'].replace({'Partially furnished':'Partly','Fully furnished':'Furnished'})\n",
    "    df_['Design'] = df_['Design'].replace({'Standard materials and solutions':'Standard','Premium materials and solutions':'Luxurious'})\n",
    "    df_['Age'] = df_['Age'].replace({'1 to 10 years years':'Up to 10 years','10 to 30 years years':'10 to 30 years','30 to 50 years years':'30 - 50 years','over 50 years years':'Over 50 years'})\n",
    "    df_['Condition'] = df_['Condition'].replace({'Excellent':'Very good','New build':'New-build'})\n",
    "    df_['Building Type'] = df_['Building Type'].replace({'Brick building':'Brick','Prefab concrete building':'Prefab concrete','Low-energy building':'Low-energy'})\n",
    "    df_['Heating'] = df_['Heating'].replace({'Central heating':'Central','District heating':'Distance','Other':np.nan,'Geothermal heat pump':np.nan,'Geothermal':np.nan})\n",
    "    df_['Renovation'] = df_['Renovation'].replace({'Overall':'Complete','Exterior':np.nan,'Bathroom unit':np.nan})\n",
    "\n",
    "    # Filling missing values\n",
    "    df_['Floor'] = df_['Floor'].fillna(1)\n",
    "    df_['PENB'] = df_['PENB'].fillna(df_.groupby('Building Type')['PENB'].transform('median'))\n",
    "    df_['Public transport stop'] = df_['Public transport stop'].fillna(df_['Public transport stop'].median())\n",
    "    df_['Shop'] = df_['Shop'].fillna(df_['Shop'].median())\n",
    "    df_['Restaurant'] = df_['Restaurant'].fillna(df_['Restaurant'].median())\n",
    "    df_['School'] = df_['School'].fillna(df_['School'].median())\n",
    "    df_['Kindergarten'] = df_['Kindergarten'].fillna(df_['Kindergarten'].median())\n",
    "    df_['Sports field'] = df_['Sports field'].fillna(df_['Sports field'].median())\n",
    "\n",
    "    # Grouping values\n",
    "    df_.loc[df_['Floor']>10,'Floor'] = 10\n",
    "\n",
    "    # Removing ads with missing layout\n",
    "    df_ = df_.dropna(subset=['Layout'])\n",
    "    print(f\"Number of ads after removing missing layout: \\t{len(df_)}\")\n",
    "\n",
    "    # Removing extreme cases\n",
    "    df_ = df_[df_['Condition'] != 'Development project']\n",
    "    df_ = df_[df_['Condition'] != 'Wrong']\n",
    "    df_ = df_[df_['Building Type'] != 'Wooden building']\n",
    "    print(f\"Number of ads after removing extreme cases: \\t{len(df_)}\")\n",
    "\n",
    "    return df_\n"
   ]
  },
  {
   "cell_type": "code",
   "execution_count": 5,
   "id": "252d0f01",
   "metadata": {},
   "outputs": [
    {
     "name": "stdout",
     "output_type": "stream",
     "text": [
      "Total number of ads: \t\t\t\t6265\n",
      "Number of ads after droping missing fees: \t6156\n",
      "Number of ads after removing outliers: \t\t5621\n",
      "Number of ads after removing Flatio offers: \t5129\n",
      "Number of ads after removing missing layout: \t5120\n",
      "Number of ads after removing extreme cases: \t5115\n"
     ]
    }
   ],
   "source": [
    "df_I_II_III = pd.read_csv('df_I_II_III.csv')\n",
    "df_I_II_III = preprocessing(df_I_II_III)\n",
    "y = df_I_II_III['Total price']\n",
    "X = df_I_II_III.drop('Total price',axis=1)\n",
    "X = pd.get_dummies(X,drop_first=False)\n",
    "X.columns = X.columns.str.replace(' ','_')\n",
    "X_train, X_test, y_train, y_test = train_test_split(X,y,test_size=0.2,random_state=101,shuffle=True)"
   ]
  },
  {
   "cell_type": "code",
   "execution_count": 6,
   "id": "dd2db70c",
   "metadata": {},
   "outputs": [],
   "source": [
    "def evaluation(model,X_train,X_test,y_train,y_test):\n",
    "    y_pred_train = model.predict(X_train)\n",
    "    y_pred = model.predict(X_test)\n",
    "\n",
    "    MAE = mean_absolute_error(y_test,y_pred)\n",
    "    ERR = np.mean(np.abs(y_test-y_pred)*100/y_test)\n",
    "    MAE2 = mean_absolute_error(y_train,y_pred_train)\n",
    "    ERR2 = np.mean(np.abs(y_train-y_pred_train)*100/y_train)\n",
    "\n",
    "    print(f'Mean absolute error (train):\\t{np.round(MAE2)} CZK \\t({np.round(ERR2,1)}%)')\n",
    "    print(f'Mean absolute error (test):\\t{np.round(MAE)} CZK \\t({np.round(ERR,1)}%)')"
   ]
  },
  {
   "cell_type": "markdown",
   "id": "27cea9f5",
   "metadata": {},
   "source": [
    "### XGBoost - Hyperparameters tuning"
   ]
  },
  {
   "cell_type": "code",
   "execution_count": 11,
   "id": "3df0786e",
   "metadata": {},
   "outputs": [
    {
     "name": "stdout",
     "output_type": "stream",
     "text": [
      "Evaluation:\n",
      "Mean absolute error (train):\t1638.0 CZK \t(9.7%)\n",
      "Mean absolute error (test):\t1837.0 CZK \t(10.6%)\n"
     ]
    }
   ],
   "source": [
    "grid_paramters = { 'n_estimators': [300],\n",
    "                   'eta': [0.15],\n",
    "                   'gamma': [0.25,0.5,0.75,1],\n",
    "                   'max_depth':[2],\n",
    "                   'subsample': [0.8,0.9,0.95],\n",
    "                   'colsample_bytree': [0.8,0.9,0.95],\n",
    "                   'colsample_bylevel': [0.8,0.9,0.95],\n",
    "                   'colsample_bynode' : [0.8,0.9,0.95],\n",
    "                   'min_child_weight': [0,2.5,5,7.5,10],\n",
    "                   'reg_lambda': [0,2.5,5,9,15,30,60,120],\n",
    "                   'reg_alpha': [1,10,25,50,100,150,200]}\n",
    "\n",
    "xgb1_grid = RandomizedSearchCV( estimator = xgb.XGBRegressor(early_stopping_rounds=10, eval_metric='mae', verbosity=0),\n",
    "                                param_distributions = grid_paramters,\n",
    "                                scoring = 'neg_mean_absolute_error',\n",
    "                                n_iter = 250,\n",
    "                                cv = 5,\n",
    "                                verbose = 0,\n",
    "                                n_jobs = -1)\n",
    "\n",
    "xgb1_grid.fit(X_train,y_train,eval_set=[(X_test, y_test),(X_train,y_train)],verbose=False)\n",
    "\n",
    "print(\"Evaluation:\")\n",
    "evaluation(xgb1_grid,X_train,X_test,y_train,y_test)"
   ]
  },
  {
   "cell_type": "code",
   "execution_count": 18,
   "id": "346b32ec",
   "metadata": {},
   "outputs": [
    {
     "name": "stdout",
     "output_type": "stream",
     "text": [
      "Stored 'best_hyperp_2' (dict)\n"
     ]
    }
   ],
   "source": [
    "best_hyperp_2 = xgb1_grid.best_params_\n",
    "best_hyperp_2['n_estimators'] = 150\n",
    "%store best_hyperp_2"
   ]
  },
  {
   "cell_type": "code",
   "execution_count": 12,
   "id": "b4db238d",
   "metadata": {},
   "outputs": [
    {
     "data": {
      "image/png": "[encoded data removed]",
      "text/plain": [
       "<Figure size 720x450 with 1 Axes>"
      ]
     },
     "metadata": {},
     "output_type": "display_data"
    }
   ],
   "source": [
    "results = xgb1_grid.best_estimator_.evals_result()\n",
    "epochs = len(results['validation_0']['mae'])\n",
    "x_axis = range(0, epochs)\n",
    "\n",
    "plt.figure(figsize=(8,5),dpi=90)\n",
    "sns.lineplot(x=x_axis,y=results['validation_0']['mae']).set(title='MAE Train/Test')\n",
    "sns.lineplot(x=x_axis,y=results['validation_1']['mae'])\n",
    "plt.ylim(1500,2500);"
   ]
  },
  {
   "cell_type": "code",
   "execution_count": 19,
   "id": "5b9f3aff",
   "metadata": {},
   "outputs": [
    {
     "name": "stderr",
     "output_type": "stream",
     "text": [
      "ntree_limit is deprecated, use `iteration_range` or model slicing instead.\n"
     ]
    },
    {
     "data": {
      "image/png": "[encoded data removed]",
      "text/plain": [
       "<Figure size 576x828 with 1 Axes>"
      ]
     },
     "metadata": {},
     "output_type": "display_data"
    }
   ],
   "source": [
    "import shap\n",
    "\n",
    "xgb0 = xgb.XGBRegressor(**best_hyperp_2,eval_metric='mae', verbosity=0)\n",
    "xgb0.fit(X,y,verbose=False)\n",
    "\n",
    "explainer = shap.Explainer(xgb0)\n",
    "shap_values = explainer(X)\n",
    "shap.plots.bar(shap_values,max_display=20)"
   ]
  },
  {
   "cell_type": "code",
   "execution_count": 20,
   "id": "e40736e4",
   "metadata": {},
   "outputs": [
    {
     "name": "stdout",
     "output_type": "stream",
     "text": [
      "Processing file: Prague-2022-08-20.csv\n",
      "Total number of ads: \t\t\t\t835\n",
      "Number of ads after droping missing fees: \t835\n",
      "Number of ads after removing outliers: \t\t678\n",
      "Number of ads after removing Flatio offers: \t629\n",
      "Number of ads after removing missing layout: \t626\n",
      "Number of ads after removing extreme cases: \t626\n"
     ]
    }
   ],
   "source": [
    "%store -r\n",
    "\n",
    "g = Github(GITHUB_API_KEY)\n",
    "repo = g.get_user().get_repo('Estate-Prague')\n",
    "contents = repo.get_contents(\"data-rental\")\n",
    "\n",
    "df_I_II_III = pd.read_csv('df_I_II_III.csv')\n",
    "df_I_II_III = preprocessing(df_I_II_III)\n",
    "X_sample = df_I_II_III.sample(5000, random_state=101).drop('Total price',axis=1)\n",
    "X_sample = pd.get_dummies(X_sample,drop_first=False)\n",
    "X_sample.columns = X_sample.columns.str.replace(' ','_')\n",
    "\n",
    "date_list=[]\n",
    "prediction_list=[]\n",
    "volume_list=[]\n",
    "\n",
    "for file in contents:\n",
    "    clear_output(wait=True)\n",
    "    print(f'Processing file: {file.name}')\n",
    "    url = file.download_url\n",
    "    df = pd.read_csv(url)\n",
    "    df = preprocessing(df)\n",
    "\n",
    "    y = df['Total price']\n",
    "    X = pd.get_dummies(df.drop('Total price',axis=1),drop_first=False)\n",
    "    X.columns = X.columns.str.replace(' ','_')\n",
    "    xgb0 = xgb.XGBRegressor(**best_hyperp_2, eval_metric='mae', verbosity=0)\n",
    "    xgb0.fit(X,y)\n",
    "\n",
    "    y_sample_predition = xgb0.predict(X_sample)\n",
    "    size_listing = len(df)\n",
    "    prediction_list.append(y_sample_predition)\n",
    "    volume_list.append(size_listing)\n",
    "    date_list.append(datetime.strptime(file.name, 'Prague-%Y-%m-%d.csv'))"
   ]
  },
  {
   "cell_type": "code",
   "execution_count": 21,
   "id": "21e777e2",
   "metadata": {},
   "outputs": [],
   "source": [
    "price_change = []\n",
    "for prediction in prediction_list:\n",
    "    delta = ((prediction-prediction_list[0])/prediction_list[0]).mean()*100\n",
    "    price_change.append(delta)"
   ]
  },
  {
   "cell_type": "code",
   "execution_count": 22,
   "id": "d04c1fcb",
   "metadata": {},
   "outputs": [
    {
     "data": {
      "application/vnd.plotly.v1+json": {
       "config": {
        "plotlyServerURL": "https://plot.ly"
       },
       "data": [
        {
         "type": "scatter",
         "x": [
          "2022-01-01T00:00:00",
          "2022-01-05T00:00:00",
          "2022-01-06T00:00:00",
          "2022-01-08T00:00:00",
          "2022-01-09T00:00:00",
          "2022-01-10T00:00:00",
          "2022-01-11T00:00:00",
          "2022-01-12T00:00:00",
          "2022-01-13T00:00:00",
          "2022-01-14T00:00:00",
          "2022-01-15T00:00:00",
          "2022-01-16T00:00:00",
          "2022-01-18T00:00:00",
          "2022-01-19T00:00:00",
          "2022-01-20T00:00:00",
          "2022-01-21T00:00:00",
          "2022-01-22T00:00:00",
          "2022-01-23T00:00:00",
          "2022-01-24T00:00:00",
          "2022-01-25T00:00:00",
          "2022-01-26T00:00:00",
          "2022-01-28T00:00:00",
          "2022-01-29T00:00:00",
          "2022-01-31T00:00:00",
          "2022-02-01T00:00:00",
          "2022-02-02T00:00:00",
          "2022-02-03T00:00:00",
          "2022-02-04T00:00:00",
          "2022-02-05T00:00:00",
          "2022-02-06T00:00:00",
          "2022-02-07T00:00:00",
          "2022-02-08T00:00:00",
          "2022-02-10T00:00:00",
          "2022-02-15T00:00:00",
          "2022-02-16T00:00:00",
          "2022-02-18T00:00:00",
          "2022-02-20T00:00:00",
          "2022-02-22T00:00:00",
          "2022-02-23T00:00:00",
          "2022-02-24T00:00:00",
          "2022-02-25T00:00:00",
          "2022-03-03T00:00:00",
          "2022-03-04T00:00:00",
          "2022-03-05T00:00:00",
          "2022-03-07T00:00:00",
          "2022-03-09T00:00:00",
          "2022-03-10T00:00:00",
          "2022-03-11T00:00:00",
          "2022-03-12T00:00:00",
          "2022-03-13T00:00:00",
          "2022-03-14T00:00:00",
          "2022-03-15T00:00:00",
          "2022-03-16T00:00:00",
          "2022-03-17T00:00:00",
          "2022-03-18T00:00:00",
          "2022-03-19T00:00:00",
          "2022-03-20T00:00:00",
          "2022-03-21T00:00:00",
          "2022-03-22T00:00:00",
          "2022-03-23T00:00:00",
          "2022-03-26T00:00:00",
          "2022-03-27T00:00:00",
          "2022-03-28T00:00:00",
          "2022-04-02T00:00:00",
          "2022-04-07T00:00:00",
          "2022-04-08T00:00:00",
          "2022-04-10T00:00:00",
          "2022-04-11T00:00:00",
          "2022-04-12T00:00:00",
          "2022-04-13T00:00:00",
          "2022-04-14T00:00:00",
          "2022-04-17T00:00:00",
          "2022-04-18T00:00:00",
          "2022-04-19T00:00:00",
          "2022-04-20T00:00:00",
          "2022-04-21T00:00:00",
          "2022-04-23T00:00:00",
          "2022-04-24T00:00:00",
          "2022-04-25T00:00:00",
          "2022-04-26T00:00:00",
          "2022-04-28T00:00:00",
          "2022-04-29T00:00:00",
          "2022-04-30T00:00:00",
          "2022-05-02T00:00:00",
          "2022-05-03T00:00:00",
          "2022-05-04T00:00:00",
          "2022-05-05T00:00:00",
          "2022-05-07T00:00:00",
          "2022-05-08T00:00:00",
          "2022-05-09T00:00:00",
          "2022-05-10T00:00:00",
          "2022-05-12T00:00:00",
          "2022-05-13T00:00:00",
          "2022-05-14T00:00:00",
          "2022-05-15T00:00:00",
          "2022-05-16T00:00:00",
          "2022-05-18T00:00:00",
          "2022-05-19T00:00:00",
          "2022-05-20T00:00:00",
          "2022-05-21T00:00:00",
          "2022-05-23T00:00:00",
          "2022-05-24T00:00:00",
          "2022-05-25T00:00:00",
          "2022-06-25T00:00:00",
          "2022-06-26T00:00:00",
          "2022-06-27T00:00:00",
          "2022-06-28T00:00:00",
          "2022-06-29T00:00:00",
          "2022-06-30T00:00:00",
          "2022-07-01T00:00:00",
          "2022-07-02T00:00:00",
          "2022-07-03T00:00:00",
          "2022-07-04T00:00:00",
          "2022-07-05T00:00:00",
          "2022-07-06T00:00:00",
          "2022-07-07T00:00:00",
          "2022-07-08T00:00:00",
          "2022-07-09T00:00:00",
          "2022-07-10T00:00:00",
          "2022-07-11T00:00:00",
          "2022-07-12T00:00:00",
          "2022-07-13T00:00:00",
          "2022-07-14T00:00:00",
          "2022-07-15T00:00:00",
          "2022-07-16T00:00:00",
          "2022-07-17T00:00:00",
          "2022-07-18T00:00:00",
          "2022-07-19T00:00:00",
          "2022-07-20T00:00:00",
          "2022-07-21T00:00:00",
          "2022-07-22T00:00:00",
          "2022-07-23T00:00:00",
          "2022-07-24T00:00:00",
          "2022-07-25T00:00:00",
          "2022-07-26T00:00:00",
          "2022-07-27T00:00:00",
          "2022-07-28T00:00:00",
          "2022-07-29T00:00:00",
          "2022-07-30T00:00:00",
          "2022-07-31T00:00:00",
          "2022-08-01T00:00:00",
          "2022-08-02T00:00:00",
          "2022-08-03T00:00:00",
          "2022-08-04T00:00:00",
          "2022-08-05T00:00:00",
          "2022-08-06T00:00:00",
          "2022-08-07T00:00:00",
          "2022-08-08T00:00:00",
          "2022-08-09T00:00:00",
          "2022-08-10T00:00:00",
          "2022-08-11T00:00:00",
          "2022-08-12T00:00:00",
          "2022-08-13T00:00:00",
          "2022-08-14T00:00:00",
          "2022-08-15T00:00:00",
          "2022-08-16T00:00:00",
          "2022-08-17T00:00:00",
          "2022-08-18T00:00:00",
          "2022-08-19T00:00:00",
          "2022-08-20T00:00:00"
         ],
         "xaxis": "x",
         "y": [
          0,
          -0.15593913849443197,
          0.1606755773536861,
          -0.07033491274341941,
          -0.006986041262280196,
          0.2997427945956588,
          0.19947222899645567,
          0.34815811086446047,
          0.23759829346090555,
          0.3012752626091242,
          0.4993055947124958,
          0.23177440743893385,
          0.3763629589229822,
          0.7651666179299355,
          0.6560237146914005,
          0.5290606059134007,
          0.5609911400824785,
          0.8342270739376545,
          0.8834430947899818,
          0.8788763545453548,
          0.9288329631090164,
          1.0102460160851479,
          0.8063461631536484,
          0.946021918207407,
          1.122366450726986,
          1.4051464386284351,
          1.3616143725812435,
          1.553206518292427,
          1.5698334202170372,
          1.414409652352333,
          1.6587099060416222,
          1.4465566724538803,
          1.4321456663310528,
          1.5455941669642925,
          1.6074780374765396,
          1.7770254984498024,
          1.8324146047234535,
          1.924661546945572,
          1.7768502235412598,
          1.9803231582045555,
          2.2387558594346046,
          3.1021825969219208,
          2.873891033232212,
          2.881915308535099,
          3.2732192426919937,
          3.362996131181717,
          3.921644762158394,
          3.83329838514328,
          3.7885118275880814,
          3.506029024720192,
          3.518914058804512,
          3.634204715490341,
          3.5643070936203003,
          3.4206572920084,
          3.4608162939548492,
          3.656250238418579,
          3.643295168876648,
          3.8603339344263077,
          4.352866485714912,
          4.482382163405418,
          4.58611436188221,
          5.289917066693306,
          4.486588388681412,
          5.503280460834503,
          5.820052325725555,
          5.7850416749715805,
          5.524119734764099,
          6.123150512576103,
          6.152824684977531,
          5.995125696063042,
          6.668200343847275,
          6.898636370897293,
          6.778550148010254,
          6.679746508598328,
          6.610558927059174,
          6.3811540603637695,
          7.316242903470993,
          7.560259103775024,
          7.641590386629105,
          7.676376402378082,
          7.996886223554611,
          8.379601687192917,
          8.322778344154358,
          8.781643956899643,
          8.393365889787674,
          8.25834572315216,
          8.578019589185715,
          9.595571458339691,
          10.07787138223648,
          9.444287419319153,
          9.91278812289238,
          9.881848096847534,
          10.175395756959915,
          9.690778702497482,
          9.641861915588379,
          9.682940691709518,
          10.081040114164352,
          10.078013688325882,
          10.035555064678192,
          10.02204492688179,
          10.10516956448555,
          9.948154538869858,
          9.995660185813904,
          11.369677633047104,
          11.440135538578033,
          11.714671552181244,
          11.81810200214386,
          11.700697243213654,
          11.797919869422913,
          11.927500367164612,
          11.91730946302414,
          11.532460898160934,
          11.899379640817642,
          12.02782690525055,
          11.989511549472809,
          12.078190594911575,
          11.645566672086716,
          12.079595029354095,
          12.276653200387955,
          12.869679927825928,
          13.15445601940155,
          12.82365471124649,
          13.244819641113281,
          13.456693291664124,
          13.362708687782288,
          12.752699851989746,
          12.718798220157623,
          12.776076793670654,
          13.454003632068634,
          13.183054327964783,
          13.79828155040741,
          14.242833852767944,
          14.572128653526306,
          14.52522724866867,
          14.38111811876297,
          15.207971632480621,
          14.62225615978241,
          15.50779789686203,
          14.707322418689728,
          15.012706816196442,
          15.279871225357056,
          15.42230099439621,
          15.573805570602417,
          15.660354495048523,
          16.099728643894196,
          15.742403268814087,
          15.79640656709671,
          15.383914113044739,
          16.0391166806221,
          16.03282541036606,
          15.952451527118683,
          16.63231998682022,
          17.423976957798004,
          17.30162352323532,
          16.74220710992813,
          17.472192645072937,
          17.235207557678223,
          16.80498868227005,
          17.334748804569244,
          16.276858747005463
         ],
         "yaxis": "y"
        },
        {
         "type": "bar",
         "x": [
          "2022-01-01T00:00:00",
          "2022-01-05T00:00:00",
          "2022-01-06T00:00:00",
          "2022-01-08T00:00:00",
          "2022-01-09T00:00:00",
          "2022-01-10T00:00:00",
          "2022-01-11T00:00:00",
          "2022-01-12T00:00:00",
          "2022-01-13T00:00:00",
          "2022-01-14T00:00:00",
          "2022-01-15T00:00:00",
          "2022-01-16T00:00:00",
          "2022-01-18T00:00:00",
          "2022-01-19T00:00:00",
          "2022-01-20T00:00:00",
          "2022-01-21T00:00:00",
          "2022-01-22T00:00:00",
          "2022-01-23T00:00:00",
          "2022-01-24T00:00:00",
          "2022-01-25T00:00:00",
          "2022-01-26T00:00:00",
          "2022-01-28T00:00:00",
          "2022-01-29T00:00:00",
          "2022-01-31T00:00:00",
          "2022-02-01T00:00:00",
          "2022-02-02T00:00:00",
          "2022-02-03T00:00:00",
          "2022-02-04T00:00:00",
          "2022-02-05T00:00:00",
          "2022-02-06T00:00:00",
          "2022-02-07T00:00:00",
          "2022-02-08T00:00:00",
          "2022-02-10T00:00:00",
          "2022-02-15T00:00:00",
          "2022-02-16T00:00:00",
          "2022-02-18T00:00:00",
          "2022-02-20T00:00:00",
          "2022-02-22T00:00:00",
          "2022-02-23T00:00:00",
          "2022-02-24T00:00:00",
          "2022-02-25T00:00:00",
          "2022-03-03T00:00:00",
          "2022-03-04T00:00:00",
          "2022-03-05T00:00:00",
          "2022-03-07T00:00:00",
          "2022-03-09T00:00:00",
          "2022-03-10T00:00:00",
          "2022-03-11T00:00:00",
          "2022-03-12T00:00:00",
          "2022-03-13T00:00:00",
          "2022-03-14T00:00:00",
          "2022-03-15T00:00:00",
          "2022-03-16T00:00:00",
          "2022-03-17T00:00:00",
          "2022-03-18T00:00:00",
          "2022-03-19T00:00:00",
          "2022-03-20T00:00:00",
          "2022-03-21T00:00:00",
          "2022-03-22T00:00:00",
          "2022-03-23T00:00:00",
          "2022-03-26T00:00:00",
          "2022-03-27T00:00:00",
          "2022-03-28T00:00:00",
          "2022-04-02T00:00:00",
          "2022-04-07T00:00:00",
          "2022-04-08T00:00:00",
          "2022-04-10T00:00:00",
          "2022-04-11T00:00:00",
          "2022-04-12T00:00:00",
          "2022-04-13T00:00:00",
          "2022-04-14T00:00:00",
          "2022-04-17T00:00:00",
          "2022-04-18T00:00:00",
          "2022-04-19T00:00:00",
          "2022-04-20T00:00:00",
          "2022-04-21T00:00:00",
          "2022-04-23T00:00:00",
          "2022-04-24T00:00:00",
          "2022-04-25T00:00:00",
          "2022-04-26T00:00:00",
          "2022-04-28T00:00:00",
          "2022-04-29T00:00:00",
          "2022-04-30T00:00:00",
          "2022-05-02T00:00:00",
          "2022-05-03T00:00:00",
          "2022-05-04T00:00:00",
          "2022-05-05T00:00:00",
          "2022-05-07T00:00:00",
          "2022-05-08T00:00:00",
          "2022-05-09T00:00:00",
          "2022-05-10T00:00:00",
          "2022-05-12T00:00:00",
          "2022-05-13T00:00:00",
          "2022-05-14T00:00:00",
          "2022-05-15T00:00:00",
          "2022-05-16T00:00:00",
          "2022-05-18T00:00:00",
          "2022-05-19T00:00:00",
          "2022-05-20T00:00:00",
          "2022-05-21T00:00:00",
          "2022-05-23T00:00:00",
          "2022-05-24T00:00:00",
          "2022-05-25T00:00:00",
          "2022-06-25T00:00:00",
          "2022-06-26T00:00:00",
          "2022-06-27T00:00:00",
          "2022-06-28T00:00:00",
          "2022-06-29T00:00:00",
          "2022-06-30T00:00:00",
          "2022-07-01T00:00:00",
          "2022-07-02T00:00:00",
          "2022-07-03T00:00:00",
          "2022-07-04T00:00:00",
          "2022-07-05T00:00:00",
          "2022-07-06T00:00:00",
          "2022-07-07T00:00:00",
          "2022-07-08T00:00:00",
          "2022-07-09T00:00:00",
          "2022-07-10T00:00:00",
          "2022-07-11T00:00:00",
          "2022-07-12T00:00:00",
          "2022-07-13T00:00:00",
          "2022-07-14T00:00:00",
          "2022-07-15T00:00:00",
          "2022-07-16T00:00:00",
          "2022-07-17T00:00:00",
          "2022-07-18T00:00:00",
          "2022-07-19T00:00:00",
          "2022-07-20T00:00:00",
          "2022-07-21T00:00:00",
          "2022-07-22T00:00:00",
          "2022-07-23T00:00:00",
          "2022-07-24T00:00:00",
          "2022-07-25T00:00:00",
          "2022-07-26T00:00:00",
          "2022-07-27T00:00:00",
          "2022-07-28T00:00:00",
          "2022-07-29T00:00:00",
          "2022-07-30T00:00:00",
          "2022-07-31T00:00:00",
          "2022-08-01T00:00:00",
          "2022-08-02T00:00:00",
          "2022-08-03T00:00:00",
          "2022-08-04T00:00:00",
          "2022-08-05T00:00:00",
          "2022-08-06T00:00:00",
          "2022-08-07T00:00:00",
          "2022-08-08T00:00:00",
          "2022-08-09T00:00:00",
          "2022-08-10T00:00:00",
          "2022-08-11T00:00:00",
          "2022-08-12T00:00:00",
          "2022-08-13T00:00:00",
          "2022-08-14T00:00:00",
          "2022-08-15T00:00:00",
          "2022-08-16T00:00:00",
          "2022-08-17T00:00:00",
          "2022-08-18T00:00:00",
          "2022-08-19T00:00:00",
          "2022-08-20T00:00:00"
         ],
         "xaxis": "x2",
         "y": [
          1133,
          1277,
          1279,
          1303,
          1292,
          1291,
          1304,
          1315,
          1338,
          1315,
          1297,
          1298,
          1328,
          1346,
          1353,
          1339,
          1328,
          1322,
          1340,
          1355,
          1406,
          1403,
          1370,
          1387,
          1377,
          1406,
          1397,
          1381,
          1370,
          1373,
          1396,
          1383,
          1386,
          1365,
          1375,
          1366,
          1341,
          1342,
          1347,
          1348,
          1357,
          1264,
          1250,
          1205,
          1144,
          1106,
          1069,
          1044,
          1028,
          1002,
          983,
          989,
          970,
          958,
          945,
          897,
          861,
          852,
          845,
          822,
          763,
          747,
          755,
          718,
          695,
          698,
          672,
          665,
          666,
          669,
          676,
          647,
          654,
          660,
          685,
          711,
          682,
          680,
          691,
          697,
          693,
          716,
          699,
          677,
          669,
          669,
          674,
          642,
          644,
          650,
          661,
          663,
          668,
          688,
          683,
          682,
          702,
          704,
          706,
          704,
          696,
          704,
          703,
          782,
          772,
          772,
          757,
          752,
          742,
          724,
          698,
          684,
          681,
          676,
          681,
          691,
          697,
          699,
          705,
          705,
          706,
          717,
          721,
          699,
          700,
          687,
          672,
          672,
          691,
          698,
          683,
          656,
          658,
          655,
          666,
          657,
          662,
          642,
          632,
          623,
          627,
          641,
          631,
          638,
          632,
          635,
          634,
          646,
          663,
          676,
          653,
          647,
          639,
          630,
          647,
          655,
          639,
          649,
          632,
          626
         ],
         "yaxis": "y2"
        }
       ],
       "layout": {
        "height": 700,
        "margin": {
         "b": 20,
         "l": 20,
         "r": 20,
         "t": 20
        },
        "showlegend": false,
        "template": {
         "data": {
          "bar": [
           {
            "error_x": {
             "color": "#2a3f5f"
            },
            "error_y": {
             "color": "#2a3f5f"
            },
            "marker": {
             "line": {
              "color": "#E5ECF6",
              "width": 0.5
             },
             "pattern": {
              "fillmode": "overlay",
              "size": 10,
              "solidity": 0.2
             }
            },
            "type": "bar"
           }
          ],
          "barpolar": [
           {
            "marker": {
             "line": {
              "color": "#E5ECF6",
              "width": 0.5
             },
             "pattern": {
              "fillmode": "overlay",
              "size": 10,
              "solidity": 0.2
             }
            },
            "type": "barpolar"
           }
          ],
          "carpet": [
           {
            "aaxis": {
             "endlinecolor": "#2a3f5f",
             "gridcolor": "white",
             "linecolor": "white",
             "minorgridcolor": "white",
             "startlinecolor": "#2a3f5f"
            },
            "baxis": {
             "endlinecolor": "#2a3f5f",
             "gridcolor": "white",
             "linecolor": "white",
             "minorgridcolor": "white",
             "startlinecolor": "#2a3f5f"
            },
            "type": "carpet"
           }
          ],
          "choropleth": [
           {
            "colorbar": {
             "outlinewidth": 0,
             "ticks": ""
            },
            "type": "choropleth"
           }
          ],
          "contour": [
           {
            "colorbar": {
             "outlinewidth": 0,
             "ticks": ""
            },
            "colorscale": [
             [
              0,
              "#0d0887"
             ],
             [
              0.1111111111111111,
              "#46039f"
             ],
             [
              0.2222222222222222,
              "#7201a8"
             ],
             [
              0.3333333333333333,
              "#9c179e"
             ],
             [
              0.4444444444444444,
              "#bd3786"
             ],
             [
              0.5555555555555556,
              "#d8576b"
             ],
             [
              0.6666666666666666,
              "#ed7953"
             ],
             [
              0.7777777777777778,
              "#fb9f3a"
             ],
             [
              0.8888888888888888,
              "#fdca26"
             ],
             [
              1,
              "#f0f921"
             ]
            ],
            "type": "contour"
           }
          ],
          "contourcarpet": [
           {
            "colorbar": {
             "outlinewidth": 0,
             "ticks": ""
            },
            "type": "contourcarpet"
           }
          ],
          "heatmap": [
           {
            "colorbar": {
             "outlinewidth": 0,
             "ticks": ""
            },
            "colorscale": [
             [
              0,
              "#0d0887"
             ],
             [
              0.1111111111111111,
              "#46039f"
             ],
             [
              0.2222222222222222,
              "#7201a8"
             ],
             [
              0.3333333333333333,
              "#9c179e"
             ],
             [
              0.4444444444444444,
              "#bd3786"
             ],
             [
              0.5555555555555556,
              "#d8576b"
             ],
             [
              0.6666666666666666,
              "#ed7953"
             ],
             [
              0.7777777777777778,
              "#fb9f3a"
             ],
             [
              0.8888888888888888,
              "#fdca26"
             ],
             [
              1,
              "#f0f921"
             ]
            ],
            "type": "heatmap"
           }
          ],
          "heatmapgl": [
           {
            "colorbar": {
             "outlinewidth": 0,
             "ticks": ""
            },
            "colorscale": [
             [
              0,
              "#0d0887"
             ],
             [
              0.1111111111111111,
              "#46039f"
             ],
             [
              0.2222222222222222,
              "#7201a8"
             ],
             [
              0.3333333333333333,
              "#9c179e"
             ],
             [
              0.4444444444444444,
              "#bd3786"
             ],
             [
              0.5555555555555556,
              "#d8576b"
             ],
             [
              0.6666666666666666,
              "#ed7953"
             ],
             [
              0.7777777777777778,
              "#fb9f3a"
             ],
             [
              0.8888888888888888,
              "#fdca26"
             ],
             [
              1,
              "#f0f921"
             ]
            ],
            "type": "heatmapgl"
           }
          ],
          "histogram": [
           {
            "marker": {
             "pattern": {
              "fillmode": "overlay",
              "size": 10,
              "solidity": 0.2
             }
            },
            "type": "histogram"
           }
          ],
          "histogram2d": [
           {
            "colorbar": {
             "outlinewidth": 0,
             "ticks": ""
            },
            "colorscale": [
             [
              0,
              "#0d0887"
             ],
             [
              0.1111111111111111,
              "#46039f"
             ],
             [
              0.2222222222222222,
              "#7201a8"
             ],
             [
              0.3333333333333333,
              "#9c179e"
             ],
             [
              0.4444444444444444,
              "#bd3786"
             ],
             [
              0.5555555555555556,
              "#d8576b"
             ],
             [
              0.6666666666666666,
              "#ed7953"
             ],
             [
              0.7777777777777778,
              "#fb9f3a"
             ],
             [
              0.8888888888888888,
              "#fdca26"
             ],
             [
              1,
              "#f0f921"
             ]
            ],
            "type": "histogram2d"
           }
          ],
          "histogram2dcontour": [
           {
            "colorbar": {
             "outlinewidth": 0,
             "ticks": ""
            },
            "colorscale": [
             [
              0,
              "#0d0887"
             ],
             [
              0.1111111111111111,
              "#46039f"
             ],
             [
              0.2222222222222222,
              "#7201a8"
             ],
             [
              0.3333333333333333,
              "#9c179e"
             ],
             [
              0.4444444444444444,
              "#bd3786"
             ],
             [
              0.5555555555555556,
              "#d8576b"
             ],
             [
              0.6666666666666666,
              "#ed7953"
             ],
             [
              0.7777777777777778,
              "#fb9f3a"
             ],
             [
              0.8888888888888888,
              "#fdca26"
             ],
             [
              1,
              "#f0f921"
             ]
            ],
            "type": "histogram2dcontour"
           }
          ],
          "mesh3d": [
           {
            "colorbar": {
             "outlinewidth": 0,
             "ticks": ""
            },
            "type": "mesh3d"
           }
          ],
          "parcoords": [
           {
            "line": {
             "colorbar": {
              "outlinewidth": 0,
              "ticks": ""
             }
            },
            "type": "parcoords"
           }
          ],
          "pie": [
           {
            "automargin": true,
            "type": "pie"
           }
          ],
          "scatter": [
           {
            "marker": {
             "colorbar": {
              "outlinewidth": 0,
              "ticks": ""
             }
            },
            "type": "scatter"
           }
          ],
          "scatter3d": [
           {
            "line": {
             "colorbar": {
              "outlinewidth": 0,
              "ticks": ""
             }
            },
            "marker": {
             "colorbar": {
              "outlinewidth": 0,
              "ticks": ""
             }
            },
            "type": "scatter3d"
           }
          ],
          "scattercarpet": [
           {
            "marker": {
             "colorbar": {
              "outlinewidth": 0,
              "ticks": ""
             }
            },
            "type": "scattercarpet"
           }
          ],
          "scattergeo": [
           {
            "marker": {
             "colorbar": {
              "outlinewidth": 0,
              "ticks": ""
             }
            },
            "type": "scattergeo"
           }
          ],
          "scattergl": [
           {
            "marker": {
             "colorbar": {
              "outlinewidth": 0,
              "ticks": ""
             }
            },
            "type": "scattergl"
           }
          ],
          "scattermapbox": [
           {
            "marker": {
             "colorbar": {
              "outlinewidth": 0,
              "ticks": ""
             }
            },
            "type": "scattermapbox"
           }
          ],
          "scatterpolar": [
           {
            "marker": {
             "colorbar": {
              "outlinewidth": 0,
              "ticks": ""
             }
            },
            "type": "scatterpolar"
           }
          ],
          "scatterpolargl": [
           {
            "marker": {
             "colorbar": {
              "outlinewidth": 0,
              "ticks": ""
             }
            },
            "type": "scatterpolargl"
           }
          ],
          "scatterternary": [
           {
            "marker": {
             "colorbar": {
              "outlinewidth": 0,
              "ticks": ""
             }
            },
            "type": "scatterternary"
           }
          ],
          "surface": [
           {
            "colorbar": {
             "outlinewidth": 0,
             "ticks": ""
            },
            "colorscale": [
             [
              0,
              "#0d0887"
             ],
             [
              0.1111111111111111,
              "#46039f"
             ],
             [
              0.2222222222222222,
              "#7201a8"
             ],
             [
              0.3333333333333333,
              "#9c179e"
             ],
             [
              0.4444444444444444,
              "#bd3786"
             ],
             [
              0.5555555555555556,
              "#d8576b"
             ],
             [
              0.6666666666666666,
              "#ed7953"
             ],
             [
              0.7777777777777778,
              "#fb9f3a"
             ],
             [
              0.8888888888888888,
              "#fdca26"
             ],
             [
              1,
              "#f0f921"
             ]
            ],
            "type": "surface"
           }
          ],
          "table": [
           {
            "cells": {
             "fill": {
              "color": "#EBF0F8"
             },
             "line": {
              "color": "white"
             }
            },
            "header": {
             "fill": {
              "color": "#C8D4E3"
             },
             "line": {
              "color": "white"
             }
            },
            "type": "table"
           }
          ]
         },
         "layout": {
          "annotationdefaults": {
           "arrowcolor": "#2a3f5f",
           "arrowhead": 0,
           "arrowwidth": 1
          },
          "autotypenumbers": "strict",
          "coloraxis": {
           "colorbar": {
            "outlinewidth": 0,
            "ticks": ""
           }
          },
          "colorscale": {
           "diverging": [
            [
             0,
             "#8e0152"
            ],
            [
             0.1,
             "#c51b7d"
            ],
            [
             0.2,
             "#de77ae"
            ],
            [
             0.3,
             "#f1b6da"
            ],
            [
             0.4,
             "#fde0ef"
            ],
            [
             0.5,
             "#f7f7f7"
            ],
            [
             0.6,
             "#e6f5d0"
            ],
            [
             0.7,
             "#b8e186"
            ],
            [
             0.8,
             "#7fbc41"
            ],
            [
             0.9,
             "#4d9221"
            ],
            [
             1,
             "#276419"
            ]
           ],
           "sequential": [
            [
             0,
             "#0d0887"
            ],
            [
             0.1111111111111111,
             "#46039f"
            ],
            [
             0.2222222222222222,
             "#7201a8"
            ],
            [
             0.3333333333333333,
             "#9c179e"
            ],
            [
             0.4444444444444444,
             "#bd3786"
            ],
            [
             0.5555555555555556,
             "#d8576b"
            ],
            [
             0.6666666666666666,
             "#ed7953"
            ],
            [
             0.7777777777777778,
             "#fb9f3a"
            ],
            [
             0.8888888888888888,
             "#fdca26"
            ],
            [
             1,
             "#f0f921"
            ]
           ],
           "sequentialminus": [
            [
             0,
             "#0d0887"
            ],
            [
             0.1111111111111111,
             "#46039f"
            ],
            [
             0.2222222222222222,
             "#7201a8"
            ],
            [
             0.3333333333333333,
             "#9c179e"
            ],
            [
             0.4444444444444444,
             "#bd3786"
            ],
            [
             0.5555555555555556,
             "#d8576b"
            ],
            [
             0.6666666666666666,
             "#ed7953"
            ],
            [
             0.7777777777777778,
             "#fb9f3a"
            ],
            [
             0.8888888888888888,
             "#fdca26"
            ],
            [
             1,
             "#f0f921"
            ]
           ]
          },
          "colorway": [
           "#636efa",
           "#EF553B",
           "#00cc96",
           "#ab63fa",
           "#FFA15A",
           "#19d3f3",
           "#FF6692",
           "#B6E880",
           "#FF97FF",
           "#FECB52"
          ],
          "font": {
           "color": "#2a3f5f"
          },
          "geo": {
           "bgcolor": "white",
           "lakecolor": "white",
           "landcolor": "#E5ECF6",
           "showlakes": true,
           "showland": true,
           "subunitcolor": "white"
          },
          "hoverlabel": {
           "align": "left"
          },
          "hovermode": "closest",
          "mapbox": {
           "style": "light"
          },
          "paper_bgcolor": "white",
          "plot_bgcolor": "#E5ECF6",
          "polar": {
           "angularaxis": {
            "gridcolor": "white",
            "linecolor": "white",
            "ticks": ""
           },
           "bgcolor": "#E5ECF6",
           "radialaxis": {
            "gridcolor": "white",
            "linecolor": "white",
            "ticks": ""
           }
          },
          "scene": {
           "xaxis": {
            "backgroundcolor": "#E5ECF6",
            "gridcolor": "white",
            "gridwidth": 2,
            "linecolor": "white",
            "showbackground": true,
            "ticks": "",
            "zerolinecolor": "white"
           },
           "yaxis": {
            "backgroundcolor": "#E5ECF6",
            "gridcolor": "white",
            "gridwidth": 2,
            "linecolor": "white",
            "showbackground": true,
            "ticks": "",
            "zerolinecolor": "white"
           },
           "zaxis": {
            "backgroundcolor": "#E5ECF6",
            "gridcolor": "white",
            "gridwidth": 2,
            "linecolor": "white",
            "showbackground": true,
            "ticks": "",
            "zerolinecolor": "white"
           }
          },
          "shapedefaults": {
           "line": {
            "color": "#2a3f5f"
           }
          },
          "ternary": {
           "aaxis": {
            "gridcolor": "white",
            "linecolor": "white",
            "ticks": ""
           },
           "baxis": {
            "gridcolor": "white",
            "linecolor": "white",
            "ticks": ""
           },
           "bgcolor": "#E5ECF6",
           "caxis": {
            "gridcolor": "white",
            "linecolor": "white",
            "ticks": ""
           }
          },
          "title": {
           "x": 0.05
          },
          "xaxis": {
           "automargin": true,
           "gridcolor": "white",
           "linecolor": "white",
           "ticks": "",
           "title": {
            "standoff": 15
           },
           "zerolinecolor": "white",
           "zerolinewidth": 2
          },
          "yaxis": {
           "automargin": true,
           "gridcolor": "white",
           "linecolor": "white",
           "ticks": "",
           "title": {
            "standoff": 15
           },
           "zerolinecolor": "white",
           "zerolinewidth": 2
          }
         }
        },
        "width": 1000,
        "xaxis": {
         "anchor": "y",
         "domain": [
          0,
          1
         ]
        },
        "xaxis2": {
         "anchor": "y2",
         "domain": [
          0,
          1
         ]
        },
        "yaxis": {
         "anchor": "x",
         "domain": [
          0.2615384615384615,
          0.9999999999999999
         ],
         "title": {
          "text": "Price change [%]"
         }
        },
        "yaxis2": {
         "anchor": "x2",
         "domain": [
          0,
          0.22153846153846152
         ],
         "title": {
          "text": "Number of listings"
         }
        }
       }
      }
     },
     "metadata": {},
     "output_type": "display_data"
    }
   ],
   "source": [
    "from plotly.subplots import make_subplots\n",
    "import plotly.graph_objects as go\n",
    "\n",
    "fig = make_subplots(\n",
    "            rows=2,\n",
    "            cols=1,\n",
    "            # shared_xaxes=True,\n",
    "            vertical_spacing=0.04,\n",
    "            # subplot_titles=(\"Price change\", \"Lumber of listings\"),\n",
    "            row_heights=[1, 0.3])\n",
    "\n",
    "x = np.arange(10)\n",
    "\n",
    "\n",
    "fig.add_trace(\n",
    "    go.Scatter(x=date_list,y=price_change),\n",
    "    row=1,col=1)\n",
    "\n",
    "fig.add_trace(\n",
    "    go.Bar(x=date_list,y=volume_list),\n",
    "    row=2,col=1)\n",
    "\n",
    "fig.update_yaxes(title_text=\"Price change [%]\", row=1, col=1)\n",
    "fig.update_yaxes(title_text=\"Number of listings\", row=2, col=1)\n",
    "\n",
    "fig.update_layout(\n",
    "    # title_text='New Score Distribution (Accepted + Rejected)',\n",
    "    # xaxis_title_text='Score', \n",
    "    # yaxis_title_text='Count',\n",
    "    width=1000,\n",
    "    height=700,\n",
    "    margin=dict(l=20, r=20, t=20, b=20),\n",
    "    showlegend=False\n",
    "    )\n",
    "\n",
    "\n",
    "fig.show()"
   ]
  },
  {
   "cell_type": "markdown",
   "id": "5d1ec024",
   "metadata": {},
   "source": [
    "# SANDBOX"
   ]
  },
  {
   "cell_type": "code",
   "execution_count": 24,
   "id": "e2330c7a",
   "metadata": {},
   "outputs": [],
   "source": [
    "df_old = pd.DataFrame()\n",
    "for i in contents[79:103]:\n",
    "    url = i.download_url\n",
    "    df_ = pd.read_csv(url)\n",
    "    df_old = pd.concat([df_old,df_],axis=0,ignore_index=True)"
   ]
  },
  {
   "cell_type": "code",
   "execution_count": 25,
   "id": "59e005bf",
   "metadata": {},
   "outputs": [],
   "source": [
    "df_new = pd.DataFrame()\n",
    "for i in contents[103:133]:\n",
    "    url = i.download_url\n",
    "    df_ = pd.read_csv(url)\n",
    "    df_new = pd.concat([df_new,df_],axis=0,ignore_index=True)"
   ]
  },
  {
   "cell_type": "code",
   "execution_count": 40,
   "id": "a3e2948c",
   "metadata": {},
   "outputs": [
    {
     "name": "stdout",
     "output_type": "stream",
     "text": [
      "Total number of ads: \t\t\t\t20554\n",
      "Number of ads after droping missing fees: \t20301\n",
      "Number of ads after removing outliers: \t\t17356\n",
      "Number of ads after removing Flatio offers: \t16430\n",
      "Number of ads after removing missing layout: \t16395\n",
      "Number of ads after removing extreme cases: \t16394\n",
      "Total number of ads: \t\t\t\t26854\n",
      "Number of ads after droping missing fees: \t26854\n",
      "Number of ads after removing outliers: \t\t22877\n",
      "Number of ads after removing Flatio offers: \t21367\n",
      "Number of ads after removing missing layout: \t21192\n",
      "Number of ads after removing extreme cases: \t21178\n"
     ]
    }
   ],
   "source": [
    "df_old2 = preprocessing(df_old)\n",
    "df_new2 = preprocessing(df_new)"
   ]
  },
  {
   "cell_type": "code",
   "execution_count": 44,
   "id": "9620e304",
   "metadata": {},
   "outputs": [],
   "source": [
    "set1 = set(df_old['Listing ID'].values)\n",
    "set2 = set(df_new['Listing ID'].values)"
   ]
  },
  {
   "cell_type": "code",
   "execution_count": 31,
   "id": "74869266",
   "metadata": {},
   "outputs": [],
   "source": [
    "import numpy as np\n",
    "\n",
    "def calculate_psi(expected, actual, buckettype='bins', buckets=10, axis=0):\n",
    "    '''Calculate the PSI (population stability index) across all variables\n",
    "    Args:\n",
    "       expected: numpy matrix of original values\n",
    "       actual: numpy matrix of new values, same size as expected\n",
    "       buckettype: type of strategy for creating buckets, bins splits into even splits, quantiles splits into quantile buckets\n",
    "       buckets: number of quantiles to use in bucketing variables\n",
    "       axis: axis by which variables are defined, 0 for vertical, 1 for horizontal\n",
    "    Returns:\n",
    "       psi_values: ndarray of psi values for each variable\n",
    "    Author:\n",
    "       Matthew Burke\n",
    "       github.com/mwburke\n",
    "       worksofchart.com\n",
    "    '''\n",
    "\n",
    "    def psi(expected_array, actual_array, buckets):\n",
    "        '''Calculate the PSI for a single variable\n",
    "        Args:\n",
    "           expected_array: numpy array of original values\n",
    "           actual_array: numpy array of new values, same size as expected\n",
    "           buckets: number of percentile ranges to bucket the values into\n",
    "        Returns:\n",
    "           psi_value: calculated PSI value\n",
    "        '''\n",
    "\n",
    "        def scale_range (input, min, max):\n",
    "            input += -(np.min(input))\n",
    "            input /= np.max(input) / (max - min)\n",
    "            input += min\n",
    "            return input\n",
    "\n",
    "\n",
    "        breakpoints = np.arange(0, buckets + 1) / (buckets) * 100\n",
    "\n",
    "        if buckettype == 'bins':\n",
    "            breakpoints = scale_range(breakpoints, np.min(expected_array), np.max(expected_array))\n",
    "        elif buckettype == 'quantiles':\n",
    "            breakpoints = np.stack([np.percentile(expected_array, b) for b in breakpoints])\n",
    "\n",
    "\n",
    "\n",
    "        expected_percents = np.histogram(expected_array, breakpoints)[0] / len(expected_array)\n",
    "        actual_percents = np.histogram(actual_array, breakpoints)[0] / len(actual_array)\n",
    "\n",
    "        def sub_psi(e_perc, a_perc):\n",
    "            '''Calculate the actual PSI value from comparing the values.\n",
    "               Update the actual value to a very small number if equal to zero\n",
    "            '''\n",
    "            if a_perc == 0:\n",
    "                a_perc = 0.0001\n",
    "            if e_perc == 0:\n",
    "                e_perc = 0.0001\n",
    "\n",
    "            value = (e_perc - a_perc) * np.log(e_perc / a_perc)\n",
    "            return(value)\n",
    "\n",
    "        psi_value = np.sum(sub_psi(expected_percents[i], actual_percents[i]) for i in range(0, len(expected_percents)))\n",
    "\n",
    "        return(psi_value)\n",
    "\n",
    "    if len(expected.shape) == 1:\n",
    "        psi_values = np.empty(len(expected.shape))\n",
    "    else:\n",
    "        psi_values = np.empty(expected.shape[axis])\n",
    "\n",
    "    for i in range(0, len(psi_values)):\n",
    "        if len(psi_values) == 1:\n",
    "            psi_values = psi(expected, actual, buckets)\n",
    "        elif axis == 0:\n",
    "            psi_values[i] = psi(expected[:,i], actual[:,i], buckets)\n",
    "        elif axis == 1:\n",
    "            psi_values[i] = psi(expected[i,:], actual[i,:], buckets)\n",
    "\n",
    "    return(psi_values)"
   ]
  },
  {
   "cell_type": "code",
   "execution_count": null,
   "id": "ea26c755",
   "metadata": {},
   "outputs": [],
   "source": []
  },
  {
   "cell_type": "code",
   "execution_count": 73,
   "id": "8920c3fd",
   "metadata": {},
   "outputs": [
    {
     "ename": "TypeError",
     "evalue": "'<=' not supported between instances of 'str' and 'float'",
     "output_type": "error",
     "traceback": [
      "\u001b[1;31m---------------------------------------------------------------------------\u001b[0m",
      "\u001b[1;31mTypeError\u001b[0m                                 Traceback (most recent call last)",
      "\u001b[1;32m<ipython-input-73-72ab781ecd66>\u001b[0m in \u001b[0;36m<module>\u001b[1;34m\u001b[0m\n\u001b[1;32m----> 1\u001b[1;33m \u001b[0mcalculate_psi\u001b[0m\u001b[1;33m(\u001b[0m\u001b[0mdf_old2\u001b[0m\u001b[1;33m[\u001b[0m\u001b[1;34m'Heating'\u001b[0m\u001b[1;33m]\u001b[0m\u001b[1;33m,\u001b[0m\u001b[0mdf_new2\u001b[0m\u001b[1;33m[\u001b[0m\u001b[1;34m'Heating'\u001b[0m\u001b[1;33m]\u001b[0m\u001b[1;33m)\u001b[0m\u001b[1;33m\u001b[0m\u001b[1;33m\u001b[0m\u001b[0m\n\u001b[0m",
      "\u001b[1;32m<ipython-input-31-6519b7e6b148>\u001b[0m in \u001b[0;36mcalculate_psi\u001b[1;34m(expected, actual, buckettype, buckets, axis)\u001b[0m\n\u001b[0;32m     69\u001b[0m     \u001b[1;32mfor\u001b[0m \u001b[0mi\u001b[0m \u001b[1;32min\u001b[0m \u001b[0mrange\u001b[0m\u001b[1;33m(\u001b[0m\u001b[1;36m0\u001b[0m\u001b[1;33m,\u001b[0m \u001b[0mlen\u001b[0m\u001b[1;33m(\u001b[0m\u001b[0mpsi_values\u001b[0m\u001b[1;33m)\u001b[0m\u001b[1;33m)\u001b[0m\u001b[1;33m:\u001b[0m\u001b[1;33m\u001b[0m\u001b[1;33m\u001b[0m\u001b[0m\n\u001b[0;32m     70\u001b[0m         \u001b[1;32mif\u001b[0m \u001b[0mlen\u001b[0m\u001b[1;33m(\u001b[0m\u001b[0mpsi_values\u001b[0m\u001b[1;33m)\u001b[0m \u001b[1;33m==\u001b[0m \u001b[1;36m1\u001b[0m\u001b[1;33m:\u001b[0m\u001b[1;33m\u001b[0m\u001b[1;33m\u001b[0m\u001b[0m\n\u001b[1;32m---> 71\u001b[1;33m             \u001b[0mpsi_values\u001b[0m \u001b[1;33m=\u001b[0m \u001b[0mpsi\u001b[0m\u001b[1;33m(\u001b[0m\u001b[0mexpected\u001b[0m\u001b[1;33m,\u001b[0m \u001b[0mactual\u001b[0m\u001b[1;33m,\u001b[0m \u001b[0mbuckets\u001b[0m\u001b[1;33m)\u001b[0m\u001b[1;33m\u001b[0m\u001b[1;33m\u001b[0m\u001b[0m\n\u001b[0m\u001b[0;32m     72\u001b[0m         \u001b[1;32melif\u001b[0m \u001b[0maxis\u001b[0m \u001b[1;33m==\u001b[0m \u001b[1;36m0\u001b[0m\u001b[1;33m:\u001b[0m\u001b[1;33m\u001b[0m\u001b[1;33m\u001b[0m\u001b[0m\n\u001b[0;32m     73\u001b[0m             \u001b[0mpsi_values\u001b[0m\u001b[1;33m[\u001b[0m\u001b[0mi\u001b[0m\u001b[1;33m]\u001b[0m \u001b[1;33m=\u001b[0m \u001b[0mpsi\u001b[0m\u001b[1;33m(\u001b[0m\u001b[0mexpected\u001b[0m\u001b[1;33m[\u001b[0m\u001b[1;33m:\u001b[0m\u001b[1;33m,\u001b[0m\u001b[0mi\u001b[0m\u001b[1;33m]\u001b[0m\u001b[1;33m,\u001b[0m \u001b[0mactual\u001b[0m\u001b[1;33m[\u001b[0m\u001b[1;33m:\u001b[0m\u001b[1;33m,\u001b[0m\u001b[0mi\u001b[0m\u001b[1;33m]\u001b[0m\u001b[1;33m,\u001b[0m \u001b[0mbuckets\u001b[0m\u001b[1;33m)\u001b[0m\u001b[1;33m\u001b[0m\u001b[1;33m\u001b[0m\u001b[0m\n",
      "\u001b[1;32m<ipython-input-31-6519b7e6b148>\u001b[0m in \u001b[0;36mpsi\u001b[1;34m(expected_array, actual_array, buckets)\u001b[0m\n\u001b[0;32m     37\u001b[0m \u001b[1;33m\u001b[0m\u001b[0m\n\u001b[0;32m     38\u001b[0m         \u001b[1;32mif\u001b[0m \u001b[0mbuckettype\u001b[0m \u001b[1;33m==\u001b[0m \u001b[1;34m'bins'\u001b[0m\u001b[1;33m:\u001b[0m\u001b[1;33m\u001b[0m\u001b[1;33m\u001b[0m\u001b[0m\n\u001b[1;32m---> 39\u001b[1;33m             \u001b[0mbreakpoints\u001b[0m \u001b[1;33m=\u001b[0m \u001b[0mscale_range\u001b[0m\u001b[1;33m(\u001b[0m\u001b[0mbreakpoints\u001b[0m\u001b[1;33m,\u001b[0m \u001b[0mnp\u001b[0m\u001b[1;33m.\u001b[0m\u001b[0mmin\u001b[0m\u001b[1;33m(\u001b[0m\u001b[0mexpected_array\u001b[0m\u001b[1;33m)\u001b[0m\u001b[1;33m,\u001b[0m \u001b[0mnp\u001b[0m\u001b[1;33m.\u001b[0m\u001b[0mmax\u001b[0m\u001b[1;33m(\u001b[0m\u001b[0mexpected_array\u001b[0m\u001b[1;33m)\u001b[0m\u001b[1;33m)\u001b[0m\u001b[1;33m\u001b[0m\u001b[1;33m\u001b[0m\u001b[0m\n\u001b[0m\u001b[0;32m     40\u001b[0m         \u001b[1;32melif\u001b[0m \u001b[0mbuckettype\u001b[0m \u001b[1;33m==\u001b[0m \u001b[1;34m'quantiles'\u001b[0m\u001b[1;33m:\u001b[0m\u001b[1;33m\u001b[0m\u001b[1;33m\u001b[0m\u001b[0m\n\u001b[0;32m     41\u001b[0m             \u001b[0mbreakpoints\u001b[0m \u001b[1;33m=\u001b[0m \u001b[0mnp\u001b[0m\u001b[1;33m.\u001b[0m\u001b[0mstack\u001b[0m\u001b[1;33m(\u001b[0m\u001b[1;33m[\u001b[0m\u001b[0mnp\u001b[0m\u001b[1;33m.\u001b[0m\u001b[0mpercentile\u001b[0m\u001b[1;33m(\u001b[0m\u001b[0mexpected_array\u001b[0m\u001b[1;33m,\u001b[0m \u001b[0mb\u001b[0m\u001b[1;33m)\u001b[0m \u001b[1;32mfor\u001b[0m \u001b[0mb\u001b[0m \u001b[1;32min\u001b[0m \u001b[0mbreakpoints\u001b[0m\u001b[1;33m]\u001b[0m\u001b[1;33m)\u001b[0m\u001b[1;33m\u001b[0m\u001b[1;33m\u001b[0m\u001b[0m\n",
      "\u001b[1;32m<__array_function__ internals>\u001b[0m in \u001b[0;36mamin\u001b[1;34m(*args, **kwargs)\u001b[0m\n",
      "\u001b[1;32mc:\\Users\\t1bia\\anaconda3\\lib\\site-packages\\numpy\\core\\fromnumeric.py\u001b[0m in \u001b[0;36mamin\u001b[1;34m(a, axis, out, keepdims, initial, where)\u001b[0m\n\u001b[0;32m   2856\u001b[0m     \u001b[1;36m6\u001b[0m\u001b[1;33m\u001b[0m\u001b[1;33m\u001b[0m\u001b[0m\n\u001b[0;32m   2857\u001b[0m     \"\"\"\n\u001b[1;32m-> 2858\u001b[1;33m     return _wrapreduction(a, np.minimum, 'min', axis, None, out,\n\u001b[0m\u001b[0;32m   2859\u001b[0m                           keepdims=keepdims, initial=initial, where=where)\n\u001b[0;32m   2860\u001b[0m \u001b[1;33m\u001b[0m\u001b[0m\n",
      "\u001b[1;32mc:\\Users\\t1bia\\anaconda3\\lib\\site-packages\\numpy\\core\\fromnumeric.py\u001b[0m in \u001b[0;36m_wrapreduction\u001b[1;34m(obj, ufunc, method, axis, dtype, out, **kwargs)\u001b[0m\n\u001b[0;32m     83\u001b[0m                 \u001b[1;32mreturn\u001b[0m \u001b[0mreduction\u001b[0m\u001b[1;33m(\u001b[0m\u001b[0maxis\u001b[0m\u001b[1;33m=\u001b[0m\u001b[0maxis\u001b[0m\u001b[1;33m,\u001b[0m \u001b[0mdtype\u001b[0m\u001b[1;33m=\u001b[0m\u001b[0mdtype\u001b[0m\u001b[1;33m,\u001b[0m \u001b[0mout\u001b[0m\u001b[1;33m=\u001b[0m\u001b[0mout\u001b[0m\u001b[1;33m,\u001b[0m \u001b[1;33m**\u001b[0m\u001b[0mpasskwargs\u001b[0m\u001b[1;33m)\u001b[0m\u001b[1;33m\u001b[0m\u001b[1;33m\u001b[0m\u001b[0m\n\u001b[0;32m     84\u001b[0m             \u001b[1;32melse\u001b[0m\u001b[1;33m:\u001b[0m\u001b[1;33m\u001b[0m\u001b[1;33m\u001b[0m\u001b[0m\n\u001b[1;32m---> 85\u001b[1;33m                 \u001b[1;32mreturn\u001b[0m \u001b[0mreduction\u001b[0m\u001b[1;33m(\u001b[0m\u001b[0maxis\u001b[0m\u001b[1;33m=\u001b[0m\u001b[0maxis\u001b[0m\u001b[1;33m,\u001b[0m \u001b[0mout\u001b[0m\u001b[1;33m=\u001b[0m\u001b[0mout\u001b[0m\u001b[1;33m,\u001b[0m \u001b[1;33m**\u001b[0m\u001b[0mpasskwargs\u001b[0m\u001b[1;33m)\u001b[0m\u001b[1;33m\u001b[0m\u001b[1;33m\u001b[0m\u001b[0m\n\u001b[0m\u001b[0;32m     86\u001b[0m \u001b[1;33m\u001b[0m\u001b[0m\n\u001b[0;32m     87\u001b[0m     \u001b[1;32mreturn\u001b[0m \u001b[0mufunc\u001b[0m\u001b[1;33m.\u001b[0m\u001b[0mreduce\u001b[0m\u001b[1;33m(\u001b[0m\u001b[0mobj\u001b[0m\u001b[1;33m,\u001b[0m \u001b[0maxis\u001b[0m\u001b[1;33m,\u001b[0m \u001b[0mdtype\u001b[0m\u001b[1;33m,\u001b[0m \u001b[0mout\u001b[0m\u001b[1;33m,\u001b[0m \u001b[1;33m**\u001b[0m\u001b[0mpasskwargs\u001b[0m\u001b[1;33m)\u001b[0m\u001b[1;33m\u001b[0m\u001b[1;33m\u001b[0m\u001b[0m\n",
      "\u001b[1;32mc:\\Users\\t1bia\\anaconda3\\lib\\site-packages\\pandas\\core\\generic.py\u001b[0m in \u001b[0;36mmin\u001b[1;34m(self, axis, skipna, level, numeric_only, **kwargs)\u001b[0m\n\u001b[0;32m  11211\u001b[0m         )\n\u001b[0;32m  11212\u001b[0m         \u001b[1;32mdef\u001b[0m \u001b[0mmin\u001b[0m\u001b[1;33m(\u001b[0m\u001b[0mself\u001b[0m\u001b[1;33m,\u001b[0m \u001b[0maxis\u001b[0m\u001b[1;33m=\u001b[0m\u001b[1;32mNone\u001b[0m\u001b[1;33m,\u001b[0m \u001b[0mskipna\u001b[0m\u001b[1;33m=\u001b[0m\u001b[1;32mNone\u001b[0m\u001b[1;33m,\u001b[0m \u001b[0mlevel\u001b[0m\u001b[1;33m=\u001b[0m\u001b[1;32mNone\u001b[0m\u001b[1;33m,\u001b[0m \u001b[0mnumeric_only\u001b[0m\u001b[1;33m=\u001b[0m\u001b[1;32mNone\u001b[0m\u001b[1;33m,\u001b[0m \u001b[1;33m**\u001b[0m\u001b[0mkwargs\u001b[0m\u001b[1;33m)\u001b[0m\u001b[1;33m:\u001b[0m\u001b[1;33m\u001b[0m\u001b[1;33m\u001b[0m\u001b[0m\n\u001b[1;32m> 11213\u001b[1;33m             \u001b[1;32mreturn\u001b[0m \u001b[0mNDFrame\u001b[0m\u001b[1;33m.\u001b[0m\u001b[0mmin\u001b[0m\u001b[1;33m(\u001b[0m\u001b[0mself\u001b[0m\u001b[1;33m,\u001b[0m \u001b[0maxis\u001b[0m\u001b[1;33m,\u001b[0m \u001b[0mskipna\u001b[0m\u001b[1;33m,\u001b[0m \u001b[0mlevel\u001b[0m\u001b[1;33m,\u001b[0m \u001b[0mnumeric_only\u001b[0m\u001b[1;33m,\u001b[0m \u001b[1;33m**\u001b[0m\u001b[0mkwargs\u001b[0m\u001b[1;33m)\u001b[0m\u001b[1;33m\u001b[0m\u001b[1;33m\u001b[0m\u001b[0m\n\u001b[0m\u001b[0;32m  11214\u001b[0m \u001b[1;33m\u001b[0m\u001b[0m\n\u001b[0;32m  11215\u001b[0m         \u001b[1;31m# pandas\\core\\generic.py:11009: error: Cannot assign to a method\u001b[0m\u001b[1;33m\u001b[0m\u001b[1;33m\u001b[0m\u001b[1;33m\u001b[0m\u001b[0m\n",
      "\u001b[1;32mc:\\Users\\t1bia\\anaconda3\\lib\\site-packages\\pandas\\core\\generic.py\u001b[0m in \u001b[0;36mmin\u001b[1;34m(self, axis, skipna, level, numeric_only, **kwargs)\u001b[0m\n\u001b[0;32m  10714\u001b[0m \u001b[1;33m\u001b[0m\u001b[0m\n\u001b[0;32m  10715\u001b[0m     \u001b[1;32mdef\u001b[0m \u001b[0mmin\u001b[0m\u001b[1;33m(\u001b[0m\u001b[0mself\u001b[0m\u001b[1;33m,\u001b[0m \u001b[0maxis\u001b[0m\u001b[1;33m=\u001b[0m\u001b[1;32mNone\u001b[0m\u001b[1;33m,\u001b[0m \u001b[0mskipna\u001b[0m\u001b[1;33m=\u001b[0m\u001b[1;32mNone\u001b[0m\u001b[1;33m,\u001b[0m \u001b[0mlevel\u001b[0m\u001b[1;33m=\u001b[0m\u001b[1;32mNone\u001b[0m\u001b[1;33m,\u001b[0m \u001b[0mnumeric_only\u001b[0m\u001b[1;33m=\u001b[0m\u001b[1;32mNone\u001b[0m\u001b[1;33m,\u001b[0m \u001b[1;33m**\u001b[0m\u001b[0mkwargs\u001b[0m\u001b[1;33m)\u001b[0m\u001b[1;33m:\u001b[0m\u001b[1;33m\u001b[0m\u001b[1;33m\u001b[0m\u001b[0m\n\u001b[1;32m> 10716\u001b[1;33m         return self._stat_function(\n\u001b[0m\u001b[0;32m  10717\u001b[0m             \u001b[1;34m\"min\"\u001b[0m\u001b[1;33m,\u001b[0m \u001b[0mnanops\u001b[0m\u001b[1;33m.\u001b[0m\u001b[0mnanmin\u001b[0m\u001b[1;33m,\u001b[0m \u001b[0maxis\u001b[0m\u001b[1;33m,\u001b[0m \u001b[0mskipna\u001b[0m\u001b[1;33m,\u001b[0m \u001b[0mlevel\u001b[0m\u001b[1;33m,\u001b[0m \u001b[0mnumeric_only\u001b[0m\u001b[1;33m,\u001b[0m \u001b[1;33m**\u001b[0m\u001b[0mkwargs\u001b[0m\u001b[1;33m\u001b[0m\u001b[1;33m\u001b[0m\u001b[0m\n\u001b[0;32m  10718\u001b[0m         )\n",
      "\u001b[1;32mc:\\Users\\t1bia\\anaconda3\\lib\\site-packages\\pandas\\core\\generic.py\u001b[0m in \u001b[0;36m_stat_function\u001b[1;34m(self, name, func, axis, skipna, level, numeric_only, **kwargs)\u001b[0m\n\u001b[0;32m  10709\u001b[0m         \u001b[1;32mif\u001b[0m \u001b[0mlevel\u001b[0m \u001b[1;32mis\u001b[0m \u001b[1;32mnot\u001b[0m \u001b[1;32mNone\u001b[0m\u001b[1;33m:\u001b[0m\u001b[1;33m\u001b[0m\u001b[1;33m\u001b[0m\u001b[0m\n\u001b[0;32m  10710\u001b[0m             \u001b[1;32mreturn\u001b[0m \u001b[0mself\u001b[0m\u001b[1;33m.\u001b[0m\u001b[0m_agg_by_level\u001b[0m\u001b[1;33m(\u001b[0m\u001b[0mname\u001b[0m\u001b[1;33m,\u001b[0m \u001b[0maxis\u001b[0m\u001b[1;33m=\u001b[0m\u001b[0maxis\u001b[0m\u001b[1;33m,\u001b[0m \u001b[0mlevel\u001b[0m\u001b[1;33m=\u001b[0m\u001b[0mlevel\u001b[0m\u001b[1;33m,\u001b[0m \u001b[0mskipna\u001b[0m\u001b[1;33m=\u001b[0m\u001b[0mskipna\u001b[0m\u001b[1;33m)\u001b[0m\u001b[1;33m\u001b[0m\u001b[1;33m\u001b[0m\u001b[0m\n\u001b[1;32m> 10711\u001b[1;33m         return self._reduce(\n\u001b[0m\u001b[0;32m  10712\u001b[0m             \u001b[0mfunc\u001b[0m\u001b[1;33m,\u001b[0m \u001b[0mname\u001b[0m\u001b[1;33m=\u001b[0m\u001b[0mname\u001b[0m\u001b[1;33m,\u001b[0m \u001b[0maxis\u001b[0m\u001b[1;33m=\u001b[0m\u001b[0maxis\u001b[0m\u001b[1;33m,\u001b[0m \u001b[0mskipna\u001b[0m\u001b[1;33m=\u001b[0m\u001b[0mskipna\u001b[0m\u001b[1;33m,\u001b[0m \u001b[0mnumeric_only\u001b[0m\u001b[1;33m=\u001b[0m\u001b[0mnumeric_only\u001b[0m\u001b[1;33m\u001b[0m\u001b[1;33m\u001b[0m\u001b[0m\n\u001b[0;32m  10713\u001b[0m         )\n",
      "\u001b[1;32mc:\\Users\\t1bia\\anaconda3\\lib\\site-packages\\pandas\\core\\series.py\u001b[0m in \u001b[0;36m_reduce\u001b[1;34m(self, op, name, axis, skipna, numeric_only, filter_type, **kwds)\u001b[0m\n\u001b[0;32m   4180\u001b[0m                 )\n\u001b[0;32m   4181\u001b[0m             \u001b[1;32mwith\u001b[0m \u001b[0mnp\u001b[0m\u001b[1;33m.\u001b[0m\u001b[0merrstate\u001b[0m\u001b[1;33m(\u001b[0m\u001b[0mall\u001b[0m\u001b[1;33m=\u001b[0m\u001b[1;34m\"ignore\"\u001b[0m\u001b[1;33m)\u001b[0m\u001b[1;33m:\u001b[0m\u001b[1;33m\u001b[0m\u001b[1;33m\u001b[0m\u001b[0m\n\u001b[1;32m-> 4182\u001b[1;33m                 \u001b[1;32mreturn\u001b[0m \u001b[0mop\u001b[0m\u001b[1;33m(\u001b[0m\u001b[0mdelegate\u001b[0m\u001b[1;33m,\u001b[0m \u001b[0mskipna\u001b[0m\u001b[1;33m=\u001b[0m\u001b[0mskipna\u001b[0m\u001b[1;33m,\u001b[0m \u001b[1;33m**\u001b[0m\u001b[0mkwds\u001b[0m\u001b[1;33m)\u001b[0m\u001b[1;33m\u001b[0m\u001b[1;33m\u001b[0m\u001b[0m\n\u001b[0m\u001b[0;32m   4183\u001b[0m \u001b[1;33m\u001b[0m\u001b[0m\n\u001b[0;32m   4184\u001b[0m     \u001b[1;32mdef\u001b[0m \u001b[0m_reindex_indexer\u001b[0m\u001b[1;33m(\u001b[0m\u001b[0mself\u001b[0m\u001b[1;33m,\u001b[0m \u001b[0mnew_index\u001b[0m\u001b[1;33m,\u001b[0m \u001b[0mindexer\u001b[0m\u001b[1;33m,\u001b[0m \u001b[0mcopy\u001b[0m\u001b[1;33m)\u001b[0m\u001b[1;33m:\u001b[0m\u001b[1;33m\u001b[0m\u001b[1;33m\u001b[0m\u001b[0m\n",
      "\u001b[1;32mc:\\Users\\t1bia\\anaconda3\\lib\\site-packages\\pandas\\core\\nanops.py\u001b[0m in \u001b[0;36mf\u001b[1;34m(values, axis, skipna, **kwds)\u001b[0m\n\u001b[0;32m    133\u001b[0m                     \u001b[0mresult\u001b[0m \u001b[1;33m=\u001b[0m \u001b[0malt\u001b[0m\u001b[1;33m(\u001b[0m\u001b[0mvalues\u001b[0m\u001b[1;33m,\u001b[0m \u001b[0maxis\u001b[0m\u001b[1;33m=\u001b[0m\u001b[0maxis\u001b[0m\u001b[1;33m,\u001b[0m \u001b[0mskipna\u001b[0m\u001b[1;33m=\u001b[0m\u001b[0mskipna\u001b[0m\u001b[1;33m,\u001b[0m \u001b[1;33m**\u001b[0m\u001b[0mkwds\u001b[0m\u001b[1;33m)\u001b[0m\u001b[1;33m\u001b[0m\u001b[1;33m\u001b[0m\u001b[0m\n\u001b[0;32m    134\u001b[0m             \u001b[1;32melse\u001b[0m\u001b[1;33m:\u001b[0m\u001b[1;33m\u001b[0m\u001b[1;33m\u001b[0m\u001b[0m\n\u001b[1;32m--> 135\u001b[1;33m                 \u001b[0mresult\u001b[0m \u001b[1;33m=\u001b[0m \u001b[0malt\u001b[0m\u001b[1;33m(\u001b[0m\u001b[0mvalues\u001b[0m\u001b[1;33m,\u001b[0m \u001b[0maxis\u001b[0m\u001b[1;33m=\u001b[0m\u001b[0maxis\u001b[0m\u001b[1;33m,\u001b[0m \u001b[0mskipna\u001b[0m\u001b[1;33m=\u001b[0m\u001b[0mskipna\u001b[0m\u001b[1;33m,\u001b[0m \u001b[1;33m**\u001b[0m\u001b[0mkwds\u001b[0m\u001b[1;33m)\u001b[0m\u001b[1;33m\u001b[0m\u001b[1;33m\u001b[0m\u001b[0m\n\u001b[0m\u001b[0;32m    136\u001b[0m \u001b[1;33m\u001b[0m\u001b[0m\n\u001b[0;32m    137\u001b[0m             \u001b[1;32mreturn\u001b[0m \u001b[0mresult\u001b[0m\u001b[1;33m\u001b[0m\u001b[1;33m\u001b[0m\u001b[0m\n",
      "\u001b[1;32mc:\\Users\\t1bia\\anaconda3\\lib\\site-packages\\pandas\\core\\nanops.py\u001b[0m in \u001b[0;36mnew_func\u001b[1;34m(values, axis, skipna, mask, **kwargs)\u001b[0m\n\u001b[0;32m    392\u001b[0m             \u001b[0mmask\u001b[0m \u001b[1;33m=\u001b[0m \u001b[0misna\u001b[0m\u001b[1;33m(\u001b[0m\u001b[0mvalues\u001b[0m\u001b[1;33m)\u001b[0m\u001b[1;33m\u001b[0m\u001b[1;33m\u001b[0m\u001b[0m\n\u001b[0;32m    393\u001b[0m \u001b[1;33m\u001b[0m\u001b[0m\n\u001b[1;32m--> 394\u001b[1;33m         \u001b[0mresult\u001b[0m \u001b[1;33m=\u001b[0m \u001b[0mfunc\u001b[0m\u001b[1;33m(\u001b[0m\u001b[0mvalues\u001b[0m\u001b[1;33m,\u001b[0m \u001b[0maxis\u001b[0m\u001b[1;33m=\u001b[0m\u001b[0maxis\u001b[0m\u001b[1;33m,\u001b[0m \u001b[0mskipna\u001b[0m\u001b[1;33m=\u001b[0m\u001b[0mskipna\u001b[0m\u001b[1;33m,\u001b[0m \u001b[0mmask\u001b[0m\u001b[1;33m=\u001b[0m\u001b[0mmask\u001b[0m\u001b[1;33m,\u001b[0m \u001b[1;33m**\u001b[0m\u001b[0mkwargs\u001b[0m\u001b[1;33m)\u001b[0m\u001b[1;33m\u001b[0m\u001b[1;33m\u001b[0m\u001b[0m\n\u001b[0m\u001b[0;32m    395\u001b[0m \u001b[1;33m\u001b[0m\u001b[0m\n\u001b[0;32m    396\u001b[0m         \u001b[1;32mif\u001b[0m \u001b[0mdatetimelike\u001b[0m\u001b[1;33m:\u001b[0m\u001b[1;33m\u001b[0m\u001b[1;33m\u001b[0m\u001b[0m\n",
      "\u001b[1;32mc:\\Users\\t1bia\\anaconda3\\lib\\site-packages\\pandas\\core\\nanops.py\u001b[0m in \u001b[0;36mreduction\u001b[1;34m(values, axis, skipna, mask)\u001b[0m\n\u001b[0;32m    975\u001b[0m                 \u001b[0mresult\u001b[0m \u001b[1;33m=\u001b[0m \u001b[0mnp\u001b[0m\u001b[1;33m.\u001b[0m\u001b[0mnan\u001b[0m\u001b[1;33m\u001b[0m\u001b[1;33m\u001b[0m\u001b[0m\n\u001b[0;32m    976\u001b[0m         \u001b[1;32melse\u001b[0m\u001b[1;33m:\u001b[0m\u001b[1;33m\u001b[0m\u001b[1;33m\u001b[0m\u001b[0m\n\u001b[1;32m--> 977\u001b[1;33m             \u001b[0mresult\u001b[0m \u001b[1;33m=\u001b[0m \u001b[0mgetattr\u001b[0m\u001b[1;33m(\u001b[0m\u001b[0mvalues\u001b[0m\u001b[1;33m,\u001b[0m \u001b[0mmeth\u001b[0m\u001b[1;33m)\u001b[0m\u001b[1;33m(\u001b[0m\u001b[0maxis\u001b[0m\u001b[1;33m)\u001b[0m\u001b[1;33m\u001b[0m\u001b[1;33m\u001b[0m\u001b[0m\n\u001b[0m\u001b[0;32m    978\u001b[0m \u001b[1;33m\u001b[0m\u001b[0m\n\u001b[0;32m    979\u001b[0m         \u001b[0mresult\u001b[0m \u001b[1;33m=\u001b[0m \u001b[0m_maybe_null_out\u001b[0m\u001b[1;33m(\u001b[0m\u001b[0mresult\u001b[0m\u001b[1;33m,\u001b[0m \u001b[0maxis\u001b[0m\u001b[1;33m,\u001b[0m \u001b[0mmask\u001b[0m\u001b[1;33m,\u001b[0m \u001b[0mvalues\u001b[0m\u001b[1;33m.\u001b[0m\u001b[0mshape\u001b[0m\u001b[1;33m)\u001b[0m\u001b[1;33m\u001b[0m\u001b[1;33m\u001b[0m\u001b[0m\n",
      "\u001b[1;32mc:\\Users\\t1bia\\anaconda3\\lib\\site-packages\\numpy\\core\\_methods.py\u001b[0m in \u001b[0;36m_amin\u001b[1;34m(a, axis, out, keepdims, initial, where)\u001b[0m\n\u001b[0;32m     41\u001b[0m def _amin(a, axis=None, out=None, keepdims=False,\n\u001b[0;32m     42\u001b[0m           initial=_NoValue, where=True):\n\u001b[1;32m---> 43\u001b[1;33m     \u001b[1;32mreturn\u001b[0m \u001b[0mumr_minimum\u001b[0m\u001b[1;33m(\u001b[0m\u001b[0ma\u001b[0m\u001b[1;33m,\u001b[0m \u001b[0maxis\u001b[0m\u001b[1;33m,\u001b[0m \u001b[1;32mNone\u001b[0m\u001b[1;33m,\u001b[0m \u001b[0mout\u001b[0m\u001b[1;33m,\u001b[0m \u001b[0mkeepdims\u001b[0m\u001b[1;33m,\u001b[0m \u001b[0minitial\u001b[0m\u001b[1;33m,\u001b[0m \u001b[0mwhere\u001b[0m\u001b[1;33m)\u001b[0m\u001b[1;33m\u001b[0m\u001b[1;33m\u001b[0m\u001b[0m\n\u001b[0m\u001b[0;32m     44\u001b[0m \u001b[1;33m\u001b[0m\u001b[0m\n\u001b[0;32m     45\u001b[0m def _sum(a, axis=None, dtype=None, out=None, keepdims=False,\n",
      "\u001b[1;31mTypeError\u001b[0m: '<=' not supported between instances of 'str' and 'float'"
     ]
    }
   ],
   "source": [
    "calculate_psi(df_old2['Heating'],df_new2['Heating'])"
   ]
  }
 ],
 "metadata": {
  "interpreter": {
   "hash": "ccc39d46d634340ada6859ade381b7590aeee1806ea8ce640dddf23b0821612b"
  },
  "kernelspec": {
   "display_name": "Python 3.8.8 ('base')",
   "language": "python",
   "name": "python3"
  },
  "language_info": {
   "codemirror_mode": {
    "name": "ipython",
    "version": 3
   },
   "file_extension": ".py",
   "mimetype": "text/x-python",
   "name": "python",
   "nbconvert_exporter": "python",
   "pygments_lexer": "ipython3",
   "version": "3.8.8"
  }
 },
 "nbformat": 4,
 "nbformat_minor": 5
}
