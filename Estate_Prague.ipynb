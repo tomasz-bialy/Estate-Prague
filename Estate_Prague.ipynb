{
 "cells": [
  {
   "cell_type": "code",
   "execution_count": 1,
   "id": "c7060567",
   "metadata": {},
   "outputs": [],
   "source": [
    "import pandas as pd\n",
    "import seaborn as sns\n",
    "import matplotlib.pyplot as plt\n",
    "import numpy as np\n",
    "\n",
    "import xgboost as xgb\n",
    "from scipy.stats import uniform, randint\n",
    "from sklearn.model_selection import RandomizedSearchCV\n",
    "from sklearn.model_selection import train_test_split\n",
    "from sklearn.model_selection import cross_val_score\n",
    "from sklearn.model_selection import KFold\n",
    "from sklearn.metrics import mean_absolute_error\n",
    "from mlxtend.feature_selection import SequentialFeatureSelector\n",
    "\n",
    "import os\n",
    "from datetime import datetime\n",
    "from github import Github\n",
    "from dotenv import load_dotenv\n",
    "from IPython.display import clear_output\n",
    "\n",
    "pd.set_option('display.max_columns', 200)\n",
    "pd.set_option('display.max_rows', 50)\n",
    "plt.style.use('ggplot')\n",
    "\n",
    "load_dotenv()\n",
    "GITHUB_API_KEY = os.environ['GITHUB_API_KEY']"
   ]
  },
  {
   "cell_type": "code",
   "execution_count": 2,
   "id": "dddc959c",
   "metadata": {},
   "outputs": [],
   "source": [
    "COLUMNS_TO_KEEP = ['Price', 'Latitude', 'Longitude', 'District', 'Layout', 'Floor Space',\n",
    "                    'Fees', 'Furnishing and Fittings', 'Floor', 'Balcony', 'Terrace',\n",
    "                    'Cellar', 'Parking', 'Lift', 'Garage', 'Kindergarten', 'Design',\n",
    "                    'Public transport stop', 'Shop', 'Restaurant', 'School', 'Age',\n",
    "                    'Sports field', 'Condition', 'Building Type', 'PENB', 'Heating',\n",
    "                    'Renovation']\n",
    "\n",
    "MOST_POPULAR_DISCTRICTS = ['Vinohrady', 'Žižkov', 'Nové Město', 'Holešovice', 'Nusle', 'Smíchov',\n",
    "                            'Libeň', 'Vršovice', 'Stodůlky', 'Strašnice', 'Karlín', 'Záběhlice',\n",
    "                            'Chodov', 'Vysočany', 'Michle']\n",
    "\n",
    "COL_REPLACE = {'Building type':'Building Type', 'Floor space':'Floor Space',\n",
    "                    'EPC':'PENB', 'public_transport':'Public transport stop', 'shop':'Shop',\n",
    "                    'restaurant':'Restaurant', 'pharmacy':'Pharmacy', 'school':'School',\n",
    "                    'kindergarten':'Kindergarten', 'sports_field':'Sports field',\n",
    "                    'Reconstruction':'Renovation', 'Fully furnished':'Furnishing and Fittings',\n",
    "                    'Designe':'Design'}\n",
    "\n",
    "ROOMS_WITH_KITCHEN = ['Small studio','Studio','1 bedroom with open-plan kitchen','2 bedroom with open-plan kitchen', '3 bedroom with open-plan kitchen',\n",
    "                    '4 bedroom with open-plan kitchen', '5 bedroom with open-plan kitchen', '6 bedroom with open-plan kitchen', '1+kk', '2+kk', '3+kk',\n",
    "                    '4+kk', '5+kk', '6+kk']"
   ]
  },
  {
   "cell_type": "code",
   "execution_count": 8,
   "id": "fe8fa638",
   "metadata": {},
   "outputs": [],
   "source": [
    "g = Github(GITHUB_API_KEY)\n",
    "repo = g.get_user().get_repo('Estate-Prague')\n",
    "contents = repo.get_contents(\"data-rental\")"
   ]
  },
  {
   "cell_type": "code",
   "execution_count": null,
   "id": "0d0e6ad3",
   "metadata": {},
   "outputs": [],
   "source": []
  },
  {
   "cell_type": "code",
   "execution_count": 36,
   "id": "fcd46c1c",
   "metadata": {},
   "outputs": [],
   "source": [
    "# Extracting unique apartment listings available on Jan, Feb, March 2022\n",
    "df_I_II_III = pd.DataFrame()\n",
    "for i in contents[:63]:\n",
    "    url = i.download_url\n",
    "    df_ = pd.read_csv(url)\n",
    "    df_I_II_III = pd.concat([df_I_II_III,df_],axis=0,ignore_index=True)\n",
    "df_I_II_III = df_I_II_III.drop_duplicates(subset=['Listing ID','Floor Space'], keep='first')\n",
    "df_I_II_III.to_csv(\"df_I_II_IIII.csv\",index=False)"
   ]
  },
  {
   "cell_type": "code",
   "execution_count": 57,
   "id": "d71d609a",
   "metadata": {},
   "outputs": [],
   "source": [
    "def district_extract(string):\n",
    "    try:\n",
    "        district = string.split('Prague - ')[1]\n",
    "    except:\n",
    "        district = string\n",
    "    return district\n",
    "\n",
    "def rare_district_renaming(district):\n",
    "    if district not in MOST_POPULAR_DISCTRICTS:\n",
    "        return np.nan\n",
    "    else:\n",
    "        return district\n",
    "\n",
    "def kitchen(i):\n",
    "    if i in ROOMS_WITH_KITCHEN:\n",
    "        return 0\n",
    "    else:\n",
    "        return 1\n",
    "\n",
    "def number_conversion(number):\n",
    "    if number != number:\n",
    "        return np.nan\n",
    "    else:\n",
    "        n = str(number).replace(',','')\n",
    "        n = float(n)\n",
    "        n = int(n)\n",
    "        return n\n",
    "\n",
    "def preprocessing(dfx):\n",
    "\n",
    "    df_ = dfx.copy()\n",
    "    df_.set_index('Listing ID')\n",
    "    print(f\"Total number of ads: \\t\\t\\t\\t{len(df_)}\")\n",
    "\n",
    "    # Replacing column names in order to match old and new version of bezrealitky website\n",
    "    col_names = df_.columns\n",
    "    for item in COL_REPLACE.items():\n",
    "        col_names = [column.replace(item[0],item[1]) for column in col_names]                    \n",
    "    df_.columns = col_names\n",
    "\n",
    "    # Keeping significant columns only\n",
    "    df_ = df_[COLUMNS_TO_KEEP]\n",
    "\n",
    "    # Extracting the names of the district\n",
    "    df_['District'] = df_['District'].apply(district_extract)\n",
    "\n",
    "    # Keeping only 15 most popular district\n",
    "    df_['District'] = df_['District'].apply(rare_district_renaming)\n",
    "\n",
    "    # Extracting the numerical values\n",
    "    df_['Price'] = pd.to_numeric(df_['Price'].str.replace('CZK ','').str.replace('€','-').str.replace(',',''))\n",
    "    df_['Fees'] = pd.to_numeric(df_['Fees'].str.replace('CZK ','').str.replace('€','-').str.replace(',',''))\n",
    "    df_['Floor Space'] = pd.to_numeric(df_['Floor Space'].str.replace(',','').str.replace(' m²',''))\n",
    "    \n",
    "    # Deleting ads with missing fee value\n",
    "    df_ = df_.dropna(subset=['Fees'])\n",
    "    print(f\"Number of ads after droping missing fees: \\t{len(df_)}\")\n",
    "    \n",
    "    # Removing outliers\n",
    "    df_ = df_[df_['Floor Space']>10]\n",
    "    df_ = df_[df_['Floor Space']<125]\n",
    "    df_ = df_[df_['Price']>3000]\n",
    "    df_ = df_[df_['Price']<30000]\n",
    "    df_ = df_[df_['Fees']<10000]\n",
    "    df_ = df_[df_['Fees']>400]\n",
    "    print(f\"Number of ads after removing outliers: \\t\\t{len(df_)}\")\n",
    "\n",
    "    # Removing Flatio offers\n",
    "    df_['ratio'] = df_['Price']/df_['Fees']\n",
    "    df_ = df_[(df_['ratio'] < 2.999) | (df_['ratio'] > 3.001)]\n",
    "    df_ = df_.drop('ratio',axis=1) \n",
    "    print(f\"Number of ads after removing Flatio offers: \\t{len(df_)}\")\n",
    "\n",
    "    # Total cost\n",
    "    df_['Total price'] = df_['Price']+df_['Fees']\n",
    "    df_ = df_.drop('Price',axis=1) \n",
    "    df_ = df_.drop('Fees',axis=1) \n",
    "\n",
    "    # Assiging if ad has separate kitchen\n",
    "    df_['Separate_kitchen'] = df_['Layout'].copy()\n",
    "    df_['Separate_kitchen'] = df_['Separate_kitchen'].apply(kitchen)\n",
    "\n",
    "    # Maping ordinal values\n",
    "    df_['Layout'] = df_['Layout'].map({\n",
    "        'Small studio':0.5, 'Studio':0.75,\n",
    "        '1 bedroom with open-plan kitchen':1, '1 bedroom':1,\n",
    "        '2 bedroom with open-plan kitchen':2, '2 bedroom':2,\n",
    "        '3 bedroom with open-plan kitchen':3, '3 bedroom':3,\n",
    "        '4 bedroom with open-plan kitchen':4, '4 bedroom':4,\n",
    "        '5 bedroom with open-plan kitchen':5, '5 bedroom':5,\n",
    "        '6 bedroom with open-plan kitchen':6, '6 bedroom':6,\n",
    "        '1+1':1, '2+1':2, '3+1':3, '4+1':4, '5+1':5, '6+1':6,\n",
    "        '1+kk':1, '2+kk':2, '3+kk':3, '4+kk':4, '5+kk':5, '6+kk':6})\n",
    "\n",
    "    df_['PENB'] = df_['PENB'].map({'G':7,'F':6,'E':5,'D':4,'C':3,'B':2,'A':1})\n",
    "\n",
    "    # Maping binary values\n",
    "    df_['Balcony'] = pd.to_numeric(df_['Balcony'].replace({'Yes':1,'No':0}).fillna(0), downcast='integer')\n",
    "    df_['Terrace'] = pd.to_numeric(df_['Terrace'].replace({'Yes':1,'No':0}).fillna(0), downcast='integer')\n",
    "    df_['Cellar'] = pd.to_numeric(df_['Cellar'].replace({'Yes':1,'No':0}).fillna(0), downcast='integer')\n",
    "    df_['Parking'] = pd.to_numeric(df_['Parking'].replace({'Yes':1,'No':0}).fillna(0), downcast='integer')\n",
    "    df_['Lift'] = pd.to_numeric(df_['Lift'].replace({'Yes':1,'No':0}).fillna(0), downcast='integer')\n",
    "    df_['Garage'] = pd.to_numeric(df_['Garage'].replace({'Yes':1,'No':0}).fillna(0), downcast='integer')\n",
    "    # df_['Loggia'] = df_['Loggia'].map({'Yes':1,'No':0})\n",
    "\n",
    "    # Exctacting nummerical values from POIs\n",
    "    df_['Kindergarten'] = df_['Kindergarten'].apply(number_conversion)\n",
    "    df_['Shop'] = df_['Shop'].apply(number_conversion)\n",
    "    df_['Restaurant'] = df_['Restaurant'].apply(number_conversion)\n",
    "    df_['School'] = df_['School'].apply(number_conversion)\n",
    "    df_['Sports field'] = df_['Sports field'].apply(number_conversion)\n",
    "    df_['Public transport stop'] = df_['Public transport stop'].apply(number_conversion)\n",
    "    \n",
    "    # Naming change to match old and new version of bezrealitky website\n",
    "    df_['Furnishing and Fittings'] = df_['Furnishing and Fittings'].replace({'Partially furnished':'Partly','Fully furnished':'Furnished'})\n",
    "    df_['Design'] = df_['Design'].replace({'Standard materials and solutions':'Standard','Premium materials and solutions':'Luxurious'})\n",
    "    df_['Age'] = df_['Age'].replace({'1 to 10 years years':'Up to 10 years','10 to 30 years years':'10 to 30 years','30 to 50 years years':'30 - 50 years','over 50 years years':'Over 50 years'})\n",
    "    df_['Condition'] = df_['Condition'].replace({'Excellent':'Very good','New build':'New-build'})\n",
    "    df_['Building Type'] = df_['Building Type'].replace({'Brick building':'Brick','Prefab concrete building':'Prefab concrete','Low-energy building':'Low-energy'})\n",
    "    df_['Heating'] = df_['Heating'].replace({'Central heating':'Central','District heating':'Distance','Other':np.nan,'Geothermal heat pump':np.nan,'Geothermal':np.nan})\n",
    "    df_['Renovation'] = df_['Renovation'].replace({'Overall':'Complete','Exterior':np.nan,'Bathroom unit':np.nan})\n",
    "\n",
    "    # Filling missing values\n",
    "    df_['Floor'] = df_['Floor'].fillna(1)\n",
    "    df_['PENB'] = df_['PENB'].fillna(df_.groupby('Building Type')['PENB'].transform('median'))\n",
    "    df_['Public transport stop'] = df_['Public transport stop'].fillna(df_['Public transport stop'].median())\n",
    "    df_['Shop'] = df_['Shop'].fillna(df_['Shop'].median())\n",
    "    df_['Restaurant'] = df_['Restaurant'].fillna(df_['Restaurant'].median())\n",
    "    df_['School'] = df_['School'].fillna(df_['School'].median())\n",
    "    df_['Kindergarten'] = df_['Kindergarten'].fillna(df_['Kindergarten'].median())\n",
    "    df_['Sports field'] = df_['Sports field'].fillna(df_['Sports field'].median())\n",
    "\n",
    "    # Grouping values\n",
    "    df_.loc[df_['Floor']>10,'Floor'] = 10\n",
    "\n",
    "    # Removing ads with missing layout\n",
    "    df_ = df_.dropna(subset=['Layout'])\n",
    "    print(f\"Number of ads after removing missing layout: \\t{len(df_)}\")\n",
    "\n",
    "    # Removing extreme cases\n",
    "    df_ = df_[df_['Condition'] != 'Development project']\n",
    "    df_ = df_[df_['Condition'] != 'Wrong']\n",
    "    df_ = df_[df_['Building Type'] != 'Wooden building']\n",
    "    print(f\"Number of ads after removing extreme cases: \\t{len(df_)}\")\n",
    "\n",
    "    return df_\n"
   ]
  },
  {
   "cell_type": "code",
   "execution_count": 38,
   "id": "252d0f01",
   "metadata": {},
   "outputs": [],
   "source": [
    "df_I_II_III = pd.read_csv('df_I_II_III.csv')\n",
    "df_I_II_III = preprocessing(df_I_II_III)\n",
    "y = df_I_II_III['Total price']\n",
    "X = df_I_II_III.drop('Total price',axis=1)\n",
    "X = pd.get_dummies(X,drop_first=False)\n",
    "X.columns = X.columns.str.replace(' ','_')\n",
    "X_train, X_test, y_train, y_test = train_test_split(X,y,test_size=0.2,random_state=101,shuffle=True)"
   ]
  },
  {
   "cell_type": "code",
   "execution_count": 39,
   "id": "dd2db70c",
   "metadata": {},
   "outputs": [],
   "source": [
    "def evaluation(model,X_train,X_test,y_train,y_test):\n",
    "    y_pred_train = model.predict(X_train)\n",
    "    y_pred = model.predict(X_test)\n",
    "\n",
    "    MAE = mean_absolute_error(y_test,y_pred)\n",
    "    ERR = np.mean(np.abs(y_test-y_pred)*100/y_test)\n",
    "    MAE2 = mean_absolute_error(y_train,y_pred_train)\n",
    "    ERR2 = np.mean(np.abs(y_train-y_pred_train)*100/y_train)\n",
    "\n",
    "    print(f'Mean absolute error (train):\\t{np.round(MAE2)} CZK \\t({np.round(ERR2,1)}%)')\n",
    "    print(f'Mean absolute error (test):\\t{np.round(MAE)} CZK \\t({np.round(ERR,1)}%)')"
   ]
  },
  {
   "cell_type": "markdown",
   "id": "27cea9f5",
   "metadata": {},
   "source": [
    "### XGBoost - Hyperparameters tuning"
   ]
  },
  {
   "cell_type": "code",
   "execution_count": 41,
   "id": "3df0786e",
   "metadata": {},
   "outputs": [
    {
     "name": "stdout",
     "output_type": "stream",
     "text": [
      "Evaluation:\n",
      "Mean absolute error (train):\t1596.0 CZK \t(9.4%)\n",
      "Mean absolute error (test):\t1813.0 CZK \t(10.5%)\n"
     ]
    }
   ],
   "source": [
    "grid_paramters = { 'n_estimators': [400],\n",
    "                   'eta': [0.15],\n",
    "                   'gamma': [0.25,0.5,0.75,1],\n",
    "                   'max_depth':[2],\n",
    "                   'subsample': [0.8,0.9,0.95],\n",
    "                   'colsample_bytree': [0.8,0.9,0.95],\n",
    "                   'colsample_bylevel': [0.8,0.9,0.95],\n",
    "                   'colsample_bynode' : [0.8,0.9,0.95],\n",
    "                   'min_child_weight': [0,2.5,5,7.5,10],\n",
    "                   'reg_lambda': [0,2.5,5,9,15,30,60,120],\n",
    "                   'reg_alpha': [1,10,25,50,100,150,200]}\n",
    "\n",
    "xgb1_grid = RandomizedSearchCV( estimator = xgb.XGBRegressor(early_stopping_rounds=10, eval_metric='mae', verbosity=0),\n",
    "                                param_distributions = grid_paramters,\n",
    "                                scoring = 'neg_mean_absolute_error',\n",
    "                                n_iter = 20,\n",
    "                                cv = 5,\n",
    "                                verbose = 0,\n",
    "                                n_jobs = -1)\n",
    "\n",
    "xgb1_grid.fit(X_train,y_train,eval_set=[(X_test, y_test),(X_train,y_train)],verbose=False)\n",
    "\n",
    "print(\"Evaluation:\")\n",
    "evaluation(xgb1_grid,X_train,X_test,y_train,y_test)"
   ]
  },
  {
   "cell_type": "code",
   "execution_count": 151,
   "id": "346b32ec",
   "metadata": {},
   "outputs": [
    {
     "name": "stdout",
     "output_type": "stream",
     "text": [
      "Stored 'best_hyperp_1' (dict)\n"
     ]
    }
   ],
   "source": [
    "best_hyperp_1 = xgb1_grid.best_params_\n",
    "%store best_hyperp_1"
   ]
  },
  {
   "cell_type": "code",
   "execution_count": 43,
   "id": "b4db238d",
   "metadata": {},
   "outputs": [
    {
     "data": {
      "image/png": "[encoded data removed]",
      "text/plain": [
       "<Figure size 720x450 with 1 Axes>"
      ]
     },
     "metadata": {},
     "output_type": "display_data"
    }
   ],
   "source": [
    "results = xgb1_grid.best_estimator_.evals_result()\n",
    "epochs = len(results['validation_0']['mae'])\n",
    "x_axis = range(0, epochs)\n",
    "\n",
    "plt.figure(figsize=(8,5),dpi=90)\n",
    "sns.lineplot(x=x_axis,y=results['validation_0']['mae']).set(title='MAE Train/Test')\n",
    "sns.lineplot(x=x_axis,y=results['validation_1']['mae'])\n",
    "plt.ylim(1500,2500);"
   ]
  },
  {
   "cell_type": "code",
   "execution_count": 54,
   "id": "5b9f3aff",
   "metadata": {},
   "outputs": [
    {
     "data": {
      "image/png": "[encoded data removed]",
      "text/plain": [
       "<Figure size 576x828 with 1 Axes>"
      ]
     },
     "metadata": {},
     "output_type": "display_data"
    }
   ],
   "source": [
    "import shap\n",
    "\n",
    "xgb0 = xgb.XGBRegressor(**best_hyperp_1,eval_metric='mae', verbosity=0)\n",
    "xgb0.fit(X,y,verbose=False)\n",
    "\n",
    "explainer = shap.Explainer(xgb0)\n",
    "shap_values = explainer(X)\n",
    "shap.plots.bar(shap_values,max_display=20)"
   ]
  },
  {
   "cell_type": "code",
   "execution_count": 70,
   "id": "e40736e4",
   "metadata": {},
   "outputs": [
    {
     "name": "stdout",
     "output_type": "stream",
     "text": [
      "Processing file: Prague-2022-08-19.csv\n",
      "Total number of ads: \t\t\t\t844\n",
      "Number of ads after droping missing fees: \t844\n",
      "Number of ads after removing outliers: \t\t688\n",
      "Number of ads after removing Flatio offers: \t635\n",
      "Number of ads after removing missing layout: \t632\n",
      "Number of ads after removing extreme cases: \t632\n"
     ]
    }
   ],
   "source": [
    "%store -r\n",
    "\n",
    "g = Github(GITHUB_API_KEY)\n",
    "repo = g.get_user().get_repo('Estate-Prague')\n",
    "contents = repo.get_contents(\"data-rental\")\n",
    "\n",
    "df_I_II_III = pd.read_csv('df_I_II_III.csv')\n",
    "df_I_II_III = preprocessing(df_I_II_III)\n",
    "X_sample = df_I_II_III.sample(5000, random_state=101).drop('Total price',axis=1)\n",
    "X_sample = pd.get_dummies(X_sample,drop_first=False)\n",
    "X_sample.columns = X_sample.columns.str.replace(' ','_')\n",
    "\n",
    "date_list=[]\n",
    "prediction_list=[]\n",
    "volume_list=[]\n",
    "\n",
    "for file in contents:\n",
    "    clear_output(wait=True)\n",
    "    print(f'Processing file: {file.name}')\n",
    "    url = file.download_url\n",
    "    df = pd.read_csv(url)\n",
    "    df = preprocessing(df)\n",
    "\n",
    "    y = df['Total price']\n",
    "    X = pd.get_dummies(df.drop('Total price',axis=1),drop_first=False)\n",
    "    X.columns = X.columns.str.replace(' ','_')\n",
    "    xgb0 = xgb.XGBRegressor(**best_hyperp_1, eval_metric='mae', verbosity=0)\n",
    "    xgb0.fit(X,y)\n",
    "\n",
    "    y_sample_predition = xgb0.predict(X_sample)\n",
    "    size_listing = len(df)\n",
    "    prediction_list.append(y_sample_predition)\n",
    "    volume_list.append(size_listing)\n",
    "    date_list.append(datetime.strptime(file.name, 'Prague-%Y-%m-%d.csv'))"
   ]
  },
  {
   "cell_type": "code",
   "execution_count": 71,
   "id": "21e777e2",
   "metadata": {},
   "outputs": [],
   "source": [
    "price_change = []\n",
    "for prediction in prediction_list:\n",
    "    delta = ((prediction-prediction_list[0])/prediction_list[0]).mean()*100\n",
    "    price_change.append(delta)"
   ]
  },
  {
   "cell_type": "code",
   "execution_count": 124,
   "id": "d04c1fcb",
   "metadata": {},
   "outputs": [
    {
     "data": {
      "application/vnd.plotly.v1+json": {
       "config": {
        "plotlyServerURL": "https://plot.ly"
       },
       "data": [
        {
         "type": "scatter",
         "x": [
          "2022-01-01T00:00:00",
          "2022-01-05T00:00:00",
          "2022-01-06T00:00:00",
          "2022-01-08T00:00:00",
          "2022-01-09T00:00:00",
          "2022-01-10T00:00:00",
          "2022-01-11T00:00:00",
          "2022-01-12T00:00:00",
          "2022-01-13T00:00:00",
          "2022-01-14T00:00:00",
          "2022-01-15T00:00:00",
          "2022-01-16T00:00:00",
          "2022-01-18T00:00:00",
          "2022-01-19T00:00:00",
          "2022-01-20T00:00:00",
          "2022-01-21T00:00:00",
          "2022-01-22T00:00:00",
          "2022-01-23T00:00:00",
          "2022-01-24T00:00:00",
          "2022-01-25T00:00:00",
          "2022-01-26T00:00:00",
          "2022-01-28T00:00:00",
          "2022-01-29T00:00:00",
          "2022-01-31T00:00:00",
          "2022-02-01T00:00:00",
          "2022-02-02T00:00:00",
          "2022-02-03T00:00:00",
          "2022-02-04T00:00:00",
          "2022-02-05T00:00:00",
          "2022-02-06T00:00:00",
          "2022-02-07T00:00:00",
          "2022-02-08T00:00:00",
          "2022-02-10T00:00:00",
          "2022-02-15T00:00:00",
          "2022-02-16T00:00:00",
          "2022-02-18T00:00:00",
          "2022-02-20T00:00:00",
          "2022-02-22T00:00:00",
          "2022-02-23T00:00:00",
          "2022-02-24T00:00:00",
          "2022-02-25T00:00:00",
          "2022-03-03T00:00:00",
          "2022-03-04T00:00:00",
          "2022-03-05T00:00:00",
          "2022-03-07T00:00:00",
          "2022-03-09T00:00:00",
          "2022-03-10T00:00:00",
          "2022-03-11T00:00:00",
          "2022-03-12T00:00:00",
          "2022-03-13T00:00:00",
          "2022-03-14T00:00:00",
          "2022-03-15T00:00:00",
          "2022-03-16T00:00:00",
          "2022-03-17T00:00:00",
          "2022-03-18T00:00:00",
          "2022-03-19T00:00:00",
          "2022-03-20T00:00:00",
          "2022-03-21T00:00:00",
          "2022-03-22T00:00:00",
          "2022-03-23T00:00:00",
          "2022-03-26T00:00:00",
          "2022-03-27T00:00:00",
          "2022-03-28T00:00:00",
          "2022-04-02T00:00:00",
          "2022-04-07T00:00:00",
          "2022-04-08T00:00:00",
          "2022-04-10T00:00:00",
          "2022-04-11T00:00:00",
          "2022-04-12T00:00:00",
          "2022-04-13T00:00:00",
          "2022-04-14T00:00:00",
          "2022-04-17T00:00:00",
          "2022-04-18T00:00:00",
          "2022-04-19T00:00:00",
          "2022-04-20T00:00:00",
          "2022-04-21T00:00:00",
          "2022-04-23T00:00:00",
          "2022-04-24T00:00:00",
          "2022-04-25T00:00:00",
          "2022-04-26T00:00:00",
          "2022-04-28T00:00:00",
          "2022-04-29T00:00:00",
          "2022-04-30T00:00:00",
          "2022-05-02T00:00:00",
          "2022-05-03T00:00:00",
          "2022-05-04T00:00:00",
          "2022-05-05T00:00:00",
          "2022-05-07T00:00:00",
          "2022-05-08T00:00:00",
          "2022-05-09T00:00:00",
          "2022-05-10T00:00:00",
          "2022-05-12T00:00:00",
          "2022-05-13T00:00:00",
          "2022-05-14T00:00:00",
          "2022-05-15T00:00:00",
          "2022-05-16T00:00:00",
          "2022-05-18T00:00:00",
          "2022-05-19T00:00:00",
          "2022-05-20T00:00:00",
          "2022-05-21T00:00:00",
          "2022-05-23T00:00:00",
          "2022-05-24T00:00:00",
          "2022-05-25T00:00:00",
          "2022-06-25T00:00:00",
          "2022-06-26T00:00:00",
          "2022-06-27T00:00:00",
          "2022-06-28T00:00:00",
          "2022-06-29T00:00:00",
          "2022-06-30T00:00:00",
          "2022-07-01T00:00:00",
          "2022-07-02T00:00:00",
          "2022-07-03T00:00:00",
          "2022-07-04T00:00:00",
          "2022-07-05T00:00:00",
          "2022-07-06T00:00:00",
          "2022-07-07T00:00:00",
          "2022-07-08T00:00:00",
          "2022-07-09T00:00:00",
          "2022-07-10T00:00:00",
          "2022-07-11T00:00:00",
          "2022-07-12T00:00:00",
          "2022-07-13T00:00:00",
          "2022-07-14T00:00:00",
          "2022-07-15T00:00:00",
          "2022-07-16T00:00:00",
          "2022-07-17T00:00:00",
          "2022-07-18T00:00:00",
          "2022-07-19T00:00:00",
          "2022-07-20T00:00:00",
          "2022-07-21T00:00:00",
          "2022-07-22T00:00:00",
          "2022-07-23T00:00:00",
          "2022-07-24T00:00:00",
          "2022-07-25T00:00:00",
          "2022-07-26T00:00:00",
          "2022-07-27T00:00:00",
          "2022-07-28T00:00:00",
          "2022-07-29T00:00:00",
          "2022-07-30T00:00:00",
          "2022-07-31T00:00:00",
          "2022-08-01T00:00:00",
          "2022-08-02T00:00:00",
          "2022-08-03T00:00:00",
          "2022-08-04T00:00:00",
          "2022-08-05T00:00:00",
          "2022-08-06T00:00:00",
          "2022-08-07T00:00:00",
          "2022-08-08T00:00:00",
          "2022-08-09T00:00:00",
          "2022-08-10T00:00:00",
          "2022-08-11T00:00:00",
          "2022-08-12T00:00:00",
          "2022-08-13T00:00:00",
          "2022-08-14T00:00:00",
          "2022-08-15T00:00:00",
          "2022-08-16T00:00:00",
          "2022-08-17T00:00:00",
          "2022-08-18T00:00:00",
          "2022-08-19T00:00:00"
         ],
         "xaxis": "x",
         "y": [
          0,
          0.01681461144471541,
          0.5246143322438002,
          0.37534767761826515,
          0.2796469023451209,
          0.30903590377420187,
          0.38627716712653637,
          0.6781233940273523,
          0.46588899567723274,
          0.5340626463294029,
          0.7364545483142138,
          0.523740379139781,
          0.07008310058154166,
          0.715468917042017,
          0.38415370509028435,
          0.5119409877806902,
          0.4737368319183588,
          0.6152093410491943,
          0.9323945268988609,
          0.900773424655199,
          1.0445711202919483,
          1.0008097626268864,
          0.7904233410954475,
          0.8591890335083008,
          1.2287504971027374,
          1.2533037923276424,
          1.387244276702404,
          1.5201974660158157,
          1.3822094537317753,
          1.36732691898942,
          1.5688685700297356,
          1.4992660842835903,
          1.6284985467791557,
          1.5129787847399712,
          1.6296319663524628,
          1.6803326085209846,
          1.9750213250517845,
          1.985393464565277,
          1.974056288599968,
          2.1834740415215492,
          2.4581849575042725,
          2.9715994372963905,
          2.9934465885162354,
          2.9987506568431854,
          3.0822766944766045,
          3.6371253430843353,
          3.4787997603416443,
          3.780399262905121,
          3.51119264960289,
          3.523186594247818,
          3.5163648426532745,
          3.63757461309433,
          3.7029918283224106,
          3.4234505146741867,
          3.4325655549764633,
          3.578539937734604,
          3.85180227458477,
          3.856583684682846,
          4.349980875849724,
          4.392893239855766,
          4.807177931070328,
          5.272166803479195,
          4.733818396925926,
          5.592981725931168,
          5.760107561945915,
          5.9927936643362045,
          5.547071993350983,
          5.8928851038217545,
          5.7135023176670074,
          5.6855689734220505,
          6.481719762086868,
          6.630349159240723,
          6.5928637981414795,
          6.372196227312088,
          5.85300549864769,
          5.8440882712602615,
          7.134081423282623,
          7.399355620145798,
          7.237759232521057,
          7.428205758333206,
          8.083490282297134,
          8.225130289793015,
          8.187216520309448,
          8.374318480491638,
          8.152647316455841,
          8.304987847805023,
          8.4618479013443,
          9.545213729143143,
          10.238613188266754,
          9.87633392214775,
          9.908110648393631,
          10.23084968328476,
          10.7345350086689,
          10.496337711811066,
          10.106687247753143,
          10.157598555088043,
          9.96718555688858,
          10.277529060840607,
          10.25058701634407,
          10.240714997053146,
          10.26618629693985,
          10.398215055465698,
          10.013943910598755,
          8.428197354078293,
          8.749739080667496,
          9.38018187880516,
          9.780734777450562,
          8.973927050828934,
          9.14304256439209,
          7.942158728837967,
          8.237393945455551,
          8.480916917324066,
          9.091313183307648,
          9.17932614684105,
          7.945654541254044,
          8.74127671122551,
          8.26592743396759,
          7.688756287097931,
          8.465060591697693,
          9.11768525838852,
          10.192056745290756,
          9.157221764326096,
          10.145970433950424,
          10.13932153582573,
          9.731882065534592,
          9.55749899148941,
          10.493666678667068,
          9.273120015859604,
          10.580671578645706,
          10.516407340765,
          10.584402084350586,
          10.873779654502869,
          11.500688642263412,
          11.914817243814468,
          11.434806883335114,
          12.280914187431335,
          12.612499296665192,
          13.114279508590698,
          12.162338942289352,
          13.115574419498444,
          12.834201753139496,
          13.42979520559311,
          13.21910172700882,
          13.1429523229599,
          13.253732025623322,
          12.774865329265594,
          12.847548723220825,
          12.833811342716217,
          12.760286033153534,
          13.042336702346802,
          12.864959239959717,
          13.26388269662857,
          13.687771558761597,
          14.54225778579712,
          14.344464242458344,
          14.52147513628006,
          14.41853791475296,
          13.908679783344269,
          14.707624912261963
         ],
         "yaxis": "y"
        },
        {
         "type": "bar",
         "x": [
          "2022-01-01T00:00:00",
          "2022-01-05T00:00:00",
          "2022-01-06T00:00:00",
          "2022-01-08T00:00:00",
          "2022-01-09T00:00:00",
          "2022-01-10T00:00:00",
          "2022-01-11T00:00:00",
          "2022-01-12T00:00:00",
          "2022-01-13T00:00:00",
          "2022-01-14T00:00:00",
          "2022-01-15T00:00:00",
          "2022-01-16T00:00:00",
          "2022-01-18T00:00:00",
          "2022-01-19T00:00:00",
          "2022-01-20T00:00:00",
          "2022-01-21T00:00:00",
          "2022-01-22T00:00:00",
          "2022-01-23T00:00:00",
          "2022-01-24T00:00:00",
          "2022-01-25T00:00:00",
          "2022-01-26T00:00:00",
          "2022-01-28T00:00:00",
          "2022-01-29T00:00:00",
          "2022-01-31T00:00:00",
          "2022-02-01T00:00:00",
          "2022-02-02T00:00:00",
          "2022-02-03T00:00:00",
          "2022-02-04T00:00:00",
          "2022-02-05T00:00:00",
          "2022-02-06T00:00:00",
          "2022-02-07T00:00:00",
          "2022-02-08T00:00:00",
          "2022-02-10T00:00:00",
          "2022-02-15T00:00:00",
          "2022-02-16T00:00:00",
          "2022-02-18T00:00:00",
          "2022-02-20T00:00:00",
          "2022-02-22T00:00:00",
          "2022-02-23T00:00:00",
          "2022-02-24T00:00:00",
          "2022-02-25T00:00:00",
          "2022-03-03T00:00:00",
          "2022-03-04T00:00:00",
          "2022-03-05T00:00:00",
          "2022-03-07T00:00:00",
          "2022-03-09T00:00:00",
          "2022-03-10T00:00:00",
          "2022-03-11T00:00:00",
          "2022-03-12T00:00:00",
          "2022-03-13T00:00:00",
          "2022-03-14T00:00:00",
          "2022-03-15T00:00:00",
          "2022-03-16T00:00:00",
          "2022-03-17T00:00:00",
          "2022-03-18T00:00:00",
          "2022-03-19T00:00:00",
          "2022-03-20T00:00:00",
          "2022-03-21T00:00:00",
          "2022-03-22T00:00:00",
          "2022-03-23T00:00:00",
          "2022-03-26T00:00:00",
          "2022-03-27T00:00:00",
          "2022-03-28T00:00:00",
          "2022-04-02T00:00:00",
          "2022-04-07T00:00:00",
          "2022-04-08T00:00:00",
          "2022-04-10T00:00:00",
          "2022-04-11T00:00:00",
          "2022-04-12T00:00:00",
          "2022-04-13T00:00:00",
          "2022-04-14T00:00:00",
          "2022-04-17T00:00:00",
          "2022-04-18T00:00:00",
          "2022-04-19T00:00:00",
          "2022-04-20T00:00:00",
          "2022-04-21T00:00:00",
          "2022-04-23T00:00:00",
          "2022-04-24T00:00:00",
          "2022-04-25T00:00:00",
          "2022-04-26T00:00:00",
          "2022-04-28T00:00:00",
          "2022-04-29T00:00:00",
          "2022-04-30T00:00:00",
          "2022-05-02T00:00:00",
          "2022-05-03T00:00:00",
          "2022-05-04T00:00:00",
          "2022-05-05T00:00:00",
          "2022-05-07T00:00:00",
          "2022-05-08T00:00:00",
          "2022-05-09T00:00:00",
          "2022-05-10T00:00:00",
          "2022-05-12T00:00:00",
          "2022-05-13T00:00:00",
          "2022-05-14T00:00:00",
          "2022-05-15T00:00:00",
          "2022-05-16T00:00:00",
          "2022-05-18T00:00:00",
          "2022-05-19T00:00:00",
          "2022-05-20T00:00:00",
          "2022-05-21T00:00:00",
          "2022-05-23T00:00:00",
          "2022-05-24T00:00:00",
          "2022-05-25T00:00:00",
          "2022-06-25T00:00:00",
          "2022-06-26T00:00:00",
          "2022-06-27T00:00:00",
          "2022-06-28T00:00:00",
          "2022-06-29T00:00:00",
          "2022-06-30T00:00:00",
          "2022-07-01T00:00:00",
          "2022-07-02T00:00:00",
          "2022-07-03T00:00:00",
          "2022-07-04T00:00:00",
          "2022-07-05T00:00:00",
          "2022-07-06T00:00:00",
          "2022-07-07T00:00:00",
          "2022-07-08T00:00:00",
          "2022-07-09T00:00:00",
          "2022-07-10T00:00:00",
          "2022-07-11T00:00:00",
          "2022-07-12T00:00:00",
          "2022-07-13T00:00:00",
          "2022-07-14T00:00:00",
          "2022-07-15T00:00:00",
          "2022-07-16T00:00:00",
          "2022-07-17T00:00:00",
          "2022-07-18T00:00:00",
          "2022-07-19T00:00:00",
          "2022-07-20T00:00:00",
          "2022-07-21T00:00:00",
          "2022-07-22T00:00:00",
          "2022-07-23T00:00:00",
          "2022-07-24T00:00:00",
          "2022-07-25T00:00:00",
          "2022-07-26T00:00:00",
          "2022-07-27T00:00:00",
          "2022-07-28T00:00:00",
          "2022-07-29T00:00:00",
          "2022-07-30T00:00:00",
          "2022-07-31T00:00:00",
          "2022-08-01T00:00:00",
          "2022-08-02T00:00:00",
          "2022-08-03T00:00:00",
          "2022-08-04T00:00:00",
          "2022-08-05T00:00:00",
          "2022-08-06T00:00:00",
          "2022-08-07T00:00:00",
          "2022-08-08T00:00:00",
          "2022-08-09T00:00:00",
          "2022-08-10T00:00:00",
          "2022-08-11T00:00:00",
          "2022-08-12T00:00:00",
          "2022-08-13T00:00:00",
          "2022-08-14T00:00:00",
          "2022-08-15T00:00:00",
          "2022-08-16T00:00:00",
          "2022-08-17T00:00:00",
          "2022-08-18T00:00:00",
          "2022-08-19T00:00:00"
         ],
         "xaxis": "x2",
         "y": [
          1133,
          1277,
          1279,
          1303,
          1292,
          1291,
          1304,
          1315,
          1338,
          1315,
          1297,
          1298,
          1328,
          1346,
          1353,
          1339,
          1328,
          1322,
          1340,
          1355,
          1406,
          1403,
          1370,
          1387,
          1377,
          1406,
          1397,
          1381,
          1370,
          1373,
          1396,
          1383,
          1386,
          1365,
          1375,
          1366,
          1341,
          1342,
          1347,
          1348,
          1357,
          1264,
          1250,
          1205,
          1144,
          1106,
          1069,
          1044,
          1028,
          1002,
          983,
          989,
          970,
          958,
          945,
          897,
          861,
          852,
          845,
          822,
          763,
          747,
          755,
          718,
          695,
          698,
          672,
          665,
          666,
          669,
          676,
          647,
          654,
          660,
          685,
          711,
          682,
          680,
          691,
          697,
          693,
          716,
          699,
          677,
          669,
          669,
          674,
          642,
          644,
          650,
          661,
          663,
          668,
          688,
          683,
          682,
          702,
          704,
          706,
          704,
          696,
          704,
          703,
          782,
          772,
          772,
          757,
          752,
          742,
          724,
          698,
          684,
          681,
          676,
          681,
          691,
          697,
          699,
          705,
          705,
          706,
          717,
          721,
          699,
          700,
          687,
          672,
          672,
          691,
          698,
          683,
          656,
          658,
          655,
          666,
          657,
          662,
          642,
          632,
          623,
          627,
          641,
          631,
          638,
          632,
          635,
          634,
          646,
          663,
          676,
          653,
          647,
          639,
          630,
          647,
          655,
          639,
          649,
          632
         ],
         "yaxis": "y2"
        }
       ],
       "layout": {
        "height": 700,
        "margin": {
         "b": 20,
         "l": 20,
         "r": 20,
         "t": 20
        },
        "showlegend": false,
        "template": {
         "data": {
          "bar": [
           {
            "error_x": {
             "color": "#2a3f5f"
            },
            "error_y": {
             "color": "#2a3f5f"
            },
            "marker": {
             "line": {
              "color": "#E5ECF6",
              "width": 0.5
             },
             "pattern": {
              "fillmode": "overlay",
              "size": 10,
              "solidity": 0.2
             }
            },
            "type": "bar"
           }
          ],
          "barpolar": [
           {
            "marker": {
             "line": {
              "color": "#E5ECF6",
              "width": 0.5
             },
             "pattern": {
              "fillmode": "overlay",
              "size": 10,
              "solidity": 0.2
             }
            },
            "type": "barpolar"
           }
          ],
          "carpet": [
           {
            "aaxis": {
             "endlinecolor": "#2a3f5f",
             "gridcolor": "white",
             "linecolor": "white",
             "minorgridcolor": "white",
             "startlinecolor": "#2a3f5f"
            },
            "baxis": {
             "endlinecolor": "#2a3f5f",
             "gridcolor": "white",
             "linecolor": "white",
             "minorgridcolor": "white",
             "startlinecolor": "#2a3f5f"
            },
            "type": "carpet"
           }
          ],
          "choropleth": [
           {
            "colorbar": {
             "outlinewidth": 0,
             "ticks": ""
            },
            "type": "choropleth"
           }
          ],
          "contour": [
           {
            "colorbar": {
             "outlinewidth": 0,
             "ticks": ""
            },
            "colorscale": [
             [
              0,
              "#0d0887"
             ],
             [
              0.1111111111111111,
              "#46039f"
             ],
             [
              0.2222222222222222,
              "#7201a8"
             ],
             [
              0.3333333333333333,
              "#9c179e"
             ],
             [
              0.4444444444444444,
              "#bd3786"
             ],
             [
              0.5555555555555556,
              "#d8576b"
             ],
             [
              0.6666666666666666,
              "#ed7953"
             ],
             [
              0.7777777777777778,
              "#fb9f3a"
             ],
             [
              0.8888888888888888,
              "#fdca26"
             ],
             [
              1,
              "#f0f921"
             ]
            ],
            "type": "contour"
           }
          ],
          "contourcarpet": [
           {
            "colorbar": {
             "outlinewidth": 0,
             "ticks": ""
            },
            "type": "contourcarpet"
           }
          ],
          "heatmap": [
           {
            "colorbar": {
             "outlinewidth": 0,
             "ticks": ""
            },
            "colorscale": [
             [
              0,
              "#0d0887"
             ],
             [
              0.1111111111111111,
              "#46039f"
             ],
             [
              0.2222222222222222,
              "#7201a8"
             ],
             [
              0.3333333333333333,
              "#9c179e"
             ],
             [
              0.4444444444444444,
              "#bd3786"
             ],
             [
              0.5555555555555556,
              "#d8576b"
             ],
             [
              0.6666666666666666,
              "#ed7953"
             ],
             [
              0.7777777777777778,
              "#fb9f3a"
             ],
             [
              0.8888888888888888,
              "#fdca26"
             ],
             [
              1,
              "#f0f921"
             ]
            ],
            "type": "heatmap"
           }
          ],
          "heatmapgl": [
           {
            "colorbar": {
             "outlinewidth": 0,
             "ticks": ""
            },
            "colorscale": [
             [
              0,
              "#0d0887"
             ],
             [
              0.1111111111111111,
              "#46039f"
             ],
             [
              0.2222222222222222,
              "#7201a8"
             ],
             [
              0.3333333333333333,
              "#9c179e"
             ],
             [
              0.4444444444444444,
              "#bd3786"
             ],
             [
              0.5555555555555556,
              "#d8576b"
             ],
             [
              0.6666666666666666,
              "#ed7953"
             ],
             [
              0.7777777777777778,
              "#fb9f3a"
             ],
             [
              0.8888888888888888,
              "#fdca26"
             ],
             [
              1,
              "#f0f921"
             ]
            ],
            "type": "heatmapgl"
           }
          ],
          "histogram": [
           {
            "marker": {
             "pattern": {
              "fillmode": "overlay",
              "size": 10,
              "solidity": 0.2
             }
            },
            "type": "histogram"
           }
          ],
          "histogram2d": [
           {
            "colorbar": {
             "outlinewidth": 0,
             "ticks": ""
            },
            "colorscale": [
             [
              0,
              "#0d0887"
             ],
             [
              0.1111111111111111,
              "#46039f"
             ],
             [
              0.2222222222222222,
              "#7201a8"
             ],
             [
              0.3333333333333333,
              "#9c179e"
             ],
             [
              0.4444444444444444,
              "#bd3786"
             ],
             [
              0.5555555555555556,
              "#d8576b"
             ],
             [
              0.6666666666666666,
              "#ed7953"
             ],
             [
              0.7777777777777778,
              "#fb9f3a"
             ],
             [
              0.8888888888888888,
              "#fdca26"
             ],
             [
              1,
              "#f0f921"
             ]
            ],
            "type": "histogram2d"
           }
          ],
          "histogram2dcontour": [
           {
            "colorbar": {
             "outlinewidth": 0,
             "ticks": ""
            },
            "colorscale": [
             [
              0,
              "#0d0887"
             ],
             [
              0.1111111111111111,
              "#46039f"
             ],
             [
              0.2222222222222222,
              "#7201a8"
             ],
             [
              0.3333333333333333,
              "#9c179e"
             ],
             [
              0.4444444444444444,
              "#bd3786"
             ],
             [
              0.5555555555555556,
              "#d8576b"
             ],
             [
              0.6666666666666666,
              "#ed7953"
             ],
             [
              0.7777777777777778,
              "#fb9f3a"
             ],
             [
              0.8888888888888888,
              "#fdca26"
             ],
             [
              1,
              "#f0f921"
             ]
            ],
            "type": "histogram2dcontour"
           }
          ],
          "mesh3d": [
           {
            "colorbar": {
             "outlinewidth": 0,
             "ticks": ""
            },
            "type": "mesh3d"
           }
          ],
          "parcoords": [
           {
            "line": {
             "colorbar": {
              "outlinewidth": 0,
              "ticks": ""
             }
            },
            "type": "parcoords"
           }
          ],
          "pie": [
           {
            "automargin": true,
            "type": "pie"
           }
          ],
          "scatter": [
           {
            "marker": {
             "colorbar": {
              "outlinewidth": 0,
              "ticks": ""
             }
            },
            "type": "scatter"
           }
          ],
          "scatter3d": [
           {
            "line": {
             "colorbar": {
              "outlinewidth": 0,
              "ticks": ""
             }
            },
            "marker": {
             "colorbar": {
              "outlinewidth": 0,
              "ticks": ""
             }
            },
            "type": "scatter3d"
           }
          ],
          "scattercarpet": [
           {
            "marker": {
             "colorbar": {
              "outlinewidth": 0,
              "ticks": ""
             }
            },
            "type": "scattercarpet"
           }
          ],
          "scattergeo": [
           {
            "marker": {
             "colorbar": {
              "outlinewidth": 0,
              "ticks": ""
             }
            },
            "type": "scattergeo"
           }
          ],
          "scattergl": [
           {
            "marker": {
             "colorbar": {
              "outlinewidth": 0,
              "ticks": ""
             }
            },
            "type": "scattergl"
           }
          ],
          "scattermapbox": [
           {
            "marker": {
             "colorbar": {
              "outlinewidth": 0,
              "ticks": ""
             }
            },
            "type": "scattermapbox"
           }
          ],
          "scatterpolar": [
           {
            "marker": {
             "colorbar": {
              "outlinewidth": 0,
              "ticks": ""
             }
            },
            "type": "scatterpolar"
           }
          ],
          "scatterpolargl": [
           {
            "marker": {
             "colorbar": {
              "outlinewidth": 0,
              "ticks": ""
             }
            },
            "type": "scatterpolargl"
           }
          ],
          "scatterternary": [
           {
            "marker": {
             "colorbar": {
              "outlinewidth": 0,
              "ticks": ""
             }
            },
            "type": "scatterternary"
           }
          ],
          "surface": [
           {
            "colorbar": {
             "outlinewidth": 0,
             "ticks": ""
            },
            "colorscale": [
             [
              0,
              "#0d0887"
             ],
             [
              0.1111111111111111,
              "#46039f"
             ],
             [
              0.2222222222222222,
              "#7201a8"
             ],
             [
              0.3333333333333333,
              "#9c179e"
             ],
             [
              0.4444444444444444,
              "#bd3786"
             ],
             [
              0.5555555555555556,
              "#d8576b"
             ],
             [
              0.6666666666666666,
              "#ed7953"
             ],
             [
              0.7777777777777778,
              "#fb9f3a"
             ],
             [
              0.8888888888888888,
              "#fdca26"
             ],
             [
              1,
              "#f0f921"
             ]
            ],
            "type": "surface"
           }
          ],
          "table": [
           {
            "cells": {
             "fill": {
              "color": "#EBF0F8"
             },
             "line": {
              "color": "white"
             }
            },
            "header": {
             "fill": {
              "color": "#C8D4E3"
             },
             "line": {
              "color": "white"
             }
            },
            "type": "table"
           }
          ]
         },
         "layout": {
          "annotationdefaults": {
           "arrowcolor": "#2a3f5f",
           "arrowhead": 0,
           "arrowwidth": 1
          },
          "autotypenumbers": "strict",
          "coloraxis": {
           "colorbar": {
            "outlinewidth": 0,
            "ticks": ""
           }
          },
          "colorscale": {
           "diverging": [
            [
             0,
             "#8e0152"
            ],
            [
             0.1,
             "#c51b7d"
            ],
            [
             0.2,
             "#de77ae"
            ],
            [
             0.3,
             "#f1b6da"
            ],
            [
             0.4,
             "#fde0ef"
            ],
            [
             0.5,
             "#f7f7f7"
            ],
            [
             0.6,
             "#e6f5d0"
            ],
            [
             0.7,
             "#b8e186"
            ],
            [
             0.8,
             "#7fbc41"
            ],
            [
             0.9,
             "#4d9221"
            ],
            [
             1,
             "#276419"
            ]
           ],
           "sequential": [
            [
             0,
             "#0d0887"
            ],
            [
             0.1111111111111111,
             "#46039f"
            ],
            [
             0.2222222222222222,
             "#7201a8"
            ],
            [
             0.3333333333333333,
             "#9c179e"
            ],
            [
             0.4444444444444444,
             "#bd3786"
            ],
            [
             0.5555555555555556,
             "#d8576b"
            ],
            [
             0.6666666666666666,
             "#ed7953"
            ],
            [
             0.7777777777777778,
             "#fb9f3a"
            ],
            [
             0.8888888888888888,
             "#fdca26"
            ],
            [
             1,
             "#f0f921"
            ]
           ],
           "sequentialminus": [
            [
             0,
             "#0d0887"
            ],
            [
             0.1111111111111111,
             "#46039f"
            ],
            [
             0.2222222222222222,
             "#7201a8"
            ],
            [
             0.3333333333333333,
             "#9c179e"
            ],
            [
             0.4444444444444444,
             "#bd3786"
            ],
            [
             0.5555555555555556,
             "#d8576b"
            ],
            [
             0.6666666666666666,
             "#ed7953"
            ],
            [
             0.7777777777777778,
             "#fb9f3a"
            ],
            [
             0.8888888888888888,
             "#fdca26"
            ],
            [
             1,
             "#f0f921"
            ]
           ]
          },
          "colorway": [
           "#636efa",
           "#EF553B",
           "#00cc96",
           "#ab63fa",
           "#FFA15A",
           "#19d3f3",
           "#FF6692",
           "#B6E880",
           "#FF97FF",
           "#FECB52"
          ],
          "font": {
           "color": "#2a3f5f"
          },
          "geo": {
           "bgcolor": "white",
           "lakecolor": "white",
           "landcolor": "#E5ECF6",
           "showlakes": true,
           "showland": true,
           "subunitcolor": "white"
          },
          "hoverlabel": {
           "align": "left"
          },
          "hovermode": "closest",
          "mapbox": {
           "style": "light"
          },
          "paper_bgcolor": "white",
          "plot_bgcolor": "#E5ECF6",
          "polar": {
           "angularaxis": {
            "gridcolor": "white",
            "linecolor": "white",
            "ticks": ""
           },
           "bgcolor": "#E5ECF6",
           "radialaxis": {
            "gridcolor": "white",
            "linecolor": "white",
            "ticks": ""
           }
          },
          "scene": {
           "xaxis": {
            "backgroundcolor": "#E5ECF6",
            "gridcolor": "white",
            "gridwidth": 2,
            "linecolor": "white",
            "showbackground": true,
            "ticks": "",
            "zerolinecolor": "white"
           },
           "yaxis": {
            "backgroundcolor": "#E5ECF6",
            "gridcolor": "white",
            "gridwidth": 2,
            "linecolor": "white",
            "showbackground": true,
            "ticks": "",
            "zerolinecolor": "white"
           },
           "zaxis": {
            "backgroundcolor": "#E5ECF6",
            "gridcolor": "white",
            "gridwidth": 2,
            "linecolor": "white",
            "showbackground": true,
            "ticks": "",
            "zerolinecolor": "white"
           }
          },
          "shapedefaults": {
           "line": {
            "color": "#2a3f5f"
           }
          },
          "ternary": {
           "aaxis": {
            "gridcolor": "white",
            "linecolor": "white",
            "ticks": ""
           },
           "baxis": {
            "gridcolor": "white",
            "linecolor": "white",
            "ticks": ""
           },
           "bgcolor": "#E5ECF6",
           "caxis": {
            "gridcolor": "white",
            "linecolor": "white",
            "ticks": ""
           }
          },
          "title": {
           "x": 0.05
          },
          "xaxis": {
           "automargin": true,
           "gridcolor": "white",
           "linecolor": "white",
           "ticks": "",
           "title": {
            "standoff": 15
           },
           "zerolinecolor": "white",
           "zerolinewidth": 2
          },
          "yaxis": {
           "automargin": true,
           "gridcolor": "white",
           "linecolor": "white",
           "ticks": "",
           "title": {
            "standoff": 15
           },
           "zerolinecolor": "white",
           "zerolinewidth": 2
          }
         }
        },
        "width": 1000,
        "xaxis": {
         "anchor": "y",
         "domain": [
          0,
          1
         ]
        },
        "xaxis2": {
         "anchor": "y2",
         "domain": [
          0,
          1
         ]
        },
        "yaxis": {
         "anchor": "x",
         "domain": [
          0.2615384615384615,
          0.9999999999999999
         ],
         "title": {
          "text": "Price change [%]"
         }
        },
        "yaxis2": {
         "anchor": "x2",
         "domain": [
          0,
          0.22153846153846152
         ],
         "title": {
          "text": "Number of listings"
         }
        }
       }
      }
     },
     "metadata": {},
     "output_type": "display_data"
    }
   ],
   "source": [
    "from plotly.subplots import make_subplots\n",
    "import plotly.graph_objects as go\n",
    "\n",
    "fig = make_subplots(\n",
    "            rows=2,\n",
    "            cols=1,\n",
    "            # shared_xaxes=True,\n",
    "            vertical_spacing=0.04,\n",
    "            # subplot_titles=(\"Price change\", \"Lumber of listings\"),\n",
    "            row_heights=[1, 0.3])\n",
    "\n",
    "x = np.arange(10)\n",
    "\n",
    "\n",
    "fig.add_trace(\n",
    "    go.Scatter(x=date_list,y=price_change),\n",
    "    row=1,col=1)\n",
    "\n",
    "fig.add_trace(\n",
    "    go.Bar(x=date_list,y=volume_list),\n",
    "    row=2,col=1)\n",
    "\n",
    "fig.update_yaxes(title_text=\"Price change [%]\", row=1, col=1)\n",
    "fig.update_yaxes(title_text=\"Number of listings\", row=2, col=1)\n",
    "\n",
    "fig.update_layout(\n",
    "    # title_text='New Score Distribution (Accepted + Rejected)',\n",
    "    # xaxis_title_text='Score', \n",
    "    # yaxis_title_text='Count',\n",
    "    width=1000,\n",
    "    height=700,\n",
    "    margin=dict(l=20, r=20, t=20, b=20),\n",
    "    showlegend=False\n",
    "    )\n",
    "\n",
    "\n",
    "fig.show()"
   ]
  },
  {
   "cell_type": "markdown",
   "id": "5d1ec024",
   "metadata": {},
   "source": [
    "# SANDBOX"
   ]
  },
  {
   "cell_type": "code",
   "execution_count": 137,
   "id": "e2330c7a",
   "metadata": {},
   "outputs": [],
   "source": [
    "df_old = pd.DataFrame()\n",
    "for i in contents[79:103]:\n",
    "    url = i.download_url\n",
    "    df_ = pd.read_csv(url)\n",
    "    df_old = pd.concat([df_old,df_],axis=0,ignore_index=True)"
   ]
  },
  {
   "cell_type": "code",
   "execution_count": 141,
   "id": "59e005bf",
   "metadata": {},
   "outputs": [],
   "source": [
    "df_new = pd.DataFrame()\n",
    "for i in contents[103:133]:\n",
    "    url = i.download_url\n",
    "    df_ = pd.read_csv(url)\n",
    "    df_new = pd.concat([df_new,df_],axis=0,ignore_index=True)"
   ]
  },
  {
   "cell_type": "code",
   "execution_count": 143,
   "id": "a3e2948c",
   "metadata": {},
   "outputs": [
    {
     "name": "stdout",
     "output_type": "stream",
     "text": [
      "Total number of ads: \t\t\t\t20554\n",
      "Number of ads after droping missing fees: \t20301\n",
      "Number of ads after removing outliers: \t\t17356\n",
      "Number of ads after removing Flatio offers: \t16430\n",
      "Number of ads after removing missing layout: \t16395\n",
      "Number of ads after removing extreme cases: \t16394\n",
      "Total number of ads: \t\t\t\t26854\n",
      "Number of ads after droping missing fees: \t26854\n",
      "Number of ads after removing outliers: \t\t22877\n",
      "Number of ads after removing Flatio offers: \t21367\n",
      "Number of ads after removing missing layout: \t21192\n",
      "Number of ads after removing extreme cases: \t21178\n"
     ]
    }
   ],
   "source": [
    "df_old = preprocessing(df_old)\n",
    "df_new = preprocessing(df_new)"
   ]
  }
 ],
 "metadata": {
  "interpreter": {
   "hash": "ccc39d46d634340ada6859ade381b7590aeee1806ea8ce640dddf23b0821612b"
  },
  "kernelspec": {
   "display_name": "Python 3.8.8 ('base')",
   "language": "python",
   "name": "python3"
  },
  "language_info": {
   "codemirror_mode": {
    "name": "ipython",
    "version": 3
   },
   "file_extension": ".py",
   "mimetype": "text/x-python",
   "name": "python",
   "nbconvert_exporter": "python",
   "pygments_lexer": "ipython3",
   "version": "3.8.8"
  }
 },
 "nbformat": 4,
 "nbformat_minor": 5
}
