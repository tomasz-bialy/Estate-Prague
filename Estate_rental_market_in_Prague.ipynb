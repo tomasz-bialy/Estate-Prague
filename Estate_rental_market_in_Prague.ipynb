{
 "cells": [
  {
   "cell_type": "code",
   "execution_count": 34,
   "id": "c7060567",
   "metadata": {},
   "outputs": [],
   "source": [
    "import pandas as pd\n",
    "import seaborn as sns\n",
    "import matplotlib.pyplot as plt\n",
    "import numpy as np\n",
    "import os\n",
    "from datetime import datetime\n",
    "import folium\n",
    "#from github import Github\n",
    "\n",
    "pd.set_option('display.max_columns', 200)\n",
    "pd.set_option('display.max_rows', 100)"
   ]
  },
  {
   "cell_type": "code",
   "execution_count": 113,
   "id": "4ac62031",
   "metadata": {},
   "outputs": [],
   "source": [
    "dfx = pd.read_csv(os.getcwd()+'\\\\Praha_Apartment_Scraped_Data\\\\aaa.csv')"
   ]
  },
  {
   "cell_type": "code",
   "execution_count": 114,
   "id": "2ff40757",
   "metadata": {},
   "outputs": [],
   "source": [
    "# df = pd.read_csv(os.getcwd()+'\\\\Praha_Apartment_Scraped_Data\\\\Prague-Bezrealitky-2021-12-31.csv')"
   ]
  },
  {
   "cell_type": "code",
   "execution_count": 115,
   "id": "5f554681",
   "metadata": {},
   "outputs": [],
   "source": [
    "def missing_data(df):\n",
    "    return 100*df.isnull().sum()/len(df)"
   ]
  },
  {
   "cell_type": "code",
   "execution_count": 116,
   "id": "b2908db4",
   "metadata": {},
   "outputs": [],
   "source": [
    "def droping_data(df):\n",
    "    \n",
    "    df = df.drop('Listing ID',axis=1) \n",
    "    df = df.drop('New building',axis=1)\n",
    "    df = df.drop('Front garden',axis=1)\n",
    "    df = df.drop('Developer name',axis=1)\n",
    "    df = df.drop('Project name',axis=1)\n",
    "    df = df.drop('Kód jednotky',axis=1)\n",
    "    df = df.drop('Administration fee',axis=1)\n",
    "    df = df.drop('Ownership Type',axis=1)\n",
    "    df = df.drop('Refundable security deposit',axis=1)\n",
    "    df = df.drop('Available from',axis=1)\n",
    "    df = df.drop('Playground',axis=1)\n",
    "    df = df.drop('Post office',axis=1)\n",
    "    df = df.drop('Bank',axis=1)\n",
    "    df = df.drop('Pharmacy',axis=1)\n",
    "    df = df.dropna(axis=0,subset=['Floor Space'])\n",
    "    \n",
    "    return df"
   ]
  },
  {
   "cell_type": "code",
   "execution_count": 117,
   "id": "0386f72d",
   "metadata": {},
   "outputs": [],
   "source": [
    "def district_extract(string):\n",
    "    return string.split('Prague - ')[1]"
   ]
  },
  {
   "cell_type": "code",
   "execution_count": 118,
   "id": "c8d08f78",
   "metadata": {},
   "outputs": [],
   "source": [
    "def rare_district_renaming(district):\n",
    "    if district not in df['District'].value_counts()[:25].index:\n",
    "        return 'Other'\n",
    "    else:\n",
    "        return district"
   ]
  },
  {
   "cell_type": "code",
   "execution_count": 119,
   "id": "00292045",
   "metadata": {},
   "outputs": [],
   "source": [
    "def feature_engineering(df):\n",
    "    \n",
    "    df['Price'] = pd.to_numeric(df['Price'].str.replace('CZK ','').str.replace(',',''))\n",
    "    df['Fees'] = pd.to_numeric(df['Fees'].str.replace('CZK ','').str.replace(',',''))\n",
    "    df['Floor Space'] = pd.to_numeric(df['Floor Space'].str.replace(' m²',''))\n",
    "    df['District'] = df['District'].apply(district_extract)\n",
    "    df['District'] = df['District'].apply(rare_district_renaming)\n",
    "    \n",
    "    if df['Public transport stop'].dtype == 'O':\n",
    "        df['Public transport stop'] = pd.to_numeric(df['Public transport stop'].str.replace(',',''))\n",
    "    if df['Shop'].dtype == 'O':\n",
    "        df['Shop'] = pd.to_numeric(df['Shop'].str.replace(',',''))\n",
    "    if df['Restaurant'].dtype == 'O':\n",
    "        df['Restaurant'] = pd.to_numeric(df['Restaurant'].str.replace(',',''))\n",
    "    if df['School'].dtype == 'O':\n",
    "        df['School'] = pd.to_numeric(df['School'].str.replace(',',''))\n",
    "    if df['Kindergarten'].dtype == 'O':\n",
    "        df['Kindergarten'] = pd.to_numeric(df['Kindergarten'].str.replace(',',''))\n",
    "    if df['Sports field'].dtype == 'O':\n",
    "        df['Sports field'] = pd.to_numeric(df['Sports field'].str.replace(',',''))\n",
    "    \n",
    "    return df"
   ]
  },
  {
   "cell_type": "code",
   "execution_count": 120,
   "id": "bcef4a9b",
   "metadata": {},
   "outputs": [],
   "source": [
    "def filtering_outliers(df):\n",
    "    \n",
    "    df = df[df['Floor Space']>10]\n",
    "    df = df[df['Floor Space']<125]\n",
    "    df = df[df['Price']>3000]\n",
    "    df = df[df['Price']<30000]\n",
    "    df = df[df['Fees']<10000]\n",
    "    df.loc[df['Fees']<400,'Fees'] = np.nan\n",
    "    \n",
    "    return df"
   ]
  },
  {
   "cell_type": "code",
   "execution_count": 121,
   "id": "e555404e",
   "metadata": {},
   "outputs": [],
   "source": [
    "def fixing_fees(df):\n",
    "    \n",
    "    df['ratio'] = df['Price']/df['Fees']\n",
    "    df.loc[(df['ratio'].between(2.95,3.05)) & (df['Price']>10000),'Fees'] = np.nan\n",
    "    df = df.drop('ratio',axis=1)\n",
    "    fees_df = df[['Floor Space','Fees']]\n",
    "    fees_df = fees_df.dropna()\n",
    "    fees_coeff = np.polyfit(fees_df['Floor Space'],fees_df['Fees'],1)\n",
    "    df['Fees'] = df['Fees'].fillna(fees_coeff[0]*df['Floor Space'] + fees_coeff[1])\n",
    "    \n",
    "    return df"
   ]
  },
  {
   "cell_type": "code",
   "execution_count": 122,
   "id": "27227a66",
   "metadata": {},
   "outputs": [],
   "source": [
    "def total_cost(df):\n",
    "    \n",
    "    df['Total price'] = df['Price']+df['Fees']\n",
    "    df = df.drop('Price',axis=1) \n",
    "    df = df.drop('Fees',axis=1) \n",
    "    \n",
    "    return df"
   ]
  },
  {
   "cell_type": "code",
   "execution_count": 123,
   "id": "3a8b9e19",
   "metadata": {},
   "outputs": [],
   "source": [
    "def mapping_data(df):\n",
    "    \n",
    "    df['Layout'] = df['Layout'].map({\n",
    "                                        'Small studio':0.5, \n",
    "                                        'Studio':0.75,\n",
    "                                        '1 bedroom with open-plan kitchen':1.5,\n",
    "                                        '1 bedroom':1,\n",
    "                                        '2 bedroom with open-plan kitchen':2.5,\n",
    "                                        '2 bedroom':2,\n",
    "                                        '3 bedroom with open-plan kitchen':3.5,\n",
    "                                        '3 bedroom':3,\n",
    "                                        '4 bedroom with open-plan kitchen':4.5,\n",
    "                                        '4 bedroom':4,\n",
    "                                        '5 bedroom with open-plan kitchen':5.5,   \n",
    "                                        '5 bedroom':5,\n",
    "                                        '6 bedroom':6.5,\n",
    "                                                                                })\n",
    "    \n",
    "    \n",
    "    df['PENB'] = df['PENB'].map({'G':7,'F':6,'E':5,'D':4,'C':3,'B':2,'A':1})\n",
    "    \n",
    "    df['Balcony'] = df['Balcony'].map({'Yes':1,'No':0})\n",
    "    df['Terrace'] = df['Terrace'].map({'Yes':1,'No':0})\n",
    "    df['Cellar'] = df['Cellar'].map({'Yes':1,'No':0})\n",
    "    df['Loggia'] = df['Loggia'].map({'Yes':1,'No':0})\n",
    "    df['Parking'] = df['Parking'].map({'Yes':1,'No':0})\n",
    "    df['Lift'] = df['Lift'].map({'Yes':1,'No':0})\n",
    "    df['Garage'] = df['Garage'].map({'Yes':1,'No':0})\n",
    "    \n",
    "    return df"
   ]
  },
  {
   "cell_type": "code",
   "execution_count": 124,
   "id": "2f33e3b1",
   "metadata": {},
   "outputs": [],
   "source": [
    "def replacing_categories(df):\n",
    "    \n",
    "    df['Condition'] = df['Condition'].replace('In need of repair',np.nan)\n",
    "    df['Building Type'] = df['Building Type'].replace('Wooden building',np.nan)\n",
    "    df['Total number of floors'] = df['Total number of floors'].replace('Raised ground floor','Ground floor')\n",
    "    df['Heating'] = df['Heating'].replace('Geothermal heat pump',np.nan)\n",
    "    df.loc[df['Floor']>10,'Floor'] = 10\n",
    "    df['Age'] = df['Age'].replace('over 50 years years','over 30 years years')\n",
    "    df['Age'] = df['Age'].replace('30 to 50 years years','over 30 years years')\n",
    "    df['Renovation'] = df['Renovation'].replace('Exterior',np.nan)\n",
    "    df['Renovation'] = df['Renovation'].replace('Bathroom unit',np.nan)\n",
    "    \n",
    "    return df"
   ]
  },
  {
   "cell_type": "code",
   "execution_count": 125,
   "id": "49d1123b",
   "metadata": {},
   "outputs": [],
   "source": [
    "def missing_values(df):\n",
    "    \n",
    "#     df['Condition'] = df['Condition'].fillna('Missing')\n",
    "#     df['Building Type'] = df['Building Type'].fillna('Missing')    \n",
    "#     df['Furnishing and Fittings'] = df['Furnishing and Fittings'].fillna('Missing')    \n",
    "    df['Design'] = df['Design'].fillna('Standard materials and solutions')\n",
    "#     df['Total number of floors'] = df['Total number of floors'].fillna('Missing')\n",
    "#     df['Heating'] = df['Heating'].fillna('Missing')\n",
    "    df['Floor'] = df['Floor'].fillna(1)\n",
    "#     df['Age'] = df['Age'].fillna('Missing')\n",
    "#     df['Renovation'] = df['Renovation'].fillna('Missing')\n",
    "    df['Public transport stop'] = df['Public transport stop'].fillna(df['Public transport stop'].median())\n",
    "    df['Shop'] = df['Shop'].fillna(df['Shop'].median())\n",
    "    df['Restaurant'] = df['Restaurant'].fillna(df['Restaurant'].median())\n",
    "    df['School'] = df['School'].fillna(df['School'].median())\n",
    "    df['Kindergarten'] = df['Kindergarten'].fillna(df['Kindergarten'].median())\n",
    "    df['Sports field'] = df['Sports field'].fillna(df['Sports field'].median())\n",
    "    df['PENB'] = df['PENB'].fillna(np.round(df.groupby('Building Type')['PENB'].transform('mean'),0))\n",
    "    df['PENB'] = df['PENB'].fillna(5)\n",
    "    \n",
    "    \n",
    "    return df"
   ]
  },
  {
   "cell_type": "code",
   "execution_count": 126,
   "id": "6baa7e5e",
   "metadata": {},
   "outputs": [],
   "source": [
    "dfx = droping_data(dfx)\n",
    "dfx = feature_engineering(dfx)\n",
    "dfx = filtering_outliers(dfx)\n",
    "dfx = fixing_fees(dfx)\n",
    "dfx = total_cost(dfx)\n",
    "dfx = mapping_data(dfx)\n",
    "dfx = replacing_categories(dfx)\n",
    "dfx = missing_values(dfx)"
   ]
  },
  {
   "cell_type": "code",
   "execution_count": 127,
   "id": "36f9599f",
   "metadata": {},
   "outputs": [],
   "source": [
    "y = dfx['Total price']\n",
    "X = dfx.drop('Total price',axis=1)"
   ]
  },
  {
   "cell_type": "code",
   "execution_count": 128,
   "id": "40562b7c",
   "metadata": {},
   "outputs": [],
   "source": [
    "X = pd.get_dummies(X,drop_first=False)\n",
    "X.columns = X.columns.str.replace(' ','_')"
   ]
  },
  {
   "cell_type": "code",
   "execution_count": 180,
   "id": "bb70816e",
   "metadata": {},
   "outputs": [],
   "source": [
    "from sklearn.model_selection import train_test_split\n",
    "X_train, X_test, y_train, y_test = train_test_split(X,y,test_size=0.25,random_state=101,shuffle=True)"
   ]
  },
  {
   "cell_type": "markdown",
   "id": "96d958d5",
   "metadata": {},
   "source": [
    "## Sklearn's Granding Boosting Regressor"
   ]
  },
  {
   "cell_type": "code",
   "execution_count": 42,
   "id": "847bcc25",
   "metadata": {},
   "outputs": [],
   "source": [
    "grid_paramters = {'n_estimators': [100,250,500],\n",
    "                  'learning_rate':[0.02,0.04,0.06,0.08,0.10],\n",
    "                  'subsample':[0.2,0.4,0.6,0.8,1.0],\n",
    "                  'min_samples_split':[2,3,4,5],\n",
    "                  'min_samples_leaf':[1,2,3,4,5],\n",
    "                  'max_depth':[1,2,3,4,5,6],        \n",
    "                  'max_features': ['auto','sqrt']}"
   ]
  },
  {
   "cell_type": "code",
   "execution_count": 57,
   "id": "ce233f38",
   "metadata": {},
   "outputs": [
    {
     "name": "stdout",
     "output_type": "stream",
     "text": [
      "Fitting 5 folds for each of 300 candidates, totalling 1500 fits\n"
     ]
    },
    {
     "data": {
      "text/plain": [
       "RandomizedSearchCV(cv=5, estimator=GradientBoostingRegressor(), n_iter=300,\n",
       "                   n_jobs=-1,\n",
       "                   param_distributions={'learning_rate': [0.02, 0.04, 0.06,\n",
       "                                                          0.08, 0.1],\n",
       "                                        'max_depth': [1, 2, 3, 4, 5, 6],\n",
       "                                        'max_features': ['auto', 'sqrt'],\n",
       "                                        'min_samples_leaf': [1, 2, 3, 4, 5],\n",
       "                                        'min_samples_split': [2, 3, 4, 5],\n",
       "                                        'n_estimators': [100, 250, 500],\n",
       "                                        'subsample': [0.2, 0.4, 0.6, 0.8, 1.0]},\n",
       "                   random_state=101, scoring='neg_mean_absolute_error',\n",
       "                   verbose=2)"
      ]
     },
     "execution_count": 57,
     "metadata": {},
     "output_type": "execute_result"
    }
   ],
   "source": [
    "from sklearn.model_selection import RandomizedSearchCV\n",
    "from sklearn.ensemble import GradientBoostingRegressor\n",
    "GBR = GradientBoostingRegressor()\n",
    "GBR_grid = RandomizedSearchCV(estimator = GBR,\n",
    "                              scoring = 'neg_mean_absolute_error',\n",
    "                              param_distributions = grid_paramters,\n",
    "                              n_iter = 300,\n",
    "                              cv = 5,\n",
    "                              verbose=2,\n",
    "                              random_state=101,\n",
    "                              n_jobs = -1)\n",
    "GBR_grid.fit(X_train,y_train)"
   ]
  },
  {
   "cell_type": "code",
   "execution_count": null,
   "id": "f124f8e8",
   "metadata": {},
   "outputs": [],
   "source": [
    "GBR_grid.fit(X_train,y_train)"
   ]
  },
  {
   "cell_type": "code",
   "execution_count": 62,
   "id": "5d23b495",
   "metadata": {},
   "outputs": [
    {
     "name": "stdout",
     "output_type": "stream",
     "text": [
      "Mean error test: 1957.0 CZK\n",
      "Mean error test: 11.0 %\n",
      "\n",
      "Mean error train: 760.0 CZK\n",
      "Mean error train: 4.0 %\n"
     ]
    }
   ],
   "source": [
    "from sklearn.metrics import mean_absolute_error\n",
    "\n",
    "y_pred_train = GBR_grid.predict(X_train)\n",
    "y_pred = GBR_grid.predict(X_test)\n",
    "\n",
    "MAE = mean_absolute_error(y_test,y_pred)\n",
    "ERR = np.mean(np.abs(y_test-y_pred)*100/y_test)\n",
    "print(f'Mean error test: {np.round(MAE)} CZK')\n",
    "print(f'Mean error test: {np.round(ERR)} %\\n')\n",
    "\n",
    "MAE2 = mean_absolute_error(y_train,y_pred_train)\n",
    "ERR2 = np.mean(np.abs(y_train-y_pred_train)*100/y_train)\n",
    "print(f'Mean error train: {np.round(MAE2)} CZK')\n",
    "print(f'Mean error train: {np.round(ERR2)} %')"
   ]
  },
  {
   "cell_type": "markdown",
   "id": "27cea9f5",
   "metadata": {},
   "source": [
    "## XGBoost"
   ]
  },
  {
   "cell_type": "code",
   "execution_count": 138,
   "id": "ac0e2987",
   "metadata": {},
   "outputs": [],
   "source": [
    "import xgboost as xgb\n",
    "from sklearn.model_selection import RandomizedSearchCV\n",
    "from scipy.stats import uniform, truncnorm, randint"
   ]
  },
  {
   "cell_type": "code",
   "execution_count": 185,
   "id": "3037d9dd",
   "metadata": {},
   "outputs": [],
   "source": [
    "grid_paramters = {\n",
    "                   'n_estimators': randint(10,250),\n",
    "                   'eta': uniform(0.001,0.3),\n",
    "                   'gamma': uniform(0.01,5),\n",
    "                   'max_depth':[1,2,3,4,5,6],\n",
    "                   'subsample': uniform(0.01,0.99),\n",
    "                   'colsample_bytree': uniform(0.01,0.99),\n",
    "                   'colsample_bylevel': uniform(0.01,0.99),\n",
    "                   'min_child_weight': uniform(0.1,10),\n",
    "                   'reg_lambda': uniform(0,100),\n",
    "                   'reg_alpha': uniform(1,500)\n",
    "                 }"
   ]
  },
  {
   "cell_type": "code",
   "execution_count": 186,
   "id": "ad4f88c0",
   "metadata": {},
   "outputs": [],
   "source": [
    "# grid_paramters = {\n",
    "#                    'n_estimators': [200],\n",
    "#                    'eta':[0.01,0.05,0.1,0.15],\n",
    "#                    'gamma':[0.1,0.5,1],\n",
    "#                    'max_depth':[1,2,3,4,5],\n",
    "#                    'subsample':[0.5,0.75,1],\n",
    "#                    'colsample_bytree':[0.25,0.5,0.75],\n",
    "#                    'reg_lambda':[0,0.25,0.5],\n",
    "#                    'reg_alpha':[25,75,150,200,300],\n",
    "#                    'eval_metric':['mae']\n",
    "#                  }"
   ]
  },
  {
   "cell_type": "code",
   "execution_count": 193,
   "id": "ba773e5f",
   "metadata": {},
   "outputs": [
    {
     "data": {
      "text/plain": [
       "RandomizedSearchCV(cv=6,\n",
       "                   estimator=XGBRegressor(base_score=None, booster=None,\n",
       "                                          colsample_bylevel=None,\n",
       "                                          colsample_bynode=None,\n",
       "                                          colsample_bytree=None,\n",
       "                                          enable_categorical=False, gamma=None,\n",
       "                                          gpu_id=None, importance_type=None,\n",
       "                                          interaction_constraints=None,\n",
       "                                          learning_rate=None,\n",
       "                                          max_delta_step=None, max_depth=None,\n",
       "                                          min_child_weight=None, missing=nan,\n",
       "                                          monotone_constraints=...\n",
       "                                        'n_estimators': <scipy.stats._distn_infrastructure.rv_frozen object at 0x0000027D48122B50>,\n",
       "                                        'reg_alpha': <scipy.stats._distn_infrastructure.rv_frozen object at 0x0000027D498200D0>,\n",
       "                                        'reg_lambda': <scipy.stats._distn_infrastructure.rv_frozen object at 0x0000027D498178E0>,\n",
       "                                        'subsample': <scipy.stats._distn_infrastructure.rv_frozen object at 0x0000027D49817640>},\n",
       "                   random_state=101, scoring='neg_mean_absolute_error')"
      ]
     },
     "execution_count": 193,
     "metadata": {},
     "output_type": "execute_result"
    }
   ],
   "source": [
    "xgb1 = xgb.XGBRegressor()\n",
    "xgb_grid = RandomizedSearchCV(\n",
    "                                estimator = xgb1,\n",
    "                                param_distributions = grid_paramters,\n",
    "                                scoring = 'neg_mean_absolute_error',\n",
    "                                n_iter = 5000,\n",
    "                                cv = 6,\n",
    "                                verbose=0,\n",
    "                                random_state=101,\n",
    "                                n_jobs = -1\n",
    "                              )\n",
    "\n",
    "xgb_grid.fit(X_train,y_train)"
   ]
  },
  {
   "cell_type": "code",
   "execution_count": 194,
   "id": "9512b564",
   "metadata": {},
   "outputs": [
    {
     "name": "stdout",
     "output_type": "stream",
     "text": [
      "Mean error test: 1983.0 CZK\n",
      "Mean error test: 11.0 %\n",
      "\n",
      "Mean error train: 1359.0 CZK\n",
      "Mean error train: 8.0 %\n"
     ]
    }
   ],
   "source": [
    "from sklearn.metrics import mean_absolute_error\n",
    "\n",
    "y_pred_train = xgb_grid.predict(X_train)\n",
    "y_pred = xgb_grid.predict(X_test)\n",
    "\n",
    "MAE = mean_absolute_error(y_test,y_pred)\n",
    "ERR = np.mean(np.abs(y_test-y_pred)*100/y_test)\n",
    "print(f'Mean error test: {np.round(MAE)} CZK')\n",
    "print(f'Mean error test: {np.round(ERR)} %\\n')\n",
    "\n",
    "MAE2 = mean_absolute_error(y_train,y_pred_train)\n",
    "ERR2 = np.mean(np.abs(y_train-y_pred_train)*100/y_train)\n",
    "print(f'Mean error train: {np.round(MAE2)} CZK')\n",
    "print(f'Mean error train: {np.round(ERR2)} %')"
   ]
  },
  {
   "cell_type": "code",
   "execution_count": 195,
   "id": "e532cea0",
   "metadata": {},
   "outputs": [],
   "source": [
    "xgb_best_parameters = xgb_grid.best_params_"
   ]
  },
  {
   "cell_type": "code",
   "execution_count": 196,
   "id": "a9332744",
   "metadata": {},
   "outputs": [
    {
     "data": {
      "text/plain": [
       "{'colsample_bylevel': 0.3379726803401046,\n",
       " 'colsample_bytree': 0.6002960743414038,\n",
       " 'eta': 0.05377796049525406,\n",
       " 'gamma': 3.3904296813165344,\n",
       " 'max_depth': 6,\n",
       " 'min_child_weight': 5.547754647537617,\n",
       " 'n_estimators': 223,\n",
       " 'reg_alpha': 88.33186638511059,\n",
       " 'reg_lambda': 32.744573256137876,\n",
       " 'subsample': 0.6898900130675434}"
      ]
     },
     "execution_count": 196,
     "metadata": {},
     "output_type": "execute_result"
    }
   ],
   "source": [
    "xgb_best_parameters"
   ]
  },
  {
   "cell_type": "code",
   "execution_count": 197,
   "id": "b41bd0c9",
   "metadata": {},
   "outputs": [],
   "source": [
    "xgb2 = xgb.XGBRegressor(\n",
    "                        subsample = 0.7,\n",
    "                        reg_lambda = 32,\n",
    "                        reg_alpha = 88,\n",
    "                        n_estimators = 200,\n",
    "                        max_depth =  6,\n",
    "                        gamma = 3,\n",
    "                        eval_metric = 'mae',\n",
    "                        eta = 0.05,\n",
    "                        colsample_bytree = 0.6,\n",
    "                        colsample_bylevel = 0.3\n",
    "                        )"
   ]
  },
  {
   "cell_type": "code",
   "execution_count": 198,
   "id": "d11406fe",
   "metadata": {},
   "outputs": [
    {
     "data": {
      "text/plain": [
       "XGBRegressor(base_score=0.5, booster='gbtree', colsample_bylevel=0.3,\n",
       "             colsample_bynode=1, colsample_bytree=0.6, enable_categorical=False,\n",
       "             eta=0.05, eval_metric='mae', gamma=3, gpu_id=-1,\n",
       "             importance_type=None, interaction_constraints='',\n",
       "             learning_rate=0.0500000007, max_delta_step=0, max_depth=6,\n",
       "             min_child_weight=1, missing=nan, monotone_constraints='()',\n",
       "             n_estimators=200, n_jobs=12, num_parallel_tree=1, predictor='auto',\n",
       "             random_state=0, reg_alpha=88, reg_lambda=32, scale_pos_weight=1,\n",
       "             subsample=0.7, tree_method='exact', validate_parameters=1,\n",
       "             verbosity=None)"
      ]
     },
     "execution_count": 198,
     "metadata": {},
     "output_type": "execute_result"
    }
   ],
   "source": [
    "xgb2.fit(X,y)"
   ]
  },
  {
   "cell_type": "code",
   "execution_count": 199,
   "id": "44c95cf9",
   "metadata": {},
   "outputs": [
    {
     "name": "stdout",
     "output_type": "stream",
     "text": [
      "Cross validation score:\n",
      "2072.655870728714\n"
     ]
    }
   ],
   "source": [
    "from sklearn.model_selection import cross_val_score\n",
    "\n",
    "print('Cross validation score:')\n",
    "print(np.mean(-cross_val_score(xgb2,X,y,cv=10,scoring='neg_mean_absolute_error')))"
   ]
  },
  {
   "cell_type": "code",
   "execution_count": 200,
   "id": "bcbc2d1b",
   "metadata": {},
   "outputs": [
    {
     "data": {
      "image/png": "[encoded data removed]",
      "text/plain": [
       "<Figure size 500x1500 with 1 Axes>"
      ]
     },
     "metadata": {
      "needs_background": "light"
     },
     "output_type": "display_data"
    }
   ],
   "source": [
    "feat_import = xgb2.feature_importances_\n",
    "imp_feats = pd.DataFrame(index=X.columns,data=feat_import,columns=['Importance'])\n",
    "imp_feats = imp_feats[imp_feats['Importance'] > 0.005]\n",
    "imp_feats = imp_feats.sort_values(\"Importance\",ascending=False)\n",
    "plt.figure(figsize=(5,15),dpi=100)\n",
    "sns.barplot(data=imp_feats,y=imp_feats.index,x='Importance',color='lightblue');\n",
    "plt.title('Feature importances',y=1.05);\n",
    "# plt.xticks(rotation=80);"
   ]
  },
  {
   "cell_type": "code",
   "execution_count": null,
   "id": "7e565e77",
   "metadata": {},
   "outputs": [],
   "source": []
  }
 ],
 "metadata": {
  "kernelspec": {
   "display_name": "Python 3",
   "language": "python",
   "name": "python3"
  },
  "language_info": {
   "codemirror_mode": {
    "name": "ipython",
    "version": 3
   },
   "file_extension": ".py",
   "mimetype": "text/x-python",
   "name": "python",
   "nbconvert_exporter": "python",
   "pygments_lexer": "ipython3",
   "version": "3.8.8"
  }
 },
 "nbformat": 4,
 "nbformat_minor": 5
}
