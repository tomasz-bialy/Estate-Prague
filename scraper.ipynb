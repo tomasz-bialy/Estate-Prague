{
 "cells": [
  {
   "cell_type": "code",
   "execution_count": 1,
   "metadata": {},
   "outputs": [],
   "source": [
    "import requests\n",
    "import bs4\n",
    "import time\n",
    "import random\n",
    "import sys\n",
    "import pandas as pd\n",
    "from datetime import date\n",
    "from github import Github\n",
    "import json"
   ]
  },
  {
   "cell_type": "code",
   "execution_count": 3,
   "metadata": {},
   "outputs": [],
   "source": [
    "HEADERS = {\n",
    "    'Connection': 'keep-alive',\n",
    "    'sec-ch-ua': '\" Not A;Brand\";v=\"99\", \"Chromium\";v=\"99\", \"Google Chrome\";v=\"99\"',\n",
    "    'sec-ch-ua-mobile': '?0',\n",
    "    'sec-ch-ua-platform': '\"Windows\"',\n",
    "    'Upgrade-Insecure-Requests': '1',\n",
    "    'User-Agent': 'Mozilla/5.0 (Windows NT 10.0; Win64; x64) AppleWebKit/537.36 (KHTML, like Gecko) Chrome/99.0.4844.84 Safari/537.36',\n",
    "    'Accept': 'text/html,application/xhtml+xml,application/xml;q=0.9,image/avif,image/webp,image/apng,*/*;q=0.8,application/signed-exchange;v=b3;q=0.9',\n",
    "    'Sec-Fetch-Site': 'none',\n",
    "    'Sec-Fetch-Mode': 'navigate',\n",
    "    'Sec-Fetch-User': '?1',\n",
    "    'Sec-Fetch-Dest': 'document',\n",
    "    'Accept-Language': 'pl-PL,pl;q=0.9,en-US;q=0.8,en;q=0.7,zh-CN;q=0.6,zh;q=0.5,de;q=0.4,cs;q=0.3,ja;q=0.2'\n",
    "    }\n",
    "\n",
    "URL = \"https://www.bezrealitky.com/listings/offer-rent/flat/prague?page={page_no}\""
   ]
  },
  {
   "cell_type": "code",
   "execution_count": 21,
   "metadata": {},
   "outputs": [],
   "source": [
    "url2 = 'https://www.bezrealitky.com/properties-flats-houses/720116-nabidka-pronajem-bytu'\n",
    "HEADERS =   {\n",
    "                        'Connection': 'keep-alive',\n",
    "                        'sec-ch-ua': '\" Not A;Brand\";v=\"99\", \"Chromium\";v=\"99\", \"Google Chrome\";v=\"99\"',\n",
    "                        'sec-ch-ua-mobile': '?0',\n",
    "                        'sec-ch-ua-platform': '\"Windows\"',\n",
    "                        'Upgrade-Insecure-Requests': '1',\n",
    "                        'User-Agent': 'Mozilla/5.0 (Windows NT 10.0; Win64; x64) AppleWebKit/537.36 (KHTML, like Gecko) Chrome/99.0.4844.84 Safari/537.36',\n",
    "                        'Accept': 'text/html,application/xhtml+xml,application/xml;q=0.9,image/avif,image/webp,image/apng,*/*;q=0.8,application/signed-exchange;v=b3;q=0.9',\n",
    "                        'Sec-Fetch-Site': 'none',\n",
    "                        'Sec-Fetch-Mode': 'navigate',\n",
    "                        'Sec-Fetch-User': '?1',\n",
    "                        'Sec-Fetch-Dest': 'document',\n",
    "                        'Accept-Language': 'pl-PL,pl;q=0.9,en-US;q=0.8,en;q=0.7,zh-CN;q=0.6,zh;q=0.5,de;q=0.4,cs;q=0.3,ja;q=0.2'\n",
    "                        }\n",
    "response2 = requests.get(url2,headers=HEADERS)\n",
    "soup2 = bs4.BeautifulSoup(response2.text,\"lxml\")\n",
    "gps_json = json.loads(soup2.find(\"script\",{\"id\" : \"__NEXT_DATA__\"}).contents[0])"
   ]
  },
  {
   "cell_type": "code",
   "execution_count": 22,
   "metadata": {},
   "outputs": [],
   "source": [
    "poi_json = json.loads(gps_json[\"props\"][\"pageProps\"][\"advert\"][\"poiData\"])"
   ]
  },
  {
   "cell_type": "code",
   "execution_count": 30,
   "metadata": {},
   "outputs": [
    {
     "data": {
      "text/plain": [
       "False"
      ]
     },
     "execution_count": 30,
     "metadata": {},
     "output_type": "execute_result"
    }
   ],
   "source": [
    "poi_json is not None"
   ]
  },
  {
   "cell_type": "code",
   "execution_count": 28,
   "metadata": {},
   "outputs": [
    {
     "ename": "TypeError",
     "evalue": "object of type 'NoneType' has no len()",
     "output_type": "error",
     "traceback": [
      "\u001b[1;31m---------------------------------------------------------------------------\u001b[0m",
      "\u001b[1;31mTypeError\u001b[0m                                 Traceback (most recent call last)",
      "\u001b[1;32m<ipython-input-28-1c910eb172e9>\u001b[0m in \u001b[0;36m<module>\u001b[1;34m\u001b[0m\n\u001b[1;32m----> 1\u001b[1;33m \u001b[0mlen\u001b[0m\u001b[1;33m(\u001b[0m\u001b[0mpoi_json\u001b[0m\u001b[1;33m)\u001b[0m\u001b[1;33m\u001b[0m\u001b[1;33m\u001b[0m\u001b[0m\n\u001b[0m",
      "\u001b[1;31mTypeError\u001b[0m: object of type 'NoneType' has no len()"
     ]
    }
   ],
   "source": [
    "len(poi_json)"
   ]
  },
  {
   "cell_type": "code",
   "execution_count": 35,
   "metadata": {},
   "outputs": [],
   "source": [
    "class Page:\n",
    "    def __init__(self,url):\n",
    "        time.sleep(random.randrange(1,4))\n",
    "        self.url = url\n",
    "        self.response = requests.get(self.url,headers=HEADERS)\n",
    "        self.soup = bs4.BeautifulSoup(self.response.text,\"lxml\")\n",
    "    \n",
    "    def get_html(self):\n",
    "        return str(self.soup)\n",
    "\n",
    "class ListingPage(Page):\n",
    "    def get_max_pages(self):\n",
    "        self.max_pages = int(self.soup.find_all(\"a\",class_='page-link')[-2].text)\n",
    "        return self.max_pages\n",
    "\n",
    "    def get_listing_urls(self):\n",
    "        self.listings_in_page = self.soup.find_all(\"article\",class_='PropertyCard_propertyCard__qPQRK propertyCard PropertyCard_propertyCard--landscape__7grmL')\n",
    "        self.apartment_urls = [listing.find(\"a\",href=True).get(\"href\") for listing in self.listings_in_page]\n",
    "        return self.apartment_urls     \n",
    "\n",
    "class Apartment(Page):\n",
    "    def get_parameters(self):\n",
    "        self.price_table = self.soup.find('table',{\"class\": \"PriceTable_priceTable__voQsR priceTable\"})\n",
    "        self.price_parameters = [instance.find(\"th\").text.replace('Basic rent','Price').replace('Utility fees','Fees') for instance in self.price_table.find_all(\"tr\")]\n",
    "        self.price_values = [instance.find(\"strong\").text.replace('\\xa0',' ') for instance in self.price_table.find_all(\"tr\")]\n",
    "\n",
    "        self.characteristics_table = self.soup.find('section',{\"class\" : \"box Section_section___TusU section mb-5 mb-lg-10\"})\n",
    "        self.characteristics_parameters = [instance.find(\"th\").text for instance in self.characteristics_table.find_all(\"tr\")]\n",
    "        self.characteristics_values = [instance.find(\"td\").text for instance in self.characteristics_table.find_all(\"tr\")]\n",
    "\n",
    "        self.additional_information = self.soup.find_all(\"div\",{\"class\" : \"ParamsTable_paramsTable__Eqwx_ paramsTable\"})[1]\n",
    "        self.additional_parameters = [instance.text for instance in self.additional_information.find_all(\"td\") if instance.text.find('MHD') == -1 and instance.text.find('Front garden') == -1]\n",
    "\n",
    "        self.gps_json = json.loads(self.soup.find(\"script\",{\"id\" : \"__NEXT_DATA__\"}).contents[0])\n",
    "\n",
    "        self.poi_json = json.loads(self.gps_json[\"props\"][\"pageProps\"][\"advert\"][\"poiData\"])\n",
    "        \n",
    "        if self.poi_json is not None:\n",
    "            self.poi_names = [key for key in self.poi_json]\n",
    "            self.poi_values = [int(self.poi_json[key]['properties']['walkDistance']) for key in self.poi_names]\n",
    "        else:  \n",
    "            self.poi_names = []\n",
    "            self.poi_values = []\n",
    "\n",
    "        self.p = self.price_parameters + self.characteristics_parameters + self.additional_parameters + self.poi_names\n",
    "        self.v = self.price_values + self.characteristics_values + [1]*len(self.additional_parameters) + self.poi_values\n",
    "\n",
    "        self.dictionary_data = dict(zip(self.p,self.v))\n",
    "\n",
    "        self.dictionary_data['District'] = self.soup.find(\"span\",{\"class\" : \"PropertyAttributes_propertyAttributesItem__kscom\"}).text\n",
    "\n",
    "        self.dictionary_data['Latitude'] = self.gps_json[\"props\"][\"pageProps\"][\"advert\"][\"gps\"][\"lat\"]\n",
    "        self.dictionary_data['Longitude'] = self.gps_json[\"props\"][\"pageProps\"][\"advert\"][\"gps\"][\"lng\"]\n",
    "\n",
    "        return self.dictionary_data"
   ]
  },
  {
   "cell_type": "code",
   "execution_count": 5,
   "metadata": {},
   "outputs": [],
   "source": [
    "current_page = 1\n",
    "max_pages = 8\n",
    "wait_time = 0\n",
    "df = pd.DataFrame()"
   ]
  },
  {
   "cell_type": "code",
   "execution_count": 6,
   "metadata": {},
   "outputs": [
    {
     "name": "stdout",
     "output_type": "stream",
     "text": [
      "Parsing page 1 of 8\n",
      "Parsing page 2 of 8\n",
      "Parsing page 3 of 8\n",
      "Parsing page 4 of 8\n",
      "Parsing page 5 of 8\n",
      "Parsing page 6 of 8\n",
      "Parsing page 7 of 8\n",
      "Error during parsing the apartment: https://www.bezrealitky.com/properties-flats-houses/720116-nabidka-pronajem-bytu at 7 page. Waiting 5 minutes and will try again\n"
     ]
    },
    {
     "name": "stderr",
     "output_type": "stream",
     "text": [
      "ERROR:root:Internal Python error in the inspect module.\n",
      "Below is the traceback from this internal error.\n",
      "\n"
     ]
    },
    {
     "name": "stdout",
     "output_type": "stream",
     "text": [
      "Error during parsing the apartment: https://www.bezrealitky.com/properties-flats-houses/720116-nabidka-pronajem-bytu at 7 page. Waiting 10 minutes and will try again\n",
      "Traceback (most recent call last):\n",
      "  File \"<ipython-input-6-28a9331fecbf>\", line 25, in <module>\n",
      "    apartment_parameters = apartment_.get_parameters()\n",
      "  File \"<ipython-input-4-7a6eacf45422>\", line 37, in get_parameters\n",
      "    self.poi_names = [key for key in self.poi_json]\n",
      "TypeError: 'NoneType' object is not iterable\n",
      "\n",
      "During handling of the above exception, another exception occurred:\n",
      "\n",
      "Traceback (most recent call last):\n",
      "  File \"c:\\Users\\t1bia\\anaconda3\\lib\\site-packages\\IPython\\core\\interactiveshell.py\", line 3437, in run_code\n",
      "    exec(code_obj, self.user_global_ns, self.user_ns)\n",
      "  File \"<ipython-input-6-28a9331fecbf>\", line 33, in <module>\n",
      "    sys.exit(\"Too many trials. Arborting the script.\")\n",
      "SystemExit: Too many trials. Arborting the script.\n",
      "\n",
      "During handling of the above exception, another exception occurred:\n",
      "\n",
      "Traceback (most recent call last):\n",
      "  File \"c:\\Users\\t1bia\\anaconda3\\lib\\site-packages\\IPython\\core\\ultratb.py\", line 1101, in get_records\n",
      "    return _fixed_getinnerframes(etb, number_of_lines_of_context, tb_offset)\n",
      "  File \"c:\\Users\\t1bia\\anaconda3\\lib\\site-packages\\IPython\\core\\ultratb.py\", line 248, in wrapped\n",
      "    return f(*args, **kwargs)\n",
      "  File \"c:\\Users\\t1bia\\anaconda3\\lib\\site-packages\\IPython\\core\\ultratb.py\", line 281, in _fixed_getinnerframes\n",
      "    records = fix_frame_records_filenames(inspect.getinnerframes(etb, context))\n",
      "  File \"c:\\Users\\t1bia\\anaconda3\\lib\\inspect.py\", line 1515, in getinnerframes\n",
      "    frameinfo = (tb.tb_frame,) + getframeinfo(tb, context)\n",
      "AttributeError: 'tuple' object has no attribute 'tb_frame'\n"
     ]
    },
    {
     "ename": "TypeError",
     "evalue": "object of type 'NoneType' has no len()",
     "output_type": "error",
     "traceback": [
      "\u001b[1;31m---------------------------------------------------------------------------\u001b[0m",
      "\u001b[1;31mTypeError\u001b[0m                                 Traceback (most recent call last)",
      "\u001b[1;32m<ipython-input-6-28a9331fecbf>\u001b[0m in \u001b[0;36m<module>\u001b[1;34m\u001b[0m\n\u001b[0;32m     24\u001b[0m                 \u001b[0mapartment_\u001b[0m \u001b[1;33m=\u001b[0m \u001b[0mApartment\u001b[0m\u001b[1;33m(\u001b[0m\u001b[0murl\u001b[0m\u001b[1;33m=\u001b[0m\u001b[0mapartment_url\u001b[0m\u001b[1;33m)\u001b[0m\u001b[1;33m\u001b[0m\u001b[1;33m\u001b[0m\u001b[0m\n\u001b[1;32m---> 25\u001b[1;33m                 \u001b[0mapartment_parameters\u001b[0m \u001b[1;33m=\u001b[0m \u001b[0mapartment_\u001b[0m\u001b[1;33m.\u001b[0m\u001b[0mget_parameters\u001b[0m\u001b[1;33m(\u001b[0m\u001b[1;33m)\u001b[0m\u001b[1;33m\u001b[0m\u001b[1;33m\u001b[0m\u001b[0m\n\u001b[0m\u001b[0;32m     26\u001b[0m                 \u001b[0mdf_\u001b[0m \u001b[1;33m=\u001b[0m \u001b[0mpd\u001b[0m\u001b[1;33m.\u001b[0m\u001b[0mDataFrame\u001b[0m\u001b[1;33m(\u001b[0m\u001b[1;33m[\u001b[0m\u001b[0mapartment_parameters\u001b[0m\u001b[1;33m]\u001b[0m\u001b[1;33m)\u001b[0m\u001b[1;33m\u001b[0m\u001b[1;33m\u001b[0m\u001b[0m\n",
      "\u001b[1;32m<ipython-input-4-7a6eacf45422>\u001b[0m in \u001b[0;36mget_parameters\u001b[1;34m(self)\u001b[0m\n\u001b[0;32m     36\u001b[0m         \u001b[0mself\u001b[0m\u001b[1;33m.\u001b[0m\u001b[0mpoi_json\u001b[0m \u001b[1;33m=\u001b[0m \u001b[0mjson\u001b[0m\u001b[1;33m.\u001b[0m\u001b[0mloads\u001b[0m\u001b[1;33m(\u001b[0m\u001b[0mself\u001b[0m\u001b[1;33m.\u001b[0m\u001b[0mgps_json\u001b[0m\u001b[1;33m[\u001b[0m\u001b[1;34m\"props\"\u001b[0m\u001b[1;33m]\u001b[0m\u001b[1;33m[\u001b[0m\u001b[1;34m\"pageProps\"\u001b[0m\u001b[1;33m]\u001b[0m\u001b[1;33m[\u001b[0m\u001b[1;34m\"advert\"\u001b[0m\u001b[1;33m]\u001b[0m\u001b[1;33m[\u001b[0m\u001b[1;34m\"poiData\"\u001b[0m\u001b[1;33m]\u001b[0m\u001b[1;33m)\u001b[0m\u001b[1;33m\u001b[0m\u001b[1;33m\u001b[0m\u001b[0m\n\u001b[1;32m---> 37\u001b[1;33m         \u001b[0mself\u001b[0m\u001b[1;33m.\u001b[0m\u001b[0mpoi_names\u001b[0m \u001b[1;33m=\u001b[0m \u001b[1;33m[\u001b[0m\u001b[0mkey\u001b[0m \u001b[1;32mfor\u001b[0m \u001b[0mkey\u001b[0m \u001b[1;32min\u001b[0m \u001b[0mself\u001b[0m\u001b[1;33m.\u001b[0m\u001b[0mpoi_json\u001b[0m\u001b[1;33m]\u001b[0m\u001b[1;33m\u001b[0m\u001b[1;33m\u001b[0m\u001b[0m\n\u001b[0m\u001b[0;32m     38\u001b[0m         \u001b[0mself\u001b[0m\u001b[1;33m.\u001b[0m\u001b[0mpoi_values\u001b[0m \u001b[1;33m=\u001b[0m \u001b[1;33m[\u001b[0m\u001b[0mint\u001b[0m\u001b[1;33m(\u001b[0m\u001b[0mself\u001b[0m\u001b[1;33m.\u001b[0m\u001b[0mpoi_json\u001b[0m\u001b[1;33m[\u001b[0m\u001b[0mkey\u001b[0m\u001b[1;33m]\u001b[0m\u001b[1;33m[\u001b[0m\u001b[1;34m'properties'\u001b[0m\u001b[1;33m]\u001b[0m\u001b[1;33m[\u001b[0m\u001b[1;34m'walkDistance'\u001b[0m\u001b[1;33m]\u001b[0m\u001b[1;33m)\u001b[0m \u001b[1;32mfor\u001b[0m \u001b[0mkey\u001b[0m \u001b[1;32min\u001b[0m \u001b[0mself\u001b[0m\u001b[1;33m.\u001b[0m\u001b[0mpoi_names\u001b[0m\u001b[1;33m]\u001b[0m\u001b[1;33m\u001b[0m\u001b[1;33m\u001b[0m\u001b[0m\n",
      "\u001b[1;31mTypeError\u001b[0m: 'NoneType' object is not iterable",
      "\nDuring handling of the above exception, another exception occurred:\n",
      "\u001b[1;31mSystemExit\u001b[0m                                Traceback (most recent call last)",
      "    \u001b[1;31m[... skipping hidden 1 frame]\u001b[0m\n",
      "\u001b[1;32m<ipython-input-6-28a9331fecbf>\u001b[0m in \u001b[0;36m<module>\u001b[1;34m\u001b[0m\n\u001b[0;32m     32\u001b[0m                     \u001b[0merr1\u001b[0m \u001b[1;33m=\u001b[0m \u001b[0mapartment_\u001b[0m\u001b[1;33m.\u001b[0m\u001b[0mget_html\u001b[0m\u001b[1;33m(\u001b[0m\u001b[1;33m)\u001b[0m\u001b[1;33m\u001b[0m\u001b[1;33m\u001b[0m\u001b[0m\n\u001b[1;32m---> 33\u001b[1;33m                     \u001b[0msys\u001b[0m\u001b[1;33m.\u001b[0m\u001b[0mexit\u001b[0m\u001b[1;33m(\u001b[0m\u001b[1;34m\"Too many trials. Arborting the script.\"\u001b[0m\u001b[1;33m)\u001b[0m\u001b[1;33m\u001b[0m\u001b[1;33m\u001b[0m\u001b[0m\n\u001b[0m\u001b[0;32m     34\u001b[0m                 \u001b[1;32melse\u001b[0m\u001b[1;33m:\u001b[0m\u001b[1;33m\u001b[0m\u001b[1;33m\u001b[0m\u001b[0m\n",
      "\u001b[1;31mSystemExit\u001b[0m: Too many trials. Arborting the script.",
      "\nDuring handling of the above exception, another exception occurred:\n",
      "\u001b[1;31mTypeError\u001b[0m                                 Traceback (most recent call last)",
      "    \u001b[1;31m[... skipping hidden 1 frame]\u001b[0m\n",
      "\u001b[1;32mc:\\Users\\t1bia\\anaconda3\\lib\\site-packages\\IPython\\core\\interactiveshell.py\u001b[0m in \u001b[0;36mshowtraceback\u001b[1;34m(self, exc_tuple, filename, tb_offset, exception_only, running_compiled_code)\u001b[0m\n\u001b[0;32m   2052\u001b[0m                     stb = ['An exception has occurred, use %tb to see '\n\u001b[0;32m   2053\u001b[0m                            'the full traceback.\\n']\n\u001b[1;32m-> 2054\u001b[1;33m                     stb.extend(self.InteractiveTB.get_exception_only(etype,\n\u001b[0m\u001b[0;32m   2055\u001b[0m                                                                      value))\n\u001b[0;32m   2056\u001b[0m                 \u001b[1;32melse\u001b[0m\u001b[1;33m:\u001b[0m\u001b[1;33m\u001b[0m\u001b[1;33m\u001b[0m\u001b[0m\n",
      "\u001b[1;32mc:\\Users\\t1bia\\anaconda3\\lib\\site-packages\\IPython\\core\\ultratb.py\u001b[0m in \u001b[0;36mget_exception_only\u001b[1;34m(self, etype, value)\u001b[0m\n\u001b[0;32m    752\u001b[0m         \u001b[0mvalue\u001b[0m \u001b[1;33m:\u001b[0m \u001b[0mexception\u001b[0m \u001b[0mvalue\u001b[0m\u001b[1;33m\u001b[0m\u001b[1;33m\u001b[0m\u001b[0m\n\u001b[0;32m    753\u001b[0m         \"\"\"\n\u001b[1;32m--> 754\u001b[1;33m         \u001b[1;32mreturn\u001b[0m \u001b[0mListTB\u001b[0m\u001b[1;33m.\u001b[0m\u001b[0mstructured_traceback\u001b[0m\u001b[1;33m(\u001b[0m\u001b[0mself\u001b[0m\u001b[1;33m,\u001b[0m \u001b[0metype\u001b[0m\u001b[1;33m,\u001b[0m \u001b[0mvalue\u001b[0m\u001b[1;33m)\u001b[0m\u001b[1;33m\u001b[0m\u001b[1;33m\u001b[0m\u001b[0m\n\u001b[0m\u001b[0;32m    755\u001b[0m \u001b[1;33m\u001b[0m\u001b[0m\n\u001b[0;32m    756\u001b[0m     \u001b[1;32mdef\u001b[0m \u001b[0mshow_exception_only\u001b[0m\u001b[1;33m(\u001b[0m\u001b[0mself\u001b[0m\u001b[1;33m,\u001b[0m \u001b[0metype\u001b[0m\u001b[1;33m,\u001b[0m \u001b[0mevalue\u001b[0m\u001b[1;33m)\u001b[0m\u001b[1;33m:\u001b[0m\u001b[1;33m\u001b[0m\u001b[1;33m\u001b[0m\u001b[0m\n",
      "\u001b[1;32mc:\\Users\\t1bia\\anaconda3\\lib\\site-packages\\IPython\\core\\ultratb.py\u001b[0m in \u001b[0;36mstructured_traceback\u001b[1;34m(self, etype, evalue, etb, tb_offset, context)\u001b[0m\n\u001b[0;32m    627\u001b[0m             \u001b[0mchained_exceptions_tb_offset\u001b[0m \u001b[1;33m=\u001b[0m \u001b[1;36m0\u001b[0m\u001b[1;33m\u001b[0m\u001b[1;33m\u001b[0m\u001b[0m\n\u001b[0;32m    628\u001b[0m             out_list = (\n\u001b[1;32m--> 629\u001b[1;33m                 self.structured_traceback(\n\u001b[0m\u001b[0;32m    630\u001b[0m                     \u001b[0metype\u001b[0m\u001b[1;33m,\u001b[0m \u001b[0mevalue\u001b[0m\u001b[1;33m,\u001b[0m \u001b[1;33m(\u001b[0m\u001b[0metb\u001b[0m\u001b[1;33m,\u001b[0m \u001b[0mchained_exc_ids\u001b[0m\u001b[1;33m)\u001b[0m\u001b[1;33m,\u001b[0m\u001b[1;33m\u001b[0m\u001b[1;33m\u001b[0m\u001b[0m\n\u001b[0;32m    631\u001b[0m                     chained_exceptions_tb_offset, context)\n",
      "\u001b[1;32mc:\\Users\\t1bia\\anaconda3\\lib\\site-packages\\IPython\\core\\ultratb.py\u001b[0m in \u001b[0;36mstructured_traceback\u001b[1;34m(self, etype, value, tb, tb_offset, number_of_lines_of_context)\u001b[0m\n\u001b[0;32m   1365\u001b[0m         \u001b[1;32melse\u001b[0m\u001b[1;33m:\u001b[0m\u001b[1;33m\u001b[0m\u001b[1;33m\u001b[0m\u001b[0m\n\u001b[0;32m   1366\u001b[0m             \u001b[0mself\u001b[0m\u001b[1;33m.\u001b[0m\u001b[0mtb\u001b[0m \u001b[1;33m=\u001b[0m \u001b[0mtb\u001b[0m\u001b[1;33m\u001b[0m\u001b[1;33m\u001b[0m\u001b[0m\n\u001b[1;32m-> 1367\u001b[1;33m         return FormattedTB.structured_traceback(\n\u001b[0m\u001b[0;32m   1368\u001b[0m             self, etype, value, tb, tb_offset, number_of_lines_of_context)\n\u001b[0;32m   1369\u001b[0m \u001b[1;33m\u001b[0m\u001b[0m\n",
      "\u001b[1;32mc:\\Users\\t1bia\\anaconda3\\lib\\site-packages\\IPython\\core\\ultratb.py\u001b[0m in \u001b[0;36mstructured_traceback\u001b[1;34m(self, etype, value, tb, tb_offset, number_of_lines_of_context)\u001b[0m\n\u001b[0;32m   1265\u001b[0m         \u001b[1;32mif\u001b[0m \u001b[0mmode\u001b[0m \u001b[1;32min\u001b[0m \u001b[0mself\u001b[0m\u001b[1;33m.\u001b[0m\u001b[0mverbose_modes\u001b[0m\u001b[1;33m:\u001b[0m\u001b[1;33m\u001b[0m\u001b[1;33m\u001b[0m\u001b[0m\n\u001b[0;32m   1266\u001b[0m             \u001b[1;31m# Verbose modes need a full traceback\u001b[0m\u001b[1;33m\u001b[0m\u001b[1;33m\u001b[0m\u001b[1;33m\u001b[0m\u001b[0m\n\u001b[1;32m-> 1267\u001b[1;33m             return VerboseTB.structured_traceback(\n\u001b[0m\u001b[0;32m   1268\u001b[0m                 \u001b[0mself\u001b[0m\u001b[1;33m,\u001b[0m \u001b[0metype\u001b[0m\u001b[1;33m,\u001b[0m \u001b[0mvalue\u001b[0m\u001b[1;33m,\u001b[0m \u001b[0mtb\u001b[0m\u001b[1;33m,\u001b[0m \u001b[0mtb_offset\u001b[0m\u001b[1;33m,\u001b[0m \u001b[0mnumber_of_lines_of_context\u001b[0m\u001b[1;33m\u001b[0m\u001b[1;33m\u001b[0m\u001b[0m\n\u001b[0;32m   1269\u001b[0m             )\n",
      "\u001b[1;32mc:\\Users\\t1bia\\anaconda3\\lib\\site-packages\\IPython\\core\\ultratb.py\u001b[0m in \u001b[0;36mstructured_traceback\u001b[1;34m(self, etype, evalue, etb, tb_offset, number_of_lines_of_context)\u001b[0m\n\u001b[0;32m   1122\u001b[0m         \u001b[1;34m\"\"\"Return a nice text document describing the traceback.\"\"\"\u001b[0m\u001b[1;33m\u001b[0m\u001b[1;33m\u001b[0m\u001b[0m\n\u001b[0;32m   1123\u001b[0m \u001b[1;33m\u001b[0m\u001b[0m\n\u001b[1;32m-> 1124\u001b[1;33m         formatted_exception = self.format_exception_as_a_whole(etype, evalue, etb, number_of_lines_of_context,\n\u001b[0m\u001b[0;32m   1125\u001b[0m                                                                tb_offset)\n\u001b[0;32m   1126\u001b[0m \u001b[1;33m\u001b[0m\u001b[0m\n",
      "\u001b[1;32mc:\\Users\\t1bia\\anaconda3\\lib\\site-packages\\IPython\\core\\ultratb.py\u001b[0m in \u001b[0;36mformat_exception_as_a_whole\u001b[1;34m(self, etype, evalue, etb, number_of_lines_of_context, tb_offset)\u001b[0m\n\u001b[0;32m   1080\u001b[0m \u001b[1;33m\u001b[0m\u001b[0m\n\u001b[0;32m   1081\u001b[0m \u001b[1;33m\u001b[0m\u001b[0m\n\u001b[1;32m-> 1082\u001b[1;33m         \u001b[0mlast_unique\u001b[0m\u001b[1;33m,\u001b[0m \u001b[0mrecursion_repeat\u001b[0m \u001b[1;33m=\u001b[0m \u001b[0mfind_recursion\u001b[0m\u001b[1;33m(\u001b[0m\u001b[0morig_etype\u001b[0m\u001b[1;33m,\u001b[0m \u001b[0mevalue\u001b[0m\u001b[1;33m,\u001b[0m \u001b[0mrecords\u001b[0m\u001b[1;33m)\u001b[0m\u001b[1;33m\u001b[0m\u001b[1;33m\u001b[0m\u001b[0m\n\u001b[0m\u001b[0;32m   1083\u001b[0m \u001b[1;33m\u001b[0m\u001b[0m\n\u001b[0;32m   1084\u001b[0m         \u001b[0mframes\u001b[0m \u001b[1;33m=\u001b[0m \u001b[0mself\u001b[0m\u001b[1;33m.\u001b[0m\u001b[0mformat_records\u001b[0m\u001b[1;33m(\u001b[0m\u001b[0mrecords\u001b[0m\u001b[1;33m,\u001b[0m \u001b[0mlast_unique\u001b[0m\u001b[1;33m,\u001b[0m \u001b[0mrecursion_repeat\u001b[0m\u001b[1;33m)\u001b[0m\u001b[1;33m\u001b[0m\u001b[1;33m\u001b[0m\u001b[0m\n",
      "\u001b[1;32mc:\\Users\\t1bia\\anaconda3\\lib\\site-packages\\IPython\\core\\ultratb.py\u001b[0m in \u001b[0;36mfind_recursion\u001b[1;34m(etype, value, records)\u001b[0m\n\u001b[0;32m    380\u001b[0m     \u001b[1;31m# first frame (from in to out) that looks different.\u001b[0m\u001b[1;33m\u001b[0m\u001b[1;33m\u001b[0m\u001b[1;33m\u001b[0m\u001b[0m\n\u001b[0;32m    381\u001b[0m     \u001b[1;32mif\u001b[0m \u001b[1;32mnot\u001b[0m \u001b[0mis_recursion_error\u001b[0m\u001b[1;33m(\u001b[0m\u001b[0metype\u001b[0m\u001b[1;33m,\u001b[0m \u001b[0mvalue\u001b[0m\u001b[1;33m,\u001b[0m \u001b[0mrecords\u001b[0m\u001b[1;33m)\u001b[0m\u001b[1;33m:\u001b[0m\u001b[1;33m\u001b[0m\u001b[1;33m\u001b[0m\u001b[0m\n\u001b[1;32m--> 382\u001b[1;33m         \u001b[1;32mreturn\u001b[0m \u001b[0mlen\u001b[0m\u001b[1;33m(\u001b[0m\u001b[0mrecords\u001b[0m\u001b[1;33m)\u001b[0m\u001b[1;33m,\u001b[0m \u001b[1;36m0\u001b[0m\u001b[1;33m\u001b[0m\u001b[1;33m\u001b[0m\u001b[0m\n\u001b[0m\u001b[0;32m    383\u001b[0m \u001b[1;33m\u001b[0m\u001b[0m\n\u001b[0;32m    384\u001b[0m     \u001b[1;31m# Select filename, lineno, func_name to track frames with\u001b[0m\u001b[1;33m\u001b[0m\u001b[1;33m\u001b[0m\u001b[1;33m\u001b[0m\u001b[0m\n",
      "\u001b[1;31mTypeError\u001b[0m: object of type 'NoneType' has no len()"
     ]
    }
   ],
   "source": [
    "while current_page <= max_pages:\n",
    "    while True:\n",
    "        try:\n",
    "            listing_page_url = URL.format(page_no=current_page)\n",
    "            listing_page_ = ListingPage(url=listing_page_url)\n",
    "            apartment_url_list = listing_page_.get_listing_urls()\n",
    "            # max_pages = listing_page_.get_max_pages()\n",
    "            print(f'Parsing page {current_page} of {max_pages}')\n",
    "        except:\n",
    "            wait_time = wait_time+300\n",
    "            print(f'Error during parsing the listing page: {listing_page_url} at {current_page} page. Waiting {int(wait_time/60)} minutes and will try again')\n",
    "            if wait_time >= 500:\n",
    "                err2 = listing_page_.get_html()\n",
    "                sys.exit(\"Too many trials. Arborting the script.\")\n",
    "            else:\n",
    "                time.sleep(wait_time)\n",
    "            continue\n",
    "        break\n",
    "\n",
    "\n",
    "    for apartment_url in apartment_url_list:\n",
    "        while True:\n",
    "            try:\n",
    "                apartment_ = Apartment(url=apartment_url)\n",
    "                apartment_parameters = apartment_.get_parameters()\n",
    "                df_ = pd.DataFrame([apartment_parameters])\n",
    "                df = pd.concat([df,df_],axis=0,ignore_index=True)\n",
    "            except:\n",
    "                wait_time = wait_time+300\n",
    "                print(f'Error during parsing the apartment: {apartment_url} at {current_page} page. Waiting {int(wait_time/60)} minutes and will try again')\n",
    "                if wait_time >= 500:\n",
    "                    err1 = apartment_.get_html()\n",
    "                    sys.exit(\"Too many trials. Arborting the script.\")\n",
    "                else:\n",
    "                    time.sleep(wait_time)\n",
    "                continue\n",
    "            break\n",
    "\n",
    "    current_page = current_page + 1\n",
    "        "
   ]
  },
  {
   "cell_type": "code",
   "execution_count": 8,
   "metadata": {},
   "outputs": [
    {
     "data": {
      "text/plain": [
       "Index(['Price', 'Fees', 'Refundable security deposit', 'Listing ID', 'Layout',\n",
       "       'Avaliable from', 'Floor', 'EPC', 'Designe', 'Floor space',\n",
       "       'Fully furnished', 'Condition', 'Building type', 'Age', 'Terrace',\n",
       "       'public_transport', 'post', 'shop', 'bank', 'restaurant', 'pharmacy',\n",
       "       'school', 'kindergarten', 'sports_field', 'playground', 'District',\n",
       "       'Latitude', 'Longitude', 'Balcony', 'Lift', 'Heating', 'Ownership',\n",
       "       'New-build', 'Garage', 'Reconstruction', 'Cellar', 'Parking',\n",
       "       'Front garden 1 m²', 'Enclosed balcony', 'Front garden 100 m²',\n",
       "       'Administrative fee', 'Plot type', 'Front garden 300 m²',\n",
       "       'Front garden 40 m²', 'Front garden 50 m²', 'Front garden 1,200 m²',\n",
       "       'Front garden 21 m²'],\n",
       "      dtype='object')"
      ]
     },
     "execution_count": 8,
     "metadata": {},
     "output_type": "execute_result"
    }
   ],
   "source": [
    "df.columns"
   ]
  },
  {
   "cell_type": "code",
   "execution_count": 18,
   "metadata": {},
   "outputs": [],
   "source": [
    "a = [None]"
   ]
  },
  {
   "cell_type": "code",
   "execution_count": 20,
   "metadata": {},
   "outputs": [
    {
     "data": {
      "text/plain": [
       "NoneType"
      ]
     },
     "execution_count": 20,
     "metadata": {},
     "output_type": "execute_result"
    }
   ],
   "source": [
    "type(a)"
   ]
  },
  {
   "cell_type": "code",
   "execution_count": 17,
   "metadata": {},
   "outputs": [
    {
     "ename": "TypeError",
     "evalue": "'NoneType' object is not iterable",
     "output_type": "error",
     "traceback": [
      "\u001b[1;31m---------------------------------------------------------------------------\u001b[0m",
      "\u001b[1;31mTypeError\u001b[0m                                 Traceback (most recent call last)",
      "\u001b[1;32m<ipython-input-17-2b0728c383fd>\u001b[0m in \u001b[0;36m<module>\u001b[1;34m\u001b[0m\n\u001b[1;32m----> 1\u001b[1;33m \u001b[1;33m[\u001b[0m\u001b[0mkey\u001b[0m \u001b[1;32mfor\u001b[0m \u001b[0mkey\u001b[0m \u001b[1;32min\u001b[0m \u001b[0ma\u001b[0m\u001b[1;33m]\u001b[0m\u001b[1;33m\u001b[0m\u001b[1;33m\u001b[0m\u001b[0m\n\u001b[0m",
      "\u001b[1;31mTypeError\u001b[0m: 'NoneType' object is not iterable"
     ]
    }
   ],
   "source": [
    "[key for key in a]"
   ]
  },
  {
   "cell_type": "code",
   "execution_count": 36,
   "metadata": {},
   "outputs": [
    {
     "data": {
      "text/plain": [
       "{'Price': 'CZK 24,000',\n",
       " 'Fees': 'CZK 3,000',\n",
       " 'Refundable security deposit': 'CZK 30,000',\n",
       " 'Listing ID': '720116',\n",
       " 'Layout': '3+1',\n",
       " 'Avaliable from': '9/1/2022',\n",
       " 'Floor': '2',\n",
       " 'EPC': 'G',\n",
       " 'Floor space': '90 m²',\n",
       " 'Fully furnished': 'Partly',\n",
       " 'Condition': 'Very good',\n",
       " 'Building type': 'Brick',\n",
       " 'Reconstruction': 'Complete',\n",
       " 'Balcony': 1,\n",
       " 'Lift': 1,\n",
       " 'Cellar': 1,\n",
       " 'District': 'Prague - Nusle',\n",
       " 'Latitude': 50.06037,\n",
       " 'Longitude': 14.43358}"
      ]
     },
     "execution_count": 36,
     "metadata": {},
     "output_type": "execute_result"
    }
   ],
   "source": [
    "a2 = Apartment(url='https://www.bezrealitky.com/properties-flats-houses/720116-nabidka-pronajem-bytu')\n",
    "a2.get_parameters()\n"
   ]
  },
  {
   "cell_type": "code",
   "execution_count": 87,
   "metadata": {},
   "outputs": [
    {
     "data": {
      "text/plain": [
       "{'Price': 'CZK 20,000',\n",
       " 'Fees': 'CZK 5,000',\n",
       " 'Refundable security deposit': 'CZK 25,000',\n",
       " 'Listing ID': '552817',\n",
       " 'Layout': '4+kk',\n",
       " 'Avaliable from': '9/1/2022',\n",
       " 'Floor': '2',\n",
       " 'Building type': 'Prefab concrete',\n",
       " 'Heating': 'Distance',\n",
       " 'Designe': 'Standard',\n",
       " 'Floor space': '77 m²',\n",
       " 'Fully furnished': 'Partly',\n",
       " 'Condition': 'Very good',\n",
       " 'Ownership': 'Personal',\n",
       " 'EPC': 'G',\n",
       " 'Reconstruction': 'Exterior',\n",
       " 'Enclosed balcony': 1,\n",
       " 'Lift': 1,\n",
       " 'Parking': 1,\n",
       " 'public_transport': 210,\n",
       " 'post': 730,\n",
       " 'shop': 374,\n",
       " 'bank': 563,\n",
       " 'restaurant': 346,\n",
       " 'pharmacy': 618,\n",
       " 'school': 388,\n",
       " 'kindergarten': 208,\n",
       " 'sports_field': 659,\n",
       " 'playground': 54,\n",
       " 'District': 'Prague - Žižkov',\n",
       " 'Latitude': 50.087438,\n",
       " 'Longitude': 14.47381}"
      ]
     },
     "execution_count": 87,
     "metadata": {},
     "output_type": "execute_result"
    }
   ],
   "source": [
    "a1 = Apartment(url='https://www.bezrealitky.com/properties-flats-houses/552817-nabidka-pronajem-bytu')\n",
    "a1.get_parameters()"
   ]
  }
 ],
 "metadata": {
  "kernelspec": {
   "display_name": "Python 3.8.8 ('base')",
   "language": "python",
   "name": "python3"
  },
  "language_info": {
   "codemirror_mode": {
    "name": "ipython",
    "version": 3
   },
   "file_extension": ".py",
   "mimetype": "text/x-python",
   "name": "python",
   "nbconvert_exporter": "python",
   "pygments_lexer": "ipython3",
   "version": "3.8.8"
  },
  "orig_nbformat": 4,
  "vscode": {
   "interpreter": {
    "hash": "ccc39d46d634340ada6859ade381b7590aeee1806ea8ce640dddf23b0821612b"
   }
  }
 },
 "nbformat": 4,
 "nbformat_minor": 2
}
