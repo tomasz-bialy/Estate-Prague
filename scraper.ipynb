{
 "cells": [
  {
   "cell_type": "code",
   "execution_count": 32,
   "metadata": {},
   "outputs": [],
   "source": [
    "import requests\n",
    "import bs4\n",
    "import time\n",
    "import random\n",
    "import sys\n",
    "import pandas as pd\n",
    "from datetime import date\n",
    "from github import Github\n",
    "import json"
   ]
  },
  {
   "cell_type": "code",
   "execution_count": 6,
   "metadata": {},
   "outputs": [],
   "source": [
    "HEADERS = {\n",
    "    'Connection': 'keep-alive',\n",
    "    'sec-ch-ua': '\" Not A;Brand\";v=\"99\", \"Chromium\";v=\"99\", \"Google Chrome\";v=\"99\"',\n",
    "    'sec-ch-ua-mobile': '?0',\n",
    "    'sec-ch-ua-platform': '\"Windows\"',\n",
    "    'Upgrade-Insecure-Requests': '1',\n",
    "    'User-Agent': 'Mozilla/5.0 (Windows NT 10.0; Win64; x64) AppleWebKit/537.36 (KHTML, like Gecko) Chrome/99.0.4844.84 Safari/537.36',\n",
    "    'Accept': 'text/html,application/xhtml+xml,application/xml;q=0.9,image/avif,image/webp,image/apng,*/*;q=0.8,application/signed-exchange;v=b3;q=0.9',\n",
    "    'Sec-Fetch-Site': 'none',\n",
    "    'Sec-Fetch-Mode': 'navigate',\n",
    "    'Sec-Fetch-User': '?1',\n",
    "    'Sec-Fetch-Dest': 'document',\n",
    "    'Accept-Language': 'pl-PL,pl;q=0.9,en-US;q=0.8,en;q=0.7,zh-CN;q=0.6,zh;q=0.5,de;q=0.4,cs;q=0.3,ja;q=0.2'\n",
    "    }\n",
    "\n",
    "URL = \"https://www.bezrealitky.com/listings/offer-rent/flat/prague?page={page_no}\""
   ]
  },
  {
   "cell_type": "code",
   "execution_count": 30,
   "metadata": {},
   "outputs": [],
   "source": [
    "url2 = 'https://www.bezrealitky.com/properties-flats-houses/552817-nabidka-pronajem-bytu'\n",
    "HEADERS =   {\n",
    "                        'Connection': 'keep-alive',\n",
    "                        'sec-ch-ua': '\" Not A;Brand\";v=\"99\", \"Chromium\";v=\"99\", \"Google Chrome\";v=\"99\"',\n",
    "                        'sec-ch-ua-mobile': '?0',\n",
    "                        'sec-ch-ua-platform': '\"Windows\"',\n",
    "                        'Upgrade-Insecure-Requests': '1',\n",
    "                        'User-Agent': 'Mozilla/5.0 (Windows NT 10.0; Win64; x64) AppleWebKit/537.36 (KHTML, like Gecko) Chrome/99.0.4844.84 Safari/537.36',\n",
    "                        'Accept': 'text/html,application/xhtml+xml,application/xml;q=0.9,image/avif,image/webp,image/apng,*/*;q=0.8,application/signed-exchange;v=b3;q=0.9',\n",
    "                        'Sec-Fetch-Site': 'none',\n",
    "                        'Sec-Fetch-Mode': 'navigate',\n",
    "                        'Sec-Fetch-User': '?1',\n",
    "                        'Sec-Fetch-Dest': 'document',\n",
    "                        'Accept-Language': 'pl-PL,pl;q=0.9,en-US;q=0.8,en;q=0.7,zh-CN;q=0.6,zh;q=0.5,de;q=0.4,cs;q=0.3,ja;q=0.2'\n",
    "                        }\n",
    "response2 = requests.get(url2,headers=HEADERS)\n",
    "soup2 = bs4.BeautifulSoup(response2.text,\"lxml\")"
   ]
  },
  {
   "cell_type": "code",
   "execution_count": 79,
   "metadata": {},
   "outputs": [],
   "source": [
    "x = json.loads(soup2.find(\"script\",{\"id\" : \"__NEXT_DATA__\"}).contents[0])[\"props\"][\"pageProps\"][\"advert\"][\"poiData\"]"
   ]
  },
  {
   "cell_type": "code",
   "execution_count": 51,
   "metadata": {},
   "outputs": [],
   "source": [
    "json_obj_list = ['public_transport','post','shop','bank','restaurant','pharmacy','school','kindergarten','sports_field','playground']"
   ]
  },
  {
   "cell_type": "code",
   "execution_count": 69,
   "metadata": {},
   "outputs": [
    {
     "data": {
      "text/plain": [
       "210.74"
      ]
     },
     "execution_count": 69,
     "metadata": {},
     "output_type": "execute_result"
    }
   ],
   "source": [
    "json.loads(x)['public_transport']['properties']['walkDistance']"
   ]
  },
  {
   "cell_type": "code",
   "execution_count": 80,
   "metadata": {},
   "outputs": [],
   "source": [
    "aaa = json.loads(x)"
   ]
  },
  {
   "cell_type": "code",
   "execution_count": 81,
   "metadata": {},
   "outputs": [
    {
     "data": {
      "text/plain": [
       "10"
      ]
     },
     "execution_count": 81,
     "metadata": {},
     "output_type": "execute_result"
    }
   ],
   "source": [
    "len(aaa)"
   ]
  },
  {
   "cell_type": "code",
   "execution_count": 71,
   "metadata": {},
   "outputs": [
    {
     "name": "stdout",
     "output_type": "stream",
     "text": [
      "public_transport\n",
      "post\n",
      "shop\n",
      "bank\n",
      "restaurant\n",
      "pharmacy\n",
      "school\n",
      "kindergarten\n",
      "sports_field\n",
      "playground\n"
     ]
    }
   ],
   "source": [
    "for key in aaa:\n",
    "    print(key)"
   ]
  },
  {
   "cell_type": "code",
   "execution_count": 75,
   "metadata": {},
   "outputs": [],
   "source": [
    "poi_keys = [key for key in aaa]"
   ]
  },
  {
   "cell_type": "code",
   "execution_count": 78,
   "metadata": {},
   "outputs": [
    {
     "data": {
      "text/plain": [
       "[210, 730, 374, 563, 346, 618, 388, 208, 659, 54]"
      ]
     },
     "execution_count": 78,
     "metadata": {},
     "output_type": "execute_result"
    }
   ],
   "source": [
    "[int(aaa[key]['properties']['walkDistance']) for key in poi_keys]"
   ]
  },
  {
   "cell_type": "code",
   "execution_count": 68,
   "metadata": {},
   "outputs": [
    {
     "name": "stdout",
     "output_type": "stream",
     "text": [
      "210\n",
      "730\n",
      "374\n",
      "563\n",
      "346\n",
      "618\n",
      "388\n",
      "208\n",
      "659\n",
      "54\n"
     ]
    }
   ],
   "source": [
    "for obj in json_obj_list:\n",
    "    json.loads(x)[obj]['properties']['walkDistance']\n",
    "    \n"
   ]
  },
  {
   "cell_type": "code",
   "execution_count": 83,
   "metadata": {},
   "outputs": [],
   "source": [
    "class Page:\n",
    "    def __init__(self,url):\n",
    "        time.sleep(random.randrange(1,4))\n",
    "        self.url = url\n",
    "        self.response = requests.get(self.url,headers=HEADERS)\n",
    "        self.soup = bs4.BeautifulSoup(self.response.text,\"lxml\")\n",
    "    \n",
    "    def get_html(self):\n",
    "        return str(self.soup)\n",
    "\n",
    "class ListingPage(Page):\n",
    "    def get_max_pages(self):\n",
    "        self.max_pages = int(self.soup.find_all(\"a\",class_='page-link')[-2].text)\n",
    "        return self.max_pages\n",
    "\n",
    "    def get_listing_urls(self):\n",
    "        self.listings_in_page = self.soup.find_all(\"article\",class_='PropertyCard_propertyCard__qPQRK propertyCard PropertyCard_propertyCard--landscape__7grmL')\n",
    "        self.apartment_urls = [listing.find(\"a\",href=True).get(\"href\") for listing in self.listings_in_page]\n",
    "        return self.apartment_urls     \n",
    "\n",
    "class Apartment(Page):\n",
    "    def get_parameters(self):\n",
    "        self.price_table = self.soup.find('table',{\"class\": \"PriceTable_priceTable__voQsR priceTable\"})\n",
    "        self.price_parameters = [instance.find(\"th\").text.replace('Basic rent','Price').replace('Utility fees','Fees') for instance in self.price_table.find_all(\"tr\")]\n",
    "        self.price_values = [instance.find(\"strong\").text.replace('\\xa0',' ') for instance in self.price_table.find_all(\"tr\")]\n",
    "\n",
    "        self.characteristics_table = self.soup.find('section',{\"class\" : \"box Section_section___TusU section mb-5 mb-lg-10\"})\n",
    "        self.characteristics_parameters = [instance.find(\"th\").text for instance in self.characteristics_table.find_all(\"tr\")]\n",
    "        self.characteristics_values = [instance.find(\"td\").text for instance in self.characteristics_table.find_all(\"tr\")]\n",
    "\n",
    "        self.additional_information = self.soup.find_all(\"div\",{\"class\" : \"ParamsTable_paramsTable__Eqwx_ paramsTable\"})[1]\n",
    "        self.additional_parameters = [instance.text for instance in self.additional_information.find_all(\"td\") if instance.text.find('MHD') == -1]\n",
    "\n",
    "        self.gps_json = json.loads(self.soup.find(\"script\",{\"id\" : \"__NEXT_DATA__\"}).contents[0])\n",
    "\n",
    "        self.poi_json = json.loads(self.gps_json[\"props\"][\"pageProps\"][\"advert\"][\"poiData\"])\n",
    "        self.poi_names = [key for key in self.poi_json]\n",
    "        self.poi_values = [int(self.poi_json[key]['properties']['walkDistance']) for key in self.poi_names]\n",
    "\n",
    "        self.p = self.price_parameters + self.characteristics_parameters + self.additional_parameters + self.poi_names\n",
    "        self.v = self.price_values + self.characteristics_values + [1]*len(self.additional_parameters) + self.poi_values\n",
    "\n",
    "        self.dictionary_data = dict(zip(self.p,self.v))\n",
    "\n",
    "        self.dictionary_data['District'] = self.soup.find(\"span\",{\"class\" : \"PropertyAttributes_propertyAttributesItem__kscom\"}).text\n",
    "\n",
    "        self.dictionary_data['Latitude'] = self.gps_json[\"props\"][\"pageProps\"][\"advert\"][\"gps\"][\"lat\"]\n",
    "        self.dictionary_data['Longitude'] = self.gps_json[\"props\"][\"pageProps\"][\"advert\"][\"gps\"][\"lng\"]\n",
    "\n",
    "        return self.dictionary_data"
   ]
  },
  {
   "cell_type": "code",
   "execution_count": 91,
   "metadata": {},
   "outputs": [
    {
     "name": "stdout",
     "output_type": "stream",
     "text": [
      "Parsing page 1 of 65\n",
      "Error during parsing the apartment: https://www.bezrealitky.com/properties-flats-houses/723061-nabidka-pronajem-bytu at 1 page. Waiting 3.0 minutes and will try again\n"
     ]
    }
   ],
   "source": [
    "current_page = 1\n",
    "max_pages = 999\n",
    "wait_time = 0\n",
    "df = pd.DataFrame()\n",
    "\n",
    "while current_page <= max_pages:\n",
    "    while True:\n",
    "        try:\n",
    "            listing_page_url = URL.format(page_no=current_page)\n",
    "            listing_page_ = ListingPage(url=listing_page_url)\n",
    "            apartment_url_list = listing_page_.get_listing_urls()\n",
    "            max_pages = listing_page_.get_max_pages()\n",
    "            print(f'Parsing page {current_page} of {max_pages}')\n",
    "        except:\n",
    "            wait_time = wait_time+180\n",
    "            print(f'Error during parsing the listing page: {listing_page_url} at {current_page} page. Waiting {int(wait_time/60)} minutes and will try again')\n",
    "            if wait_time >= 1800:\n",
    "                # ListingPage(url=URL.format(page_no=current_page)).get_html()\n",
    "                sys.exit(\"Too many trials. Arborting the script.\")\n",
    "            else:\n",
    "                time.sleep(wait_time)\n",
    "            continue\n",
    "        break\n",
    "\n",
    "\n",
    "    for apartment_url in apartment_url_list:\n",
    "        while True:\n",
    "            try:\n",
    "                apartment_ = Apartment(url=apartment_url)\n",
    "                apartment_parameters = apartment_.get_parameters()\n",
    "                df_ = pd.DataFrame([apartment_parameters])\n",
    "                df = pd.concat([df,df_],axis=0,ignore_index=True)\n",
    "            except:\n",
    "                wait_time = wait_time+180\n",
    "                print(f'Error during parsing the apartment: {apartment_url} at {current_page} page. Waiting {int(wait_time/60)\n",
    "                } minutes and will try again')\n",
    "                if wait_time >= 1800:\n",
    "                    # Apartment(url=apartment_url).get_html()\n",
    "                    # ListingPage(url=URL.format(page_no=current_page)).get_html()\n",
    "                    sys.exit(\"Too many trials. Arborting the script.\")\n",
    "                else:\n",
    "                    time.sleep(wait_time)\n",
    "                continue\n",
    "            break\n",
    "\n",
    "    current_page = current_page + 1\n",
    "        "
   ]
  },
  {
   "cell_type": "code",
   "execution_count": 9,
   "metadata": {},
   "outputs": [
    {
     "data": {
      "text/plain": [
       "Index(['Price', 'Fees', 'Refundable security deposit', 'Listing ID', 'Layout',\n",
       "       'Avaliable from', 'Floor', 'Building type', 'Age', 'Designe',\n",
       "       'Floor space', 'Fully furnished', 'Condition', 'Ownership', 'EPC',\n",
       "       'Heating', 'New-build', 'Enclosed balcony', 'MHD 2 minutes on foot',\n",
       "       'Cellar', 'Latitude', 'Longitude', 'District', 'Reconstruction',\n",
       "       'Administrative fee', 'Balcony', 'Lift', 'Parking',\n",
       "       'MHD 3 minutes on foot', 'MHD 1 minute on foot', 'Terrace',\n",
       "       'Front garden 1 m²', 'Plot type', 'MHD 4 minutes on foot'],\n",
       "      dtype='object')"
      ]
     },
     "execution_count": 9,
     "metadata": {},
     "output_type": "execute_result"
    }
   ],
   "source": [
    "df.columns"
   ]
  },
  {
   "cell_type": "code",
   "execution_count": 87,
   "metadata": {},
   "outputs": [
    {
     "data": {
      "text/plain": [
       "{'Price': 'CZK 20,000',\n",
       " 'Fees': 'CZK 5,000',\n",
       " 'Refundable security deposit': 'CZK 25,000',\n",
       " 'Listing ID': '552817',\n",
       " 'Layout': '4+kk',\n",
       " 'Avaliable from': '9/1/2022',\n",
       " 'Floor': '2',\n",
       " 'Building type': 'Prefab concrete',\n",
       " 'Heating': 'Distance',\n",
       " 'Designe': 'Standard',\n",
       " 'Floor space': '77 m²',\n",
       " 'Fully furnished': 'Partly',\n",
       " 'Condition': 'Very good',\n",
       " 'Ownership': 'Personal',\n",
       " 'EPC': 'G',\n",
       " 'Reconstruction': 'Exterior',\n",
       " 'Enclosed balcony': 1,\n",
       " 'Lift': 1,\n",
       " 'Parking': 1,\n",
       " 'public_transport': 210,\n",
       " 'post': 730,\n",
       " 'shop': 374,\n",
       " 'bank': 563,\n",
       " 'restaurant': 346,\n",
       " 'pharmacy': 618,\n",
       " 'school': 388,\n",
       " 'kindergarten': 208,\n",
       " 'sports_field': 659,\n",
       " 'playground': 54,\n",
       " 'District': 'Prague - Žižkov',\n",
       " 'Latitude': 50.087438,\n",
       " 'Longitude': 14.47381}"
      ]
     },
     "execution_count": 87,
     "metadata": {},
     "output_type": "execute_result"
    }
   ],
   "source": [
    "a1 = Apartment(url='https://www.bezrealitky.com/properties-flats-houses/552817-nabidka-pronajem-bytu')\n",
    "a1.get_parameters()"
   ]
  }
 ],
 "metadata": {
  "kernelspec": {
   "display_name": "Python 3.8.8 ('base')",
   "language": "python",
   "name": "python3"
  },
  "language_info": {
   "codemirror_mode": {
    "name": "ipython",
    "version": 3
   },
   "file_extension": ".py",
   "mimetype": "text/x-python",
   "name": "python",
   "nbconvert_exporter": "python",
   "pygments_lexer": "ipython3",
   "version": "3.8.8"
  },
  "orig_nbformat": 4,
  "vscode": {
   "interpreter": {
    "hash": "ccc39d46d634340ada6859ade381b7590aeee1806ea8ce640dddf23b0821612b"
   }
  }
 },
 "nbformat": 4,
 "nbformat_minor": 2
}
