{
 "cells": [
  {
   "cell_type": "code",
   "execution_count": 7,
   "metadata": {},
   "outputs": [],
   "source": [
    "import requests\n",
    "import bs4\n",
    "import time\n",
    "import random\n",
    "import sys\n",
    "import pandas as pd\n",
    "from datetime import date\n",
    "from github import Github\n",
    "import json"
   ]
  },
  {
   "cell_type": "code",
   "execution_count": 8,
   "metadata": {},
   "outputs": [],
   "source": [
    "HEADERS = {\n",
    "    'Connection': 'keep-alive',\n",
    "    'sec-ch-ua': '\" Not A;Brand\";v=\"99\", \"Chromium\";v=\"99\", \"Google Chrome\";v=\"99\"',\n",
    "    'sec-ch-ua-mobile': '?0',\n",
    "    'sec-ch-ua-platform': '\"Windows\"',\n",
    "    'Upgrade-Insecure-Requests': '1',\n",
    "    'User-Agent': 'Mozilla/5.0 (Windows NT 10.0; Win64; x64) AppleWebKit/537.36 (KHTML, like Gecko) Chrome/99.0.4844.84 Safari/537.36',\n",
    "    'Accept': 'text/html,application/xhtml+xml,application/xml;q=0.9,image/avif,image/webp,image/apng,*/*;q=0.8,application/signed-exchange;v=b3;q=0.9',\n",
    "    'Sec-Fetch-Site': 'none',\n",
    "    'Sec-Fetch-Mode': 'navigate',\n",
    "    'Sec-Fetch-User': '?1',\n",
    "    'Sec-Fetch-Dest': 'document',\n",
    "    'Accept-Language': 'pl-PL,pl;q=0.9,en-US;q=0.8,en;q=0.7,zh-CN;q=0.6,zh;q=0.5,de;q=0.4,cs;q=0.3,ja;q=0.2'\n",
    "    }\n",
    "\n",
    "URL = \"https://www.bezrealitky.com/listings/offer-rent/flat/prague?page={page_no}\""
   ]
  },
  {
   "cell_type": "code",
   "execution_count": 26,
   "metadata": {},
   "outputs": [],
   "source": [
    "url = 'https://www.bezrealitky.com/properties-flats-houses/720116-nabidka-pronajem-bytu'\n",
    "HEADERS =   {\n",
    "                        'Connection': 'keep-alive',\n",
    "                        'sec-ch-ua': '\" Not A;Brand\";v=\"99\", \"Chromium\";v=\"99\", \"Google Chrome\";v=\"99\"',\n",
    "                        'sec-ch-ua-mobile': '?0',\n",
    "                        'sec-ch-ua-platform': '\"Windows\"',\n",
    "                        'Upgrade-Insecure-Requests': '1',\n",
    "                        'User-Agent': 'Mozilla/5.0 (Windows NT 10.0; Win64; x64) AppleWebKit/537.36 (KHTML, like Gecko) Chrome/99.0.4844.84 Safari/537.36',\n",
    "                        'Accept': 'text/html,application/xhtml+xml,application/xml;q=0.9,image/avif,image/webp,image/apng,*/*;q=0.8,application/signed-exchange;v=b3;q=0.9',\n",
    "                        'Sec-Fetch-Site': 'none',\n",
    "                        'Sec-Fetch-Mode': 'navigate',\n",
    "                        'Sec-Fetch-User': '?1',\n",
    "                        'Sec-Fetch-Dest': 'document',\n",
    "                        'Accept-Language': 'pl-PL,pl;q=0.9,en-US;q=0.8,en;q=0.7,zh-CN;q=0.6,zh;q=0.5,de;q=0.4,cs;q=0.3,ja;q=0.2'\n",
    "                        }\n",
    "response2 = requests.get(url,headers=HEADERS)\n",
    "soup2 = bs4.BeautifulSoup(response2.text,\"lxml\")\n",
    "\n",
    "\n",
    "gps_json = json.loads(soup2.find(\"script\",{\"id\" : \"__NEXT_DATA__\"}).contents[0])\n",
    "poi_json = json.loads(gps_json[\"props\"][\"pageProps\"][\"advert\"][\"poiData\"])\n"
   ]
  },
  {
   "cell_type": "code",
   "execution_count": 33,
   "metadata": {},
   "outputs": [],
   "source": [
    "poi_json = json.loads(gps_json[\"props\"][\"pageProps\"][\"advert\"][\"poiData\"])"
   ]
  },
  {
   "cell_type": "code",
   "execution_count": 35,
   "metadata": {},
   "outputs": [
    {
     "ename": "TypeError",
     "evalue": "'NoneType' object is not iterable",
     "output_type": "error",
     "traceback": [
      "\u001b[1;31m---------------------------------------------------------------------------\u001b[0m",
      "\u001b[1;31mTypeError\u001b[0m                                 Traceback (most recent call last)",
      "\u001b[1;32m<ipython-input-35-560783894966>\u001b[0m in \u001b[0;36m<module>\u001b[1;34m\u001b[0m\n\u001b[1;32m----> 1\u001b[1;33m \u001b[1;33m[\u001b[0m\u001b[0mkey\u001b[0m \u001b[1;32mfor\u001b[0m \u001b[0mkey\u001b[0m \u001b[1;32min\u001b[0m \u001b[0mpoi_json\u001b[0m\u001b[1;33m]\u001b[0m\u001b[1;33m\u001b[0m\u001b[1;33m\u001b[0m\u001b[0m\n\u001b[0m",
      "\u001b[1;31mTypeError\u001b[0m: 'NoneType' object is not iterable"
     ]
    }
   ],
   "source": [
    "[key for key in poi_json]"
   ]
  },
  {
   "cell_type": "code",
   "execution_count": 30,
   "metadata": {},
   "outputs": [
    {
     "data": {
      "text/plain": [
       "True"
      ]
     },
     "execution_count": 30,
     "metadata": {},
     "output_type": "execute_result"
    }
   ],
   "source": [
    "poi_json is None"
   ]
  },
  {
   "cell_type": "code",
   "execution_count": 31,
   "metadata": {},
   "outputs": [
    {
     "data": {
      "text/plain": [
       "True"
      ]
     },
     "execution_count": 31,
     "metadata": {},
     "output_type": "execute_result"
    }
   ],
   "source": [
    "poi_json == None"
   ]
  },
  {
   "cell_type": "code",
   "execution_count": 28,
   "metadata": {},
   "outputs": [
    {
     "data": {
      "text/plain": [
       "'null'"
      ]
     },
     "execution_count": 28,
     "metadata": {},
     "output_type": "execute_result"
    }
   ],
   "source": [
    "gps_json[\"props\"][\"pageProps\"][\"advert\"][\"poiData\"]"
   ]
  },
  {
   "cell_type": "code",
   "execution_count": 10,
   "metadata": {},
   "outputs": [
    {
     "name": "stdout",
     "output_type": "stream",
     "text": [
      "None\n"
     ]
    }
   ],
   "source": [
    "print(poi_json)"
   ]
  },
  {
   "cell_type": "code",
   "execution_count": 22,
   "metadata": {},
   "outputs": [],
   "source": [
    "poi_json = json.loads(gps_json[\"props\"][\"pageProps\"][\"advert\"][\"poiData\"])"
   ]
  },
  {
   "cell_type": "code",
   "execution_count": 26,
   "metadata": {},
   "outputs": [
    {
     "data": {
      "text/plain": [
       "False"
      ]
     },
     "execution_count": 26,
     "metadata": {},
     "output_type": "execute_result"
    }
   ],
   "source": [
    "poi_json is not None"
   ]
  },
  {
   "cell_type": "code",
   "execution_count": 28,
   "metadata": {},
   "outputs": [
    {
     "ename": "TypeError",
     "evalue": "object of type 'NoneType' has no len()",
     "output_type": "error",
     "traceback": [
      "\u001b[1;31m---------------------------------------------------------------------------\u001b[0m",
      "\u001b[1;31mTypeError\u001b[0m                                 Traceback (most recent call last)",
      "\u001b[1;32m<ipython-input-28-1c910eb172e9>\u001b[0m in \u001b[0;36m<module>\u001b[1;34m\u001b[0m\n\u001b[1;32m----> 1\u001b[1;33m \u001b[0mlen\u001b[0m\u001b[1;33m(\u001b[0m\u001b[0mpoi_json\u001b[0m\u001b[1;33m)\u001b[0m\u001b[1;33m\u001b[0m\u001b[1;33m\u001b[0m\u001b[0m\n\u001b[0m",
      "\u001b[1;31mTypeError\u001b[0m: object of type 'NoneType' has no len()"
     ]
    }
   ],
   "source": [
    "len(poi_json)"
   ]
  },
  {
   "cell_type": "code",
   "execution_count": 29,
   "metadata": {},
   "outputs": [],
   "source": [
    "class Page:\n",
    "    def __init__(self,url):\n",
    "        time.sleep(random.randrange(1,4))\n",
    "        self.url = url\n",
    "        self.response = requests.get(self.url,headers=HEADERS)\n",
    "        self.soup = bs4.BeautifulSoup(self.response.text,\"lxml\")\n",
    "    \n",
    "    def get_html(self):\n",
    "        return self.response.text\n",
    "\n",
    "class ListingPage(Page):\n",
    "    def get_max_pages(self):\n",
    "        self.max_pages = int(self.soup.find_all(\"a\",class_='page-link')[-2].text)\n",
    "        return self.max_pages\n",
    "\n",
    "    def get_listing_urls(self):\n",
    "        self.listings_in_page = self.soup.find_all(\"article\",class_='PropertyCard_propertyCard__qPQRK propertyCard PropertyCard_propertyCard--landscape__7grmL')\n",
    "        self.apartment_urls = [listing.find(\"a\",href=True).get(\"href\") for listing in self.listings_in_page]\n",
    "        return self.apartment_urls     \n",
    "\n",
    "class Apartment(Page):\n",
    "    def get_parameters(self):\n",
    "        self.price_table = self.soup.find('table',{\"class\": \"PriceTable_priceTable__voQsR priceTable\"})\n",
    "        self.price_parameters = [instance.find(\"th\").text.replace('Basic rent','Price').replace('Utility fees','Fees') for instance in self.price_table.find_all(\"tr\")]\n",
    "        self.price_values = [instance.find(\"strong\").text.replace('\\xa0',' ') for instance in self.price_table.find_all(\"tr\")]\n",
    "\n",
    "        self.characteristics_table = self.soup.find('section',{\"class\" : \"box Section_section___TusU section mb-5 mb-lg-10\"})\n",
    "        self.characteristics_parameters = [instance.find(\"th\").text for instance in self.characteristics_table.find_all(\"tr\")]\n",
    "        self.characteristics_values = [instance.find(\"td\").text for instance in self.characteristics_table.find_all(\"tr\")]\n",
    "\n",
    "        self.additional_information = self.soup.find_all(\"div\",{\"class\" : \"ParamsTable_paramsTable__Eqwx_ paramsTable\"})[1]\n",
    "        self.additional_parameters = [instance.text for instance in self.additional_information.find_all(\"td\") if instance.text.find('MHD') == -1 and instance.text.find('Front garden') == -1]\n",
    "\n",
    "        self.gps_json = json.loads(self.soup.find(\"script\",{\"id\" : \"__NEXT_DATA__\"}).contents[0])\n",
    "\n",
    "        self.poi_json = json.loads(self.gps_json[\"props\"][\"pageProps\"][\"advert\"][\"poiData\"])\n",
    "        \n",
    "        if self.poi_json is not None:\n",
    "            self.poi_names = [key for key in self.poi_json]\n",
    "            self.poi_values = [int(self.poi_json[key]['properties']['walkDistance']) for key in self.poi_names]\n",
    "        else:  \n",
    "            self.poi_names = []\n",
    "            self.poi_values = []\n",
    "\n",
    "        self.p = self.price_parameters + self.characteristics_parameters + self.additional_parameters + self.poi_names\n",
    "        self.v = self.price_values + self.characteristics_values + [1]*len(self.additional_parameters) + self.poi_values\n",
    "\n",
    "        self.dictionary_data = dict(zip(self.p,self.v))\n",
    "\n",
    "        self.dictionary_data['District'] = self.soup.find(\"span\",{\"class\" : \"PropertyAttributes_propertyAttributesItem__kscom\"}).text\n",
    "\n",
    "        self.dictionary_data['Latitude'] = self.gps_json[\"props\"][\"pageProps\"][\"advert\"][\"gps\"][\"lat\"]\n",
    "        self.dictionary_data['Longitude'] = self.gps_json[\"props\"][\"pageProps\"][\"advert\"][\"gps\"][\"lng\"]\n",
    "\n",
    "        return self.dictionary_data"
   ]
  },
  {
   "cell_type": "code",
   "execution_count": 8,
   "metadata": {},
   "outputs": [
    {
     "ename": "AttributeError",
     "evalue": "'list' object has no attribute 'replace'",
     "output_type": "error",
     "traceback": [
      "\u001b[1;31m---------------------------------------------------------------------------\u001b[0m",
      "\u001b[1;31mAttributeError\u001b[0m                            Traceback (most recent call last)",
      "\u001b[1;32m<ipython-input-8-8da3a119e55a>\u001b[0m in \u001b[0;36m<module>\u001b[1;34m\u001b[0m\n\u001b[1;32m----> 1\u001b[1;33m \u001b[1;33m[\u001b[0m\u001b[1;34m'aaa'\u001b[0m\u001b[1;33m,\u001b[0m\u001b[1;34m'bbb'\u001b[0m\u001b[1;33m]\u001b[0m\u001b[1;33m.\u001b[0m\u001b[0mreplace\u001b[0m\u001b[1;33m(\u001b[0m\u001b[1;34m'aaa'\u001b[0m\u001b[1;33m,\u001b[0m\u001b[1;34m'xxx'\u001b[0m\u001b[1;33m)\u001b[0m\u001b[1;33m\u001b[0m\u001b[1;33m\u001b[0m\u001b[0m\n\u001b[0m",
      "\u001b[1;31mAttributeError\u001b[0m: 'list' object has no attribute 'replace'"
     ]
    }
   ],
   "source": [
    "['aaa','bbb'].replace('aaa','xxx')"
   ]
  },
  {
   "cell_type": "code",
   "execution_count": 4,
   "metadata": {},
   "outputs": [],
   "source": [
    "current_page = 1\n",
    "max_pages = 8\n",
    "wait_time = 0\n",
    "df = pd.DataFrame()"
   ]
  },
  {
   "cell_type": "code",
   "execution_count": 5,
   "metadata": {},
   "outputs": [
    {
     "name": "stdout",
     "output_type": "stream",
     "text": [
      "Parsing page 1 of 8\n",
      "Parsing page 2 of 8\n",
      "Parsing page 3 of 8\n",
      "Parsing page 4 of 8\n",
      "Parsing page 5 of 8\n",
      "Parsing page 6 of 8\n",
      "Parsing page 7 of 8\n",
      "Parsing page 8 of 8\n"
     ]
    }
   ],
   "source": [
    "while current_page <= max_pages:\n",
    "    while True:\n",
    "        try:\n",
    "            listing_page_url = URL.format(page_no=current_page)\n",
    "            listing_page_ = ListingPage(url=listing_page_url)\n",
    "            apartment_url_list = listing_page_.get_listing_urls()\n",
    "            # max_pages = listing_page_.get_max_pages()\n",
    "            print(f'Parsing page {current_page} of {max_pages}')\n",
    "        except:\n",
    "            wait_time = wait_time+300\n",
    "            print(f'Error during parsing the listing page: {listing_page_url} at {current_page} page. Waiting {int(wait_time/60)} minutes and will try again')\n",
    "            if wait_time >= 1500:\n",
    "                err2 = listing_page_.get_html()\n",
    "                sys.exit(\"Too many trials. Arborting the script.\")\n",
    "            else:\n",
    "                time.sleep(wait_time)\n",
    "            continue\n",
    "        break\n",
    "\n",
    "\n",
    "    for apartment_url in apartment_url_list:\n",
    "        while True:\n",
    "            try:\n",
    "                apartment_ = Apartment(url=apartment_url)\n",
    "                apartment_parameters = apartment_.get_parameters()\n",
    "                df_ = pd.DataFrame([apartment_parameters])\n",
    "                df = pd.concat([df,df_],axis=0,ignore_index=True)\n",
    "            except:\n",
    "                wait_time = wait_time+300\n",
    "                print(f'Error during parsing the apartment: {apartment_url} at {current_page} page. Waiting {int(wait_time/60)} minutes and will try again')\n",
    "                if wait_time >= 1500:\n",
    "                    err1 = apartment_.get_html()\n",
    "                    sys.exit(\"Too many trials. Arborting the script.\")\n",
    "                else:\n",
    "                    time.sleep(wait_time)\n",
    "                continue\n",
    "            break\n",
    "\n",
    "    current_page = current_page + 1\n",
    "        "
   ]
  },
  {
   "cell_type": "code",
   "execution_count": 16,
   "metadata": {},
   "outputs": [
    {
     "name": "stdout",
     "output_type": "stream",
     "text": [
      "Stored 'df' (DataFrame)\n"
     ]
    }
   ],
   "source": [
    "%store df"
   ]
  },
  {
   "cell_type": "code",
   "execution_count": 15,
   "metadata": {},
   "outputs": [
    {
     "data": {
      "text/plain": [
       "Standard     27\n",
       "Luxurious    10\n",
       "Name: Designe, dtype: int64"
      ]
     },
     "execution_count": 15,
     "metadata": {},
     "output_type": "execute_result"
    }
   ],
   "source": [
    "df['Designe'].value_counts()"
   ]
  },
  {
   "cell_type": "code",
   "execution_count": 7,
   "metadata": {},
   "outputs": [
    {
     "data": {
      "text/plain": [
       "Index(['Price', 'Fees', 'Refundable security deposit', 'Listing ID', 'Layout',\n",
       "       'Avaliable from', 'Floor', 'Building type', 'Heating', 'Floor space',\n",
       "       'Fully furnished', 'Condition', 'Ownership', 'EPC', 'New-build',\n",
       "       'public_transport', 'post', 'shop', 'bank', 'restaurant', 'pharmacy',\n",
       "       'school', 'kindergarten', 'sports_field', 'playground', 'District',\n",
       "       'Latitude', 'Longitude', 'Lift', 'Parking', 'Enclosed balcony',\n",
       "       'Cellar', 'Balcony', 'Designe', 'Garage', 'Age', 'Terrace',\n",
       "       'Reconstruction', 'Administrative fee'],\n",
       "      dtype='object')"
      ]
     },
     "execution_count": 7,
     "metadata": {},
     "output_type": "execute_result"
    }
   ],
   "source": [
    "df.columns"
   ]
  },
  {
   "cell_type": "code",
   "execution_count": null,
   "metadata": {},
   "outputs": [],
   "source": [
    ",,,\n",
    ",,,Loggia,,,,,\n",
    ",,,,,,Design,Total number of floors,,,,Investment Advisor,"
   ]
  },
  {
   "cell_type": "code",
   "execution_count": 18,
   "metadata": {},
   "outputs": [],
   "source": [
    "'' ????\n",
    "'New-build' ???\n",
    "Enclosed balcony ???\n",
    "Designe ???"
   ]
  },
  {
   "cell_type": "code",
   "execution_count": null,
   "metadata": {},
   "outputs": [],
   "source": [
    "        .replace('Building type','Building Type')\n",
    "        .replace('Floor space','Floor Space')\n",
    "        .replace('Ownership','Ownership Type')\n",
    "        .replace('EPC','PENB')\n",
    "        .replace('public_transport','Public transport stop')\n",
    "        .replace('post','Post office')   \n",
    "        .replace('shop','Shop')\n",
    "        .replace('bank','Bank')\n",
    "        .replace('restaurant','Restaurant')     \n",
    "        .replace('pharmacy','Pharmacy')     \n",
    "        .replace('school','School') \n",
    "        .replace('kindergarten','Kindergarten')   \n",
    "        .replace('sports_field','Sports field')        \n",
    "        .replace('playground','Playground')         \n",
    "        .replace('Reconstruction','Renovation')   \n",
    "        .replace('Administrative fee','Administration fee')   \n",
    "        .replace('Fully furnished','Furnishing and Fittings')                                  "
   ]
  },
  {
   "cell_type": "code",
   "execution_count": 17,
   "metadata": {},
   "outputs": [
    {
     "ename": "TypeError",
     "evalue": "'NoneType' object is not iterable",
     "output_type": "error",
     "traceback": [
      "\u001b[1;31m---------------------------------------------------------------------------\u001b[0m",
      "\u001b[1;31mTypeError\u001b[0m                                 Traceback (most recent call last)",
      "\u001b[1;32m<ipython-input-17-2b0728c383fd>\u001b[0m in \u001b[0;36m<module>\u001b[1;34m\u001b[0m\n\u001b[1;32m----> 1\u001b[1;33m \u001b[1;33m[\u001b[0m\u001b[0mkey\u001b[0m \u001b[1;32mfor\u001b[0m \u001b[0mkey\u001b[0m \u001b[1;32min\u001b[0m \u001b[0ma\u001b[0m\u001b[1;33m]\u001b[0m\u001b[1;33m\u001b[0m\u001b[1;33m\u001b[0m\u001b[0m\n\u001b[0m",
      "\u001b[1;31mTypeError\u001b[0m: 'NoneType' object is not iterable"
     ]
    }
   ],
   "source": [
    "[key for key in a]"
   ]
  },
  {
   "cell_type": "code",
   "execution_count": 20,
   "metadata": {},
   "outputs": [
    {
     "ename": "AttributeError",
     "evalue": "'NoneType' object has no attribute 'find_all'",
     "output_type": "error",
     "traceback": [
      "\u001b[1;31m---------------------------------------------------------------------------\u001b[0m",
      "\u001b[1;31mAttributeError\u001b[0m                            Traceback (most recent call last)",
      "\u001b[1;32m<ipython-input-20-2d8678b5dda2>\u001b[0m in \u001b[0;36m<module>\u001b[1;34m\u001b[0m\n\u001b[0;32m      5\u001b[0m \u001b[1;33m\u001b[0m\u001b[0m\n\u001b[0;32m      6\u001b[0m \u001b[0ma2\u001b[0m \u001b[1;33m=\u001b[0m \u001b[0mApartment\u001b[0m\u001b[1;33m(\u001b[0m\u001b[0murl\u001b[0m\u001b[1;33m=\u001b[0m\u001b[1;34m'https://www.bezrealitky.com/properties-flats-hous/720116-nabidka-pronajem-byt'\u001b[0m\u001b[1;33m)\u001b[0m\u001b[1;33m\u001b[0m\u001b[1;33m\u001b[0m\u001b[0m\n\u001b[1;32m----> 7\u001b[1;33m \u001b[0ma2\u001b[0m\u001b[1;33m.\u001b[0m\u001b[0mget_parameters\u001b[0m\u001b[1;33m(\u001b[0m\u001b[1;33m)\u001b[0m\u001b[1;33m\u001b[0m\u001b[1;33m\u001b[0m\u001b[0m\n\u001b[0m",
      "\u001b[1;32m<ipython-input-9-0b76f87fc9ab>\u001b[0m in \u001b[0;36mget_parameters\u001b[1;34m(self)\u001b[0m\n\u001b[0;32m     22\u001b[0m     \u001b[1;32mdef\u001b[0m \u001b[0mget_parameters\u001b[0m\u001b[1;33m(\u001b[0m\u001b[0mself\u001b[0m\u001b[1;33m)\u001b[0m\u001b[1;33m:\u001b[0m\u001b[1;33m\u001b[0m\u001b[1;33m\u001b[0m\u001b[0m\n\u001b[0;32m     23\u001b[0m         \u001b[0mself\u001b[0m\u001b[1;33m.\u001b[0m\u001b[0mprice_table\u001b[0m \u001b[1;33m=\u001b[0m \u001b[0mself\u001b[0m\u001b[1;33m.\u001b[0m\u001b[0msoup\u001b[0m\u001b[1;33m.\u001b[0m\u001b[0mfind\u001b[0m\u001b[1;33m(\u001b[0m\u001b[1;34m'table'\u001b[0m\u001b[1;33m,\u001b[0m\u001b[1;33m{\u001b[0m\u001b[1;34m\"class\"\u001b[0m\u001b[1;33m:\u001b[0m \u001b[1;34m\"PriceTable_priceTable__voQsR priceTable\"\u001b[0m\u001b[1;33m}\u001b[0m\u001b[1;33m)\u001b[0m\u001b[1;33m\u001b[0m\u001b[1;33m\u001b[0m\u001b[0m\n\u001b[1;32m---> 24\u001b[1;33m         \u001b[0mself\u001b[0m\u001b[1;33m.\u001b[0m\u001b[0mprice_parameters\u001b[0m \u001b[1;33m=\u001b[0m \u001b[1;33m[\u001b[0m\u001b[0minstance\u001b[0m\u001b[1;33m.\u001b[0m\u001b[0mfind\u001b[0m\u001b[1;33m(\u001b[0m\u001b[1;34m\"th\"\u001b[0m\u001b[1;33m)\u001b[0m\u001b[1;33m.\u001b[0m\u001b[0mtext\u001b[0m\u001b[1;33m.\u001b[0m\u001b[0mreplace\u001b[0m\u001b[1;33m(\u001b[0m\u001b[1;34m'Basic rent'\u001b[0m\u001b[1;33m,\u001b[0m\u001b[1;34m'Price'\u001b[0m\u001b[1;33m)\u001b[0m\u001b[1;33m.\u001b[0m\u001b[0mreplace\u001b[0m\u001b[1;33m(\u001b[0m\u001b[1;34m'Utility fees'\u001b[0m\u001b[1;33m,\u001b[0m\u001b[1;34m'Fees'\u001b[0m\u001b[1;33m)\u001b[0m \u001b[1;32mfor\u001b[0m \u001b[0minstance\u001b[0m \u001b[1;32min\u001b[0m \u001b[0mself\u001b[0m\u001b[1;33m.\u001b[0m\u001b[0mprice_table\u001b[0m\u001b[1;33m.\u001b[0m\u001b[0mfind_all\u001b[0m\u001b[1;33m(\u001b[0m\u001b[1;34m\"tr\"\u001b[0m\u001b[1;33m)\u001b[0m\u001b[1;33m]\u001b[0m\u001b[1;33m\u001b[0m\u001b[1;33m\u001b[0m\u001b[0m\n\u001b[0m\u001b[0;32m     25\u001b[0m         \u001b[0mself\u001b[0m\u001b[1;33m.\u001b[0m\u001b[0mprice_values\u001b[0m \u001b[1;33m=\u001b[0m \u001b[1;33m[\u001b[0m\u001b[0minstance\u001b[0m\u001b[1;33m.\u001b[0m\u001b[0mfind\u001b[0m\u001b[1;33m(\u001b[0m\u001b[1;34m\"strong\"\u001b[0m\u001b[1;33m)\u001b[0m\u001b[1;33m.\u001b[0m\u001b[0mtext\u001b[0m\u001b[1;33m.\u001b[0m\u001b[0mreplace\u001b[0m\u001b[1;33m(\u001b[0m\u001b[1;34m'\\xa0'\u001b[0m\u001b[1;33m,\u001b[0m\u001b[1;34m' '\u001b[0m\u001b[1;33m)\u001b[0m \u001b[1;32mfor\u001b[0m \u001b[0minstance\u001b[0m \u001b[1;32min\u001b[0m \u001b[0mself\u001b[0m\u001b[1;33m.\u001b[0m\u001b[0mprice_table\u001b[0m\u001b[1;33m.\u001b[0m\u001b[0mfind_all\u001b[0m\u001b[1;33m(\u001b[0m\u001b[1;34m\"tr\"\u001b[0m\u001b[1;33m)\u001b[0m\u001b[1;33m]\u001b[0m\u001b[1;33m\u001b[0m\u001b[1;33m\u001b[0m\u001b[0m\n\u001b[0;32m     26\u001b[0m \u001b[1;33m\u001b[0m\u001b[0m\n",
      "\u001b[1;31mAttributeError\u001b[0m: 'NoneType' object has no attribute 'find_all'"
     ]
    }
   ],
   "source": [
    "import logging\n",
    "import logging.handlers\n",
    "\n",
    "logging.basicConfig(level=logging.INFO, filename='log.log', filemode='w')\n",
    "\n",
    "try:\n",
    "    a2 = Apartment(url='https://www.bezrealitky.com/properties-flats-hous/720116-nabidka-pronajem-byt')\n",
    "    a2.get_parameters\n",
    "\n",
    "logging.exception\n"
   ]
  },
  {
   "cell_type": "code",
   "execution_count": null,
   "metadata": {},
   "outputs": [],
   "source": []
  },
  {
   "cell_type": "code",
   "execution_count": 23,
   "metadata": {},
   "outputs": [],
   "source": [
    "a1 = Apartment(url='https://www.bezrealitky.com/properties-flats-houses/721831-nabidka-pronajem-bytu')\n",
    "t1 = a1.get_html()"
   ]
  },
  {
   "cell_type": "code",
   "execution_count": 25,
   "metadata": {},
   "outputs": [],
   "source": [
    "from email.mime import application\n",
    "import smtplib\n",
    "from email.message import EmailMessage\n",
    "\n",
    "email = EmailMessage()\n",
    "email['from'] = 'Python'\n",
    "email['to'] = 't1.bialy@gmail.com'\n",
    "email['subject'] = 'This is test'\n",
    "email.set_content(\"Ajax\")\n",
    "\n",
    "email.add_attachment(t1,filename='debug.html')\n",
    "\n",
    "\n",
    "with open('log.log','r') as file:\n",
    "    email.add_attachment(file.read(), filename='debug.log')\n",
    "    \n",
    "\n",
    "with smtplib.SMTP(host='smtp.gmail.com', port=587) as smtp:\n",
    "    smtp.ehlo()\n",
    "    smtp.starttls()\n",
    "    smtp.login('sesq.python@gmail.com','xroixvlrmmukydqi')\n",
    "    smtp.send_message(email)"
   ]
  },
  {
   "cell_type": "code",
   "execution_count": 36,
   "metadata": {},
   "outputs": [],
   "source": [
    "aaa = 'xaaaa'"
   ]
  },
  {
   "cell_type": "code",
   "execution_count": null,
   "metadata": {},
   "outputs": [],
   "source": []
  },
  {
   "cell_type": "code",
   "execution_count": 38,
   "metadata": {},
   "outputs": [],
   "source": [
    "class Aaa:\n",
    "    def x(self):\n",
    "        fff = 'TEST'\n",
    "        print(aaa)"
   ]
  },
  {
   "cell_type": "code",
   "execution_count": 39,
   "metadata": {},
   "outputs": [],
   "source": [
    "a = Aaa()"
   ]
  },
  {
   "cell_type": "code",
   "execution_count": 40,
   "metadata": {},
   "outputs": [
    {
     "name": "stdout",
     "output_type": "stream",
     "text": [
      "xaaaa\n"
     ]
    }
   ],
   "source": [
    "a.x()"
   ]
  },
  {
   "cell_type": "code",
   "execution_count": 42,
   "metadata": {},
   "outputs": [
    {
     "ename": "NameError",
     "evalue": "name 'fff' is not defined",
     "output_type": "error",
     "traceback": [
      "\u001b[1;31m---------------------------------------------------------------------------\u001b[0m",
      "\u001b[1;31mNameError\u001b[0m                                 Traceback (most recent call last)",
      "\u001b[1;32m<ipython-input-42-ce90958997c6>\u001b[0m in \u001b[0;36m<module>\u001b[1;34m\u001b[0m\n\u001b[1;32m----> 1\u001b[1;33m \u001b[0mfff\u001b[0m\u001b[1;33m\u001b[0m\u001b[1;33m\u001b[0m\u001b[0m\n\u001b[0m",
      "\u001b[1;31mNameError\u001b[0m: name 'fff' is not defined"
     ]
    }
   ],
   "source": [
    "fff"
   ]
  }
 ],
 "metadata": {
  "kernelspec": {
   "display_name": "Python 3.8.8 ('base')",
   "language": "python",
   "name": "python3"
  },
  "language_info": {
   "codemirror_mode": {
    "name": "ipython",
    "version": 3
   },
   "file_extension": ".py",
   "mimetype": "text/x-python",
   "name": "python",
   "nbconvert_exporter": "python",
   "pygments_lexer": "ipython3",
   "version": "3.8.8"
  },
  "orig_nbformat": 4,
  "vscode": {
   "interpreter": {
    "hash": "ccc39d46d634340ada6859ade381b7590aeee1806ea8ce640dddf23b0821612b"
   }
  }
 },
 "nbformat": 4,
 "nbformat_minor": 2
}
